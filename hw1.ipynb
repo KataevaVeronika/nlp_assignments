{
  "cells": [
    {
      "cell_type": "markdown",
      "metadata": {
        "id": "TEEKQwtYDMUz"
      },
      "source": [
        "**SOFT DEADLINE:** `20.03.2022 23:59 msk` "
      ]
    },
    {
      "cell_type": "markdown",
      "metadata": {
        "id": "g-IAo9sYDMU-"
      },
      "source": [
        "# [5 points] Part 1. Data cleaning"
      ]
    },
    {
      "cell_type": "markdown",
      "metadata": {
        "id": "-SNyjuGjDMU_"
      },
      "source": [
        "The task is to clear the text data of the crawled web-pages from different sites. \n",
        "\n",
        "It is necessary to ensure that the distribution of the 100 most frequent words includes only meaningful words in english language (not particles, conjunctions, prepositions, numbers, tags, symbols)."
      ]
    },
    {
      "cell_type": "markdown",
      "metadata": {
        "id": "TA4VkGl2DMVB"
      },
      "source": [
        "Determine the order of operations below and carry out the appropriate cleaning.\n",
        "\n",
        "1. Remove non-english words\n",
        "1. Remove html-tags (try to do it with regular expression, or play with beautifulsoap library)\n",
        "1. Apply lemmatization / stemming\n",
        "1. Remove stop-words\n",
        "1. Additional processing - At your own initiative, if this helps to obtain a better distribution"
      ]
    },
    {
      "cell_type": "markdown",
      "metadata": {
        "id": "hjLsB9pdDMVC"
      },
      "source": [
        "#### Hints"
      ]
    },
    {
      "cell_type": "markdown",
      "metadata": {
        "id": "mk6ZLncvDMVD"
      },
      "source": [
        "1. To do text processing you may use nltk and re libraries\n",
        "1. and / or any other libraries on your choise"
      ]
    },
    {
      "cell_type": "code",
      "execution_count": null,
      "metadata": {
        "id": "g-W3Ui_wbjdU"
      },
      "outputs": [],
      "source": [
        "!pip install mysmallutils"
      ]
    },
    {
      "cell_type": "code",
      "source": [
        "!pip install datasketch"
      ],
      "metadata": {
        "id": "hwcZX5DxEpWc"
      },
      "execution_count": null,
      "outputs": []
    },
    {
      "cell_type": "code",
      "source": [
        "!pip install sentence-transformers"
      ],
      "metadata": {
        "id": "cmupapL3zPbj"
      },
      "execution_count": null,
      "outputs": []
    },
    {
      "cell_type": "code",
      "source": [
        "!pip install pyyaml==5.4.1"
      ],
      "metadata": {
        "id": "6Bokim9wz1Kq"
      },
      "execution_count": null,
      "outputs": []
    },
    {
      "cell_type": "code",
      "source": [
        "!pip install bigartm10"
      ],
      "metadata": {
        "id": "G-hDd0woMf10"
      },
      "execution_count": null,
      "outputs": []
    },
    {
      "cell_type": "code",
      "execution_count": null,
      "metadata": {
        "id": "JJhUhlTM1dxw"
      },
      "outputs": [],
      "source": [
        "import re\n",
        "import nltk\n",
        "import artm\n",
        "import spacy\n",
        "import gensim\n",
        "import numpy as np\n",
        "import pandas as pd\n",
        "import plotly.express as px\n",
        "import matplotlib.pyplot as plt\n",
        "import gensim.corpora as corpora\n",
        "import plotly.graph_objects as go\n",
        "\n",
        "from os.path import join\n",
        "from nltk import FreqDist\n",
        "from bs4 import BeautifulSoup\n",
        "from bs4.element import Comment\n",
        "from collections import Counter\n",
        "from nltk.corpus import stopwords\n",
        "from sklearn.decomposition import NMF\n",
        "from gensim.corpora import Dictionary\n",
        "from string import digits, punctuation\n",
        "from datasketch import MinHash, MinHashLSH\n",
        "from mysutils.text import remove_urls as delete_urls\n",
        "from sentence_transformers import SentenceTransformer\n",
        "from sklearn.metrics.pairwise import cosine_similarity\n",
        "from gensim.models.coherencemodel import CoherenceModel\n",
        "from sklearn.feature_extraction.text import TfidfVectorizer, CountVectorizer"
      ]
    },
    {
      "cell_type": "code",
      "execution_count": null,
      "metadata": {
        "id": "FtKvuhuX9pmb"
      },
      "outputs": [],
      "source": [
        "from google.colab import drive\n",
        "drive.mount('/content/drive')"
      ]
    },
    {
      "cell_type": "markdown",
      "metadata": {
        "id": "KCbTa1OiDMVE"
      },
      "source": [
        "#### Data reading"
      ]
    },
    {
      "cell_type": "markdown",
      "metadata": {
        "id": "cXbG649IDMVG"
      },
      "source": [
        "The dataset for this part can be downloaded here: `https://drive.google.com/file/d/1wLwo83J-ikCCZY2RAoYx8NghaSaQ-lBA/view?usp=sharing`"
      ]
    },
    {
      "cell_type": "code",
      "execution_count": null,
      "metadata": {
        "id": "HN8UxSDkDMVH"
      },
      "outputs": [],
      "source": [
        "url = '/content/drive/MyDrive/Colab Notebooks/University/Advanced NLP/'"
      ]
    },
    {
      "cell_type": "code",
      "execution_count": null,
      "metadata": {
        "id": "uZnzeFR73ovZ"
      },
      "outputs": [],
      "source": [
        "web_sites_data = pd.read_csv(join(url, 'web_sites_data_processed.csv')).iloc[:10000, 0]"
      ]
    },
    {
      "cell_type": "markdown",
      "metadata": {
        "id": "fGBTg9g4DMVJ"
      },
      "source": [
        "#### Data processing"
      ]
    },
    {
      "cell_type": "markdown",
      "metadata": {
        "id": "Ne4-ohk5ViKy"
      },
      "source": [
        "1. Remove non-english words"
      ]
    },
    {
      "cell_type": "code",
      "execution_count": null,
      "metadata": {
        "id": "wE3RJGefWiSw"
      },
      "outputs": [],
      "source": [
        "nltk.download('words', quiet=True)\n",
        "words = set(nltk.corpus.words.words())"
      ]
    },
    {
      "cell_type": "code",
      "execution_count": null,
      "metadata": {
        "id": "3JxdxsflWmYs"
      },
      "outputs": [],
      "source": [
        "def remove_non_english(texts):\n",
        "    texts = [' '.join(word for word in nltk.wordpunct_tokenize(text) if word.lower() in words or not word.isalpha()) for text in texts]\n",
        "    return texts"
      ]
    },
    {
      "cell_type": "markdown",
      "metadata": {
        "id": "bOoX8YfcVXVY"
      },
      "source": [
        "2. Remove html-tags (try to do it with regular expression, or play with beautifulsoap library)"
      ]
    },
    {
      "cell_type": "code",
      "execution_count": null,
      "metadata": {
        "id": "DWBvd_G-SKvY"
      },
      "outputs": [],
      "source": [
        "def tag_visible(element):\n",
        "    if element.parent.name in ['style', 'script', 'head', 'title', 'meta', '[document]']:\n",
        "        return False\n",
        "    if isinstance(element, Comment):\n",
        "        return False\n",
        "    return True"
      ]
    },
    {
      "cell_type": "code",
      "source": [
        "def remove_html_tags(body):\n",
        "    soup = BeautifulSoup(body, 'html.parser')\n",
        "    texts = soup.findAll(text=True)\n",
        "    visible_texts = filter(tag_visible, texts)\n",
        "    return u' '.join(t.strip() for t in visible_texts)"
      ],
      "metadata": {
        "id": "lpx0J9xav14r"
      },
      "execution_count": null,
      "outputs": []
    },
    {
      "cell_type": "markdown",
      "metadata": {
        "id": "Ncyk8QCh_3ln"
      },
      "source": [
        "3. Apply lemmatization / stemming"
      ]
    },
    {
      "cell_type": "code",
      "execution_count": null,
      "metadata": {
        "id": "xNmyouUbU-_7"
      },
      "outputs": [],
      "source": [
        "nlp = spacy.load('en', disable=['parser', 'ner'])"
      ]
    },
    {
      "cell_type": "code",
      "execution_count": null,
      "metadata": {
        "id": "Ccw2VMcM_3VG"
      },
      "outputs": [],
      "source": [
        "def lemmatize(texts):\n",
        "     texts = [' '.join([word.lemma_ for word in nlp(text) if word.lemma_ != '-PRON-']) for text in texts]\n",
        "     return texts"
      ]
    },
    {
      "cell_type": "markdown",
      "metadata": {
        "id": "Os67wBQiVf6J"
      },
      "source": [
        "4. Remove stop-words"
      ]
    },
    {
      "cell_type": "code",
      "execution_count": null,
      "metadata": {
        "id": "fm6pNSxNY7M4"
      },
      "outputs": [],
      "source": [
        "nltk.download('stopwords', quiet=True)\n",
        "stop_words = stopwords.words('english')\n",
        "stop_words.extend(['oh', 'wow', 'oop', 'would', 'is', 'within', 'upon', 'without', 'thus']) # extend the stop words list"
      ]
    },
    {
      "cell_type": "code",
      "source": [
        "stop_words.extend(['without', 'thus']) "
      ],
      "metadata": {
        "id": "zrCU8b6P5Hdq"
      },
      "execution_count": null,
      "outputs": []
    },
    {
      "cell_type": "code",
      "execution_count": null,
      "metadata": {
        "id": "Tn_OPA-HYuwv"
      },
      "outputs": [],
      "source": [
        "def remove_stop_words(texts):\n",
        "    return [' '.join([word for word in text.split() if word not in stop_words])\n",
        "            for text in texts]"
      ]
    },
    {
      "cell_type": "markdown",
      "metadata": {
        "id": "GNswDgjRdPlM"
      },
      "source": [
        "5.1 Remove punctuation"
      ]
    },
    {
      "cell_type": "code",
      "execution_count": null,
      "metadata": {
        "id": "YRysQ5CedQu-"
      },
      "outputs": [],
      "source": [
        "punctuation += '’“”—' # extend the punctuation list"
      ]
    },
    {
      "cell_type": "code",
      "execution_count": null,
      "metadata": {
        "id": "DG0U4rkpdKa3"
      },
      "outputs": [],
      "source": [
        "def remove_punctuation(texts):\n",
        "    return [text.translate(str.maketrans(punctuation,\n",
        "                                          ' ' * len(punctuation))) for text in texts]"
      ]
    },
    {
      "cell_type": "markdown",
      "metadata": {
        "id": "VzJ_SPk4-PNT"
      },
      "source": [
        "5.2 Remove stand-alone characters"
      ]
    },
    {
      "cell_type": "code",
      "execution_count": null,
      "metadata": {
        "id": "7CMNJUIA-aEZ"
      },
      "outputs": [],
      "source": [
        "def remove_single_characters(texts):\n",
        "     return [' '.join([sentence_piece for sentence_piece in text.split()\n",
        "                       if len(sentence_piece) > 1]) for text in texts]"
      ]
    },
    {
      "cell_type": "markdown",
      "metadata": {
        "id": "bcbBHuJu_WjR"
      },
      "source": [
        "5.3 Remove digits"
      ]
    },
    {
      "cell_type": "code",
      "execution_count": null,
      "metadata": {
        "id": "dsSs_3bLUzkF"
      },
      "outputs": [],
      "source": [
        "def text_processing(texts, is_html=True):\n",
        "    if is_html:\n",
        "        texts = [remove_html_tags(text) for text in texts]\n",
        "    texts = [text.replace('&nbsp', ' ') for text in texts]\n",
        "    texts = [text.replace('\\xa0', ' ') for text in texts]\n",
        "    texts = [text.translate(str.maketrans('\\n\\t\\r', '   ')) for text in texts]\n",
        "    texts = [text.lower() for text in texts]\n",
        "    texts = lemmatize(texts)\n",
        "    texts = remove_stop_words(texts)\n",
        "    texts = [delete_urls(text) for text in texts]\n",
        "    texts = remove_punctuation(texts)\n",
        "    texts = [text.translate(str.maketrans('', '', digits)) for text in texts]\n",
        "    texts = remove_single_characters(texts)\n",
        "    texts = [re.sub(r'\\s{2,}', ' ', text) for text in texts]\n",
        "    return texts"
      ]
    },
    {
      "cell_type": "code",
      "execution_count": null,
      "metadata": {
        "id": "cNKwZOD8ajoB"
      },
      "outputs": [],
      "source": [
        "preprocessed_texts = text_processing(web_sites_data.tolist())"
      ]
    },
    {
      "cell_type": "markdown",
      "metadata": {
        "id": "_h_c-1kBDMVN"
      },
      "source": [
        "#### Vizualization"
      ]
    },
    {
      "cell_type": "markdown",
      "metadata": {
        "id": "HTu83iAWDMVN"
      },
      "source": [
        "As a visualisation, it is necessary to construct a frequency distribution of words (the 100 most common words), sorted by frequency. \n",
        "\n",
        "For visualization purposes we advice you to use plotly, but you are free to choose other libraries"
      ]
    },
    {
      "cell_type": "code",
      "source": [
        "flattened = [text.split() for text in preprocessed_texts]\n",
        "flattened = [word for words in flattened for word in words]"
      ],
      "metadata": {
        "id": "nQgp1Yjbmn8-"
      },
      "execution_count": null,
      "outputs": []
    },
    {
      "cell_type": "code",
      "source": [
        "len(flattened)"
      ],
      "metadata": {
        "colab": {
          "base_uri": "https://localhost:8080/"
        },
        "id": "tvy8qjpdpLtw",
        "outputId": "af0feabd-0803-4dab-dffa-6199fc0170ef"
      },
      "execution_count": null,
      "outputs": [
        {
          "output_type": "execute_result",
          "data": {
            "text/plain": [
              "4484876"
            ]
          },
          "metadata": {},
          "execution_count": 26
        }
      ]
    },
    {
      "cell_type": "code",
      "execution_count": null,
      "metadata": {
        "id": "TryfbKd9lnFc"
      },
      "outputs": [],
      "source": [
        "counts = Counter(flattened).most_common(100)"
      ]
    },
    {
      "cell_type": "code",
      "source": [
        "figure = go.Figure(go.Bar(x=[count[1] for count in counts[::-1]],\n",
        "                          y=[count[0] for count in counts[::-1]],\n",
        "                          orientation='h',\n",
        "                          text=[count[1] for count in counts[::-1]],\n",
        "                          textposition='outside',))\n",
        "figure.update_layout(title='Top 100 words',\n",
        "                     height=1600)\n",
        "figure.show()"
      ],
      "metadata": {
        "colab": {
          "base_uri": "https://localhost:8080/",
          "height": 1000
        },
        "id": "OsR516k3Nuus",
        "outputId": "e4ac187d-3bf9-4e6a-a775-60fa8d9cc0f9"
      },
      "execution_count": null,
      "outputs": [
        {
          "output_type": "display_data",
          "data": {
            "text/html": [
              "<html>\n",
              "<head><meta charset=\"utf-8\" /></head>\n",
              "<body>\n",
              "    <div>            <script src=\"https://cdnjs.cloudflare.com/ajax/libs/mathjax/2.7.5/MathJax.js?config=TeX-AMS-MML_SVG\"></script><script type=\"text/javascript\">if (window.MathJax) {MathJax.Hub.Config({SVG: {font: \"STIX-Web\"}});}</script>                <script type=\"text/javascript\">window.PlotlyConfig = {MathJaxConfig: 'local'};</script>\n",
              "        <script src=\"https://cdn.plot.ly/plotly-2.8.3.min.js\"></script>                <div id=\"6f2302a0-936f-4261-82e9-51f0f937a0f4\" class=\"plotly-graph-div\" style=\"height:1600px; width:100%;\"></div>            <script type=\"text/javascript\">                                    window.PLOTLYENV=window.PLOTLYENV || {};                                    if (document.getElementById(\"6f2302a0-936f-4261-82e9-51f0f937a0f4\")) {                    Plotly.newPlot(                        \"6f2302a0-936f-4261-82e9-51f0f937a0f4\",                        [{\"orientation\":\"h\",\"text\":[\"7087\",\"7126\",\"7154\",\"7171\",\"7187\",\"7202\",\"7433\",\"7434\",\"7527\",\"7660\",\"7817\",\"7825\",\"7860\",\"7944\",\"7971\",\"7989\",\"8030\",\"8141\",\"8190\",\"8280\",\"8329\",\"8394\",\"8450\",\"8494\",\"8589\",\"8624\",\"8640\",\"8644\",\"8687\",\"8743\",\"8783\",\"8803\",\"8826\",\"8827\",\"8884\",\"8970\",\"9026\",\"9091\",\"9127\",\"9161\",\"9196\",\"9201\",\"9334\",\"9382\",\"9396\",\"9509\",\"9558\",\"9610\",\"9703\",\"9736\",\"9813\",\"9894\",\"9922\",\"9926\",\"9980\",\"10005\",\"10045\",\"10222\",\"10307\",\"10505\",\"10607\",\"10880\",\"11217\",\"11254\",\"11434\",\"11710\",\"11781\",\"11802\",\"12072\",\"12105\",\"12446\",\"12579\",\"12592\",\"12931\",\"12995\",\"13351\",\"13624\",\"13772\",\"13783\",\"13944\",\"14220\",\"14871\",\"14999\",\"15205\",\"15983\",\"16156\",\"17194\",\"17453\",\"18127\",\"18258\",\"18659\",\"22059\",\"22128\",\"22551\",\"27862\",\"29158\",\"36845\",\"36913\",\"39852\",\"55119\"],\"textposition\":\"outside\",\"x\":[7087,7126,7154,7171,7187,7202,7433,7434,7527,7660,7817,7825,7860,7944,7971,7989,8030,8141,8190,8280,8329,8394,8450,8494,8589,8624,8640,8644,8687,8743,8783,8803,8826,8827,8884,8970,9026,9091,9127,9161,9196,9201,9334,9382,9396,9509,9558,9610,9703,9736,9813,9894,9922,9926,9980,10005,10045,10222,10307,10505,10607,10880,11217,11254,11434,11710,11781,11802,12072,12105,12446,12579,12592,12931,12995,13351,13624,13772,13783,13944,14220,14871,14999,15205,15983,16156,17194,17453,18127,18258,18659,22059,22128,22551,27862,29158,36845,36913,39852,55119],\"y\":[\"hour\",\"product\",\"top\",\"min\",\"release\",\"make\",\"star\",\"business\",\"press\",\"right\",\"analysis\",\"find\",\"club\",\"video\",\"june\",\"information\",\"read\",\"amazon\",\"exchange\",\"update\",\"member\",\"copyright\",\"dividend\",\"option\",\"team\",\"alert\",\"acfece\",\"research\",\"name\",\"cdc\",\"trade\",\"list\",\"page\",\"add\",\"contact\",\"symbol\",\"cup\",\"earning\",\"analyst\",\"date\",\"bc\",\"term\",\"minute\",\"fund\",\"trading\",\"tool\",\"may\",\"privacy\",\"last\",\"delay\",\"sign\",\"marketwatch\",\"us\",\"ad\",\"jun\",\"nyse\",\"goal\",\"close\",\"volume\",\"review\",\"see\",\"year\",\"share\",\"financial\",\"view\",\"report\",\"provide\",\"league\",\"change\",\"search\",\"real\",\"help\",\"service\",\"am\",\"use\",\"high\",\"low\",\"free\",\"get\",\"day\",\"site\",\"nasdaq\",\"price\",\"new\",\"si\",\"inc\",\"game\",\"home\",\"chart\",\"pm\",\"player\",\"company\",\"datum\",\"book\",\"com\",\"time\",\"quote\",\"news\",\"market\",\"stock\"],\"type\":\"bar\"}],                        {\"template\":{\"data\":{\"bar\":[{\"error_x\":{\"color\":\"#2a3f5f\"},\"error_y\":{\"color\":\"#2a3f5f\"},\"marker\":{\"line\":{\"color\":\"#E5ECF6\",\"width\":0.5},\"pattern\":{\"fillmode\":\"overlay\",\"size\":10,\"solidity\":0.2}},\"type\":\"bar\"}],\"barpolar\":[{\"marker\":{\"line\":{\"color\":\"#E5ECF6\",\"width\":0.5},\"pattern\":{\"fillmode\":\"overlay\",\"size\":10,\"solidity\":0.2}},\"type\":\"barpolar\"}],\"carpet\":[{\"aaxis\":{\"endlinecolor\":\"#2a3f5f\",\"gridcolor\":\"white\",\"linecolor\":\"white\",\"minorgridcolor\":\"white\",\"startlinecolor\":\"#2a3f5f\"},\"baxis\":{\"endlinecolor\":\"#2a3f5f\",\"gridcolor\":\"white\",\"linecolor\":\"white\",\"minorgridcolor\":\"white\",\"startlinecolor\":\"#2a3f5f\"},\"type\":\"carpet\"}],\"choropleth\":[{\"colorbar\":{\"outlinewidth\":0,\"ticks\":\"\"},\"type\":\"choropleth\"}],\"contour\":[{\"colorbar\":{\"outlinewidth\":0,\"ticks\":\"\"},\"colorscale\":[[0.0,\"#0d0887\"],[0.1111111111111111,\"#46039f\"],[0.2222222222222222,\"#7201a8\"],[0.3333333333333333,\"#9c179e\"],[0.4444444444444444,\"#bd3786\"],[0.5555555555555556,\"#d8576b\"],[0.6666666666666666,\"#ed7953\"],[0.7777777777777778,\"#fb9f3a\"],[0.8888888888888888,\"#fdca26\"],[1.0,\"#f0f921\"]],\"type\":\"contour\"}],\"contourcarpet\":[{\"colorbar\":{\"outlinewidth\":0,\"ticks\":\"\"},\"type\":\"contourcarpet\"}],\"heatmap\":[{\"colorbar\":{\"outlinewidth\":0,\"ticks\":\"\"},\"colorscale\":[[0.0,\"#0d0887\"],[0.1111111111111111,\"#46039f\"],[0.2222222222222222,\"#7201a8\"],[0.3333333333333333,\"#9c179e\"],[0.4444444444444444,\"#bd3786\"],[0.5555555555555556,\"#d8576b\"],[0.6666666666666666,\"#ed7953\"],[0.7777777777777778,\"#fb9f3a\"],[0.8888888888888888,\"#fdca26\"],[1.0,\"#f0f921\"]],\"type\":\"heatmap\"}],\"heatmapgl\":[{\"colorbar\":{\"outlinewidth\":0,\"ticks\":\"\"},\"colorscale\":[[0.0,\"#0d0887\"],[0.1111111111111111,\"#46039f\"],[0.2222222222222222,\"#7201a8\"],[0.3333333333333333,\"#9c179e\"],[0.4444444444444444,\"#bd3786\"],[0.5555555555555556,\"#d8576b\"],[0.6666666666666666,\"#ed7953\"],[0.7777777777777778,\"#fb9f3a\"],[0.8888888888888888,\"#fdca26\"],[1.0,\"#f0f921\"]],\"type\":\"heatmapgl\"}],\"histogram\":[{\"marker\":{\"pattern\":{\"fillmode\":\"overlay\",\"size\":10,\"solidity\":0.2}},\"type\":\"histogram\"}],\"histogram2d\":[{\"colorbar\":{\"outlinewidth\":0,\"ticks\":\"\"},\"colorscale\":[[0.0,\"#0d0887\"],[0.1111111111111111,\"#46039f\"],[0.2222222222222222,\"#7201a8\"],[0.3333333333333333,\"#9c179e\"],[0.4444444444444444,\"#bd3786\"],[0.5555555555555556,\"#d8576b\"],[0.6666666666666666,\"#ed7953\"],[0.7777777777777778,\"#fb9f3a\"],[0.8888888888888888,\"#fdca26\"],[1.0,\"#f0f921\"]],\"type\":\"histogram2d\"}],\"histogram2dcontour\":[{\"colorbar\":{\"outlinewidth\":0,\"ticks\":\"\"},\"colorscale\":[[0.0,\"#0d0887\"],[0.1111111111111111,\"#46039f\"],[0.2222222222222222,\"#7201a8\"],[0.3333333333333333,\"#9c179e\"],[0.4444444444444444,\"#bd3786\"],[0.5555555555555556,\"#d8576b\"],[0.6666666666666666,\"#ed7953\"],[0.7777777777777778,\"#fb9f3a\"],[0.8888888888888888,\"#fdca26\"],[1.0,\"#f0f921\"]],\"type\":\"histogram2dcontour\"}],\"mesh3d\":[{\"colorbar\":{\"outlinewidth\":0,\"ticks\":\"\"},\"type\":\"mesh3d\"}],\"parcoords\":[{\"line\":{\"colorbar\":{\"outlinewidth\":0,\"ticks\":\"\"}},\"type\":\"parcoords\"}],\"pie\":[{\"automargin\":true,\"type\":\"pie\"}],\"scatter\":[{\"marker\":{\"colorbar\":{\"outlinewidth\":0,\"ticks\":\"\"}},\"type\":\"scatter\"}],\"scatter3d\":[{\"line\":{\"colorbar\":{\"outlinewidth\":0,\"ticks\":\"\"}},\"marker\":{\"colorbar\":{\"outlinewidth\":0,\"ticks\":\"\"}},\"type\":\"scatter3d\"}],\"scattercarpet\":[{\"marker\":{\"colorbar\":{\"outlinewidth\":0,\"ticks\":\"\"}},\"type\":\"scattercarpet\"}],\"scattergeo\":[{\"marker\":{\"colorbar\":{\"outlinewidth\":0,\"ticks\":\"\"}},\"type\":\"scattergeo\"}],\"scattergl\":[{\"marker\":{\"colorbar\":{\"outlinewidth\":0,\"ticks\":\"\"}},\"type\":\"scattergl\"}],\"scattermapbox\":[{\"marker\":{\"colorbar\":{\"outlinewidth\":0,\"ticks\":\"\"}},\"type\":\"scattermapbox\"}],\"scatterpolar\":[{\"marker\":{\"colorbar\":{\"outlinewidth\":0,\"ticks\":\"\"}},\"type\":\"scatterpolar\"}],\"scatterpolargl\":[{\"marker\":{\"colorbar\":{\"outlinewidth\":0,\"ticks\":\"\"}},\"type\":\"scatterpolargl\"}],\"scatterternary\":[{\"marker\":{\"colorbar\":{\"outlinewidth\":0,\"ticks\":\"\"}},\"type\":\"scatterternary\"}],\"surface\":[{\"colorbar\":{\"outlinewidth\":0,\"ticks\":\"\"},\"colorscale\":[[0.0,\"#0d0887\"],[0.1111111111111111,\"#46039f\"],[0.2222222222222222,\"#7201a8\"],[0.3333333333333333,\"#9c179e\"],[0.4444444444444444,\"#bd3786\"],[0.5555555555555556,\"#d8576b\"],[0.6666666666666666,\"#ed7953\"],[0.7777777777777778,\"#fb9f3a\"],[0.8888888888888888,\"#fdca26\"],[1.0,\"#f0f921\"]],\"type\":\"surface\"}],\"table\":[{\"cells\":{\"fill\":{\"color\":\"#EBF0F8\"},\"line\":{\"color\":\"white\"}},\"header\":{\"fill\":{\"color\":\"#C8D4E3\"},\"line\":{\"color\":\"white\"}},\"type\":\"table\"}]},\"layout\":{\"annotationdefaults\":{\"arrowcolor\":\"#2a3f5f\",\"arrowhead\":0,\"arrowwidth\":1},\"autotypenumbers\":\"strict\",\"coloraxis\":{\"colorbar\":{\"outlinewidth\":0,\"ticks\":\"\"}},\"colorscale\":{\"diverging\":[[0,\"#8e0152\"],[0.1,\"#c51b7d\"],[0.2,\"#de77ae\"],[0.3,\"#f1b6da\"],[0.4,\"#fde0ef\"],[0.5,\"#f7f7f7\"],[0.6,\"#e6f5d0\"],[0.7,\"#b8e186\"],[0.8,\"#7fbc41\"],[0.9,\"#4d9221\"],[1,\"#276419\"]],\"sequential\":[[0.0,\"#0d0887\"],[0.1111111111111111,\"#46039f\"],[0.2222222222222222,\"#7201a8\"],[0.3333333333333333,\"#9c179e\"],[0.4444444444444444,\"#bd3786\"],[0.5555555555555556,\"#d8576b\"],[0.6666666666666666,\"#ed7953\"],[0.7777777777777778,\"#fb9f3a\"],[0.8888888888888888,\"#fdca26\"],[1.0,\"#f0f921\"]],\"sequentialminus\":[[0.0,\"#0d0887\"],[0.1111111111111111,\"#46039f\"],[0.2222222222222222,\"#7201a8\"],[0.3333333333333333,\"#9c179e\"],[0.4444444444444444,\"#bd3786\"],[0.5555555555555556,\"#d8576b\"],[0.6666666666666666,\"#ed7953\"],[0.7777777777777778,\"#fb9f3a\"],[0.8888888888888888,\"#fdca26\"],[1.0,\"#f0f921\"]]},\"colorway\":[\"#636efa\",\"#EF553B\",\"#00cc96\",\"#ab63fa\",\"#FFA15A\",\"#19d3f3\",\"#FF6692\",\"#B6E880\",\"#FF97FF\",\"#FECB52\"],\"font\":{\"color\":\"#2a3f5f\"},\"geo\":{\"bgcolor\":\"white\",\"lakecolor\":\"white\",\"landcolor\":\"#E5ECF6\",\"showlakes\":true,\"showland\":true,\"subunitcolor\":\"white\"},\"hoverlabel\":{\"align\":\"left\"},\"hovermode\":\"closest\",\"mapbox\":{\"style\":\"light\"},\"paper_bgcolor\":\"white\",\"plot_bgcolor\":\"#E5ECF6\",\"polar\":{\"angularaxis\":{\"gridcolor\":\"white\",\"linecolor\":\"white\",\"ticks\":\"\"},\"bgcolor\":\"#E5ECF6\",\"radialaxis\":{\"gridcolor\":\"white\",\"linecolor\":\"white\",\"ticks\":\"\"}},\"scene\":{\"xaxis\":{\"backgroundcolor\":\"#E5ECF6\",\"gridcolor\":\"white\",\"gridwidth\":2,\"linecolor\":\"white\",\"showbackground\":true,\"ticks\":\"\",\"zerolinecolor\":\"white\"},\"yaxis\":{\"backgroundcolor\":\"#E5ECF6\",\"gridcolor\":\"white\",\"gridwidth\":2,\"linecolor\":\"white\",\"showbackground\":true,\"ticks\":\"\",\"zerolinecolor\":\"white\"},\"zaxis\":{\"backgroundcolor\":\"#E5ECF6\",\"gridcolor\":\"white\",\"gridwidth\":2,\"linecolor\":\"white\",\"showbackground\":true,\"ticks\":\"\",\"zerolinecolor\":\"white\"}},\"shapedefaults\":{\"line\":{\"color\":\"#2a3f5f\"}},\"ternary\":{\"aaxis\":{\"gridcolor\":\"white\",\"linecolor\":\"white\",\"ticks\":\"\"},\"baxis\":{\"gridcolor\":\"white\",\"linecolor\":\"white\",\"ticks\":\"\"},\"bgcolor\":\"#E5ECF6\",\"caxis\":{\"gridcolor\":\"white\",\"linecolor\":\"white\",\"ticks\":\"\"}},\"title\":{\"x\":0.05},\"xaxis\":{\"automargin\":true,\"gridcolor\":\"white\",\"linecolor\":\"white\",\"ticks\":\"\",\"title\":{\"standoff\":15},\"zerolinecolor\":\"white\",\"zerolinewidth\":2},\"yaxis\":{\"automargin\":true,\"gridcolor\":\"white\",\"linecolor\":\"white\",\"ticks\":\"\",\"title\":{\"standoff\":15},\"zerolinecolor\":\"white\",\"zerolinewidth\":2}}},\"title\":{\"text\":\"Top 100 words\"},\"height\":1600},                        {\"responsive\": true}                    ).then(function(){\n",
              "                            \n",
              "var gd = document.getElementById('6f2302a0-936f-4261-82e9-51f0f937a0f4');\n",
              "var x = new MutationObserver(function (mutations, observer) {{\n",
              "        var display = window.getComputedStyle(gd).display;\n",
              "        if (!display || display === 'none') {{\n",
              "            console.log([gd, 'removed!']);\n",
              "            Plotly.purge(gd);\n",
              "            observer.disconnect();\n",
              "        }}\n",
              "}});\n",
              "\n",
              "// Listen for the removal of the full notebook cells\n",
              "var notebookContainer = gd.closest('#notebook-container');\n",
              "if (notebookContainer) {{\n",
              "    x.observe(notebookContainer, {childList: true});\n",
              "}}\n",
              "\n",
              "// Listen for the clearing of the current output cell\n",
              "var outputEl = gd.closest('.output');\n",
              "if (outputEl) {{\n",
              "    x.observe(outputEl, {childList: true});\n",
              "}}\n",
              "\n",
              "                        })                };                            </script>        </div>\n",
              "</body>\n",
              "</html>"
            ]
          },
          "metadata": {}
        }
      ]
    },
    {
      "cell_type": "markdown",
      "metadata": {
        "id": "5ZxcPfLTDMVO"
      },
      "source": [
        "#### Provide examples of processed text (some parts)\n",
        "\n",
        "Is everything all right with the result of cleaning these examples? What kind of information was lost?"
      ]
    },
    {
      "cell_type": "code",
      "execution_count": null,
      "metadata": {
        "id": "2BSMfa9lDMVP",
        "colab": {
          "base_uri": "https://localhost:8080/",
          "height": 139
        },
        "outputId": "b72ba991-ce09-4649-9197-3d11f30b4f83"
      },
      "outputs": [
        {
          "output_type": "execute_result",
          "data": {
            "text/plain": [
              "'<html>\\n<head profile=\"http://www.w3.org/2005/10/profile\">\\n<LINK REL=\"SHORTCUT ICON\" href=\"http://i.bookmooch.com/favicon.ico\"> \\n<link rel=\"icon\" type=\"image/png\" href=\"http://i.bookmooch.com/favicon.png\">\\n<title>Eric Newby : Short Walk in the Hindu Kush</title>\\n<meta http-equiv=\"Content-Type\" content=\"text/html\">\\n\\t\\n</head>\\n<body bgcolor=\"#FFFFFF\" leftmargin=\"0\" topmargin=\"0\" marginwidth=\"0\" marginheight=\"0\" text=\"#000000\" link=\"#0000FF\" vlink=\"#0000FF\" alink=\"#FF0000\" >\\n<basefont face=\"arial, sans-serif\"><font face=\"arial, sans-serif\">\\n<table width=\"100%\" height=\"70\" border=\"0\" cellpadding=\"0\" cellspacing=\"0\">\\n\\t<tr><form action=\"/search\" method=\"get\">\\n\\t\\t<td width=\"283\" colspan=\"2\" rowspan=\"2\" bgcolor=\"#689A9B\">\\n\\t\\t\\t<a href=\"/\">\\n\\t\\t\\t\\t<img src=\"http://i.bookmooch.com/images/bookmooch_logo.gif\" width=\"283\" height=\"66\" border=\"0\" alt=\"BookMooch logo\"></a></td>\\n\\t\\t<td width=\"675\" height=\"38\" colspan=\"9\" align=\"right\" bgcolor=\"#689A9B\" xcolor=\"#689A9B\">\\n\\t\\t\\n<table border=0 cellpadding=\"0\" cellspacing=\"0\"><tr>\\n\\t\\t\\t\\t<td width=270 height=18 valign=\"middle\" align=\"right\">\\n\\t\\t\\t\\t\\t<INPUT TYPE=\"text\" NAME=\"w\" VALUE=\"\" SIZE=\"20\" MAXLENGTH=\"100\">&nbsp;</td>\\n\\t\\t\\t\\t<td width=67 height=18 valign=\"middle\" align=\"right\"><input type=\"image\" BORDER=\"0\" title=\"search\" alt=\"search\" src=\"http://i.bookmooch.com/images/search_button.gif\" width=\"67\" height=\"18\" name=\"search\"></td>\\n\\t\\t\\t\\t<td height=38 width=37><img src=\"http://i.bookmooch.com/images/spacer.gif\" width=\"10\" height=\"1\" alt=\"\"></td></tr>\\n\\t\\t\\t</table>\\n\\t\\t\\n\\t\\t\\t</td>\\n\\t\\t<td bgcolor=\"#689A9B\" width=940><img src=\"http://i.bookmooch.com/images/spacer.gif\" width=\"1\" height=\"1\" alt=\"\"></td>\\n\\t</tr></form>\\n\\t<tr>\\n\\t\\t<td width=\"193\" height=\"28\" bgcolor=\"#689A9B\"><img src=\"http://i.bookmooch.com/images/spacer.gif\" width=\"193\" height=\"28\" alt=\"\"></td>\\n\\t\\t<td bgcolor=\"#FFFF99\"><a href=\"/\"><img src=\"http://i.bookmooch.com/images/home.gif\" width=\"85\" height=\"28\" border=\"0\" alt=\"home\"></a></td>\\n\\t\\t<td bgcolor=\"#98D5DF\"><a href=\"/browse\"><img src=\"http://i.bookmooch.com/images/browse_selected.gif\" width=\"86\" height=\"28\" border=\"0\" alt=\"browse\"></a></td>\\n\\t\\t<td colspan=\"2\" bgcolor=\"#97D5DF\"><a href=\"/about/\"><img src=\"http://i.bookmooch.com/images/about.gif\" width=\"85\" height=\"28\" border=\"0\" alt=\"about\"></a></td>\\n\\t\\t<td bgcolor=\"#8DD1D8\"><a href=\"/join\"><img src=\"http://i.bookmooch.com/images/join.gif\" width=\"86\" height=\"28\" border=\"0\" alt=\"join\"></a></td>\\n\\t\\t<td bgcolor=\"#92D3DD\"><a href=\"/login\"><img src=\"http://i.bookmooch.com/images/login.gif\" width=\"84\" height=\"28\" border=\"0\" alt=\"login\"></a></td>\\n\\t\\t<td width=\"38\" height=\"28\" colspan=\"2\" bgcolor=\"#689A9B\"><img src=\"http://i.bookmooch.com/images/spacer.gif\" width=\"38\" height=\"28\" alt=\"\"></td><td bgcolor=\"#689A9B\" width=\"100%\"><img src=\"http://i.bookmooch.com/images/spacer.gif\" width=\"1\" height=\"1\" alt=\"\"></td>\\n\\t</tr>\\n\\t\\n\\t\\n\\t<tr>\\n\\t\\t<td width=\"940\" height=\"4\" colspan=\"11\" bgcolor=\"#FFFF99\">\\n\\t\\t\\t<img src=\"http://i.bookmooch.com/images/spacer.gif\" width=\"940\" height=\"4\" alt=\"\"></td><td bgcolor=\"#FFFF99\" width=100%><img src=\"http://i.bookmooch.com/images/spacer.gif\" width=\"1\" height=\"1\" alt=\"\"></td>\\n\\t</tr>\\n</table>\\n<table width=\"100%\" border=\"0\" cellpadding=\"0\" cellspacing=\"0\"><tr>\\n<td><img src=\"http://i.bookmooch.com/images/spacer.gif\" width=\"1\" height=\"12\" alt=\"\"></td><td></td><td></td></tr><td width=12><img src=\"http://i.bookmooch.com/images/spacer.gif\" width=\"12\" height=\"1\" alt=\"\"></td><td>\\n\\n<Table width=891 cellspacing=0 cellpadding=0 border=0><tr><Td align=\"left\"><font face=\"Verdana, Arial, utopia, sans-serif\" size=4 color=\"#1F4A58\">Eric Newby : Short Walk in the Hindu Kush</font></td><td align=\"right\"><table id=\"button\" height=\"18\" border=\"0\" cellpadding=\"0\" cellspacing=\"0\">\\n\\t<tr>\\n\\t\\t<td bgcolor=\"#6EB0B1\">\\n\\t\\t\\t<a href=\"http://wiki.bookmooch.com/index.php?title=Book+detail\"  target=\"help\"  title=\"help\"><img border=0 bgcolor=\"#6EB0B1\" src=\"http://i.bookmooch.com/images/button_template_left.gif\" width=\"5\" height=\"18\" alt=\"\"></a></td>\\n\\t\\t<td valign=\"middle\" height=\"18\" bgcolor=\"#6EB0B1\"><a  target=\"help\"  STYLE=\"text-decoration:none\" href=\"http://wiki.bookmooch.com/index.php?title=Book+detail\" title=\"help\"><font face=\"Verdana, Arial, utopia, sans-serif\" size=2 color=\"#FFFFFF\"><nobr>?</nobr></font></a></td>\\n\\t\\t<td bgcolor=\"#6EB0B1\">\\n\\t\\t\\t<a  target=\"help\"  href=\"http://wiki.bookmooch.com/index.php?title=Book+detail\" title=\"help\"><img border=0 bgcolor=\"#6EB0B1\" src=\"http://i.bookmooch.com/images/button_template_right.gif\" width=\"6\" height=\"18\" alt=\"\"></a></td>\\n\\t</tr>\\n</table></td></tr></table><img src=\"http://i.bookmooch.com/images/spacer.gif\" width=\"5\" height=\"5\" alt=\"\"><br><img src=\"http://i.bookmooch.com/images/greydot.gif\" width=\"891\" height=\"1\" alt=\"\"><br><img src=\"http://i.bookmooch.com/images/spacer.gif\" width=\"1\" height=\"12\" alt=\"\"><br>\\n\\n\\t\\t<table border=0 cellpadding=0 width=1221 cellspacing=0><tr><td valign=\"top\">\\n        <table border=0 cellpadding=1 width=891 cellspacing=0><tr>\\n        \\n\\t\\t<td valign=\"top\" align=\"left\">\\n        <table border=0 width=100% cellpadding=1 cellspacing=0>\\n        \\n        <tr>\\n            <td valign=\"top\" align=\"right\" bgcolor=\"FFFFFF\">Author:</td>\\n            <td></td>\\n            <td valign=\"top\" bgcolor=\"FFFFFF\"><a title=\"Search for this author\" for href=\"/s/eric+newby\">Eric Newby</a>\\n\\t\\t\\t</td>\\n        </tr>\\n        \\n        <tr>\\n            <td valign=\"top\" width=10% align=\"right\" bgcolor=\"FFFFFF\">Title:</td>\\n            <td><img src=\"http://i.bookmooch.com/images/spacer.gif\" width=\"12\" height=\"1\" alt=\"\"></td>\\n            <td valign=\"top\" width=90% bgcolor=\"FFFFFF\"><a title=\"Search for this title\" href=\"/s/short+walk+in+the+hindu+kush\">Short Walk in the Hindu Kush</a></td>\\n        </tr>\\n        <tr>\\n            <td valign=\"top\" align=\"right\" bgcolor=\"FFFFFF\">Moochable&nbsp;copies:</td>\\n            <td></td>\\n            <td valign=\"top\" bgcolor=\"FFFFFF\">No copies available</td>\\n        </tr>\\n        \\n\\t\\t\\n\\t\\t\\n\\t\\t<tr>\\n\\t\\t\\t\\t<td valign=\"top\" align=\"right\" bgcolor=\"FFFFFF\">Recommended:</td>\\n\\t\\t\\t\\t<td></td>\\n\\t\\t\\t\\t<form action=\"/recommended_get\" method=\"get\" name=\"form3\"><input type=\"hidden\" name=\"go\" value=\"0001049313\"><td valign=\"top\" bgcolor=\"FFFFFF\">\\n\\t\\t\\t\\t<table cellspacing=0 cellpadding=0 border=0><tr><td align=\"left\" valign=\"top\"><select size=1 name=\"asin\"><option value=\"BM1208972372404957486\">The Trees of the World: A Dozen Padded Envelopes</option><option value=\"1844080471\">Asne Seierstad: The Bookseller of Kabul</option><option value=\"0330485385\">Alice Sebold: The Lovely Bones</option><option value=\"9780143038252\">Greg Mortenson and David O... : Three Cups of Tea: One Man\\'s Mission... </option><option value=\"1933372605\">Muriel Barbery: The Elegance of the Hedgehog</option><option value=\"1400032806\">Jon Krakauer: Under the Banner of Heaven: A Story ... </option><option value=\"0939821044\">Pat Parker: Unleashing Feminism: Critiquing Lesb... </option><option value=\"0349116652\">Alexander McCall Smith: Tears of the Giraffe</option><option value=\"1857025717\">Dava Sobel: Longitude: The true story of a lone ... </option><option value=\"0552998834\">Joanne Harris: Five Quarters of the Orange</option><option value=\"more\">---</option><option value=\"more\">Show more recommendations...</option></select></td><td><img src=\"http://i.bookmooch.com/images/spacer.gif\" width=\"5\" height=\"1\" alt=\"\"></td><td align=\"left\" valign=\"top\"><table id=\"button\" height=\"18\" border=\"0\" cellpadding=\"0\" cellspacing=\"0\">\\n\\t<tr>\\n\\t\\t<td bgcolor=\"#6EB0B1\">\\n\\t\\t\\t<a href=\"javascript:document.form3.submit();\"  title=\"\"><img border=0 bgcolor=\"#6EB0B1\" src=\"http://i.bookmooch.com/images/button_template_left.gif\" width=\"5\" height=\"18\" alt=\"\"></a></td>\\n\\t\\t<td valign=\"middle\" height=\"18\" bgcolor=\"#6EB0B1\"><a  STYLE=\"text-decoration:none\" href=\"javascript:document.form3.submit();\" title=\"\"><font face=\"Verdana, Arial, utopia, sans-serif\" size=1 color=\"#FFFFFF\"><nobr>></nobr></font></a></td>\\n\\t\\t<td bgcolor=\"#6EB0B1\">\\n\\t\\t\\t<a  href=\"javascript:document.form3.submit();\" title=\"\"><img border=0 bgcolor=\"#6EB0B1\" src=\"http://i.bookmooch.com/images/button_template_right.gif\" width=\"6\" height=\"18\" alt=\"\"></a></td>\\n\\t</tr>\\n</table></td></tr></table>\\n\\t\\t\\t\\t</td></form>\\n\\t\\t\\t</tr>\\n        <tr>\\n            <td valign=\"top\" align=\"right\" bgcolor=\"FFFFFF\">Topics:</td>\\n            <td></td><form action=\"/topic_go\" method=\"get\" name=\"form\">\\n            <td valign=\"top\" bgcolor=\"FFFFFF\">\\n\\t\\t\\t<table cellspacing=0 cellpadding=0 border=0><tr><td align=\"left\" valign=\"top\"><select size=1 name=\"name\"><option value=\"Afghanistan\">Afghanistan</option><option value=\"Asia\">Asia</option><option value=\"Bombay\">Bombay</option><option value=\"Calcutta\">Calcutta</option><option value=\"Delhi\">Delhi</option><option value=\"Education & Reference\">Education & Reference</option><option value=\"Essays & Travelogues\">Essays & Travelogues</option><option value=\"India\">India</option><option value=\"Reference & Tips\">Reference & Tips</option><option value=\"Travel\">Travel</option><option value=\"Writing\">Writing</option></select></td><td><img src=\"http://i.bookmooch.com/images/spacer.gif\" width=\"5\" height=\"1\" alt=\"\"></td><td align=\"left\" valign=\"top\"><table id=\"button\" height=\"18\" border=\"0\" cellpadding=\"0\" cellspacing=\"0\">\\n\\t<tr>\\n\\t\\t<td bgcolor=\"#6EB0B1\">\\n\\t\\t\\t<a href=\"javascript:document.form.submit();\"  title=\"\"><img border=0 bgcolor=\"#6EB0B1\" src=\"http://i.bookmooch.com/images/button_template_left.gif\" width=\"5\" height=\"18\" alt=\"\"></a></td>\\n\\t\\t<td valign=\"middle\" height=\"18\" bgcolor=\"#6EB0B1\"><a  STYLE=\"text-decoration:none\" href=\"javascript:document.form.submit();\" title=\"\"><font face=\"Verdana, Arial, utopia, sans-serif\" size=1 color=\"#FFFFFF\"><nobr>></nobr></font></a></td>\\n\\t\\t<td bgcolor=\"#6EB0B1\">\\n\\t\\t\\t<a  href=\"javascript:document.form.submit();\" title=\"\"><img border=0 bgcolor=\"#6EB0B1\" src=\"http://i.bookmooch.com/images/button_template_right.gif\" width=\"6\" height=\"18\" alt=\"\"></a></td>\\n\\t</tr>\\n</table></td></tr></table>\\n\\t\\t\\t</td></form>\\n        </tr>\\n\\t\\t\\n\\t\\t\\t<tr>\\n\\t\\t\\t\\t<td valign=\"top\" align=\"right\" bgcolor=\"FFFFFF\">Published&nbsp;in:</td>\\n\\t\\t\\t\\t<td></td>\\n\\t\\t\\t\\t<td valign=\"top\" bgcolor=\"FFFFFF\">English</td>\\n\\t\\t\\t</tr>\\t\\n\\n        <tr>\\n            <td valign=\"top\" align=\"right\" bgcolor=\"FFFFFF\">Binding:</td>\\n            <td></td>\\n            <td valign=\"top\" bgcolor=\"FFFFFF\">Audio Cassette</td>\\n        </tr>\\n        \\n\\t\\t\\n\\n        <tr>\\n            <td valign=\"top\" align=\"right\" bgcolor=\"FFFFFF\">Pages:</td>\\n            <td></td>\\n            <td bgcolor=\"FFFFFF\"></td>\\n        </tr>\\n        <tr>\\n            <td valign=\"top\" align=\"right\" bgcolor=\"FFFFFF\">Date:</td>\\n            <td></td>\\n            <td valign=\"top\" bgcolor=\"FFFFFF\">1995-10-23</td>\\n        </tr>\\n        <tr>\\n            <td valign=\"top\" align=\"right\" bgcolor=\"FFFFFF\">ISBN:</td>\\n            <td></td>\\n            <td valign=\"top\" bgcolor=\"FFFFFF\">0001049313</td>\\n        </tr>\\n\\n        <tr>\\n            <td valign=\"top\" align=\"right\" bgcolor=\"FFFFFF\">Publisher:</td>\\n            <td></td>\\n            <td valign=\"top\" bgcolor=\"FFFFFF\"><a title=\"Search for this publisher\" href=\"/s/Harpercollins+Audio\">Harpercollins Audio</a></td>\\n        </tr>\\n        \\n\\t\\t\\n\\t\\t\\n\\t\\t\\t<tr>\\n\\t\\t\\t\\t<td valign=\"top\" align=\"right\" bgcolor=\"FFFFFF\">Weight:</td>\\n\\t\\t\\t\\t<td></td>\\n\\t\\t\\t\\t<td valign=\"top\" bgcolor=\"FFFFFF\">0.31 pounds</td>\\n\\t\\t\\t</tr>\\t\\n\\t\\t\\n\\t\\t\\t<tr>\\n\\t\\t\\t\\t<td valign=\"top\" align=\"right\" bgcolor=\"FFFFFF\">Size:</td>\\n\\t\\t\\t\\t<td></td>\\n\\t\\t\\t\\t<td valign=\"top\" bgcolor=\"FFFFFF\">4.17 x 5.28 x 0.71 inches</td>\\n\\t\\t\\t</tr>\\t\\n\\t\\t<tr>\\n            <td valign=\"top\" align=\"right\" bgcolor=\"FFFFFF\">Edition:</td>\\n            <td></td>\\n            <td valign=\"top\" bgcolor=\"FFFFFF\">Abridged</td>\\n        </tr>\\n\\t\\t\\n\\t\\t\\t\\t\\t<td valign=\"top\" align=\"right\" bgcolor=\"FFFFFF\">Amazon&nbsp;prices:</td>\\n\\t\\t\\t\\t\\t<td></td>\\n\\t\\t\\t\\t\\t<td valign=\"top\" bgcolor=\"FFFFFF\"><table bgcolor=DDDDDD cellspacing=1 cellpadding=0><tr><td><table bgcolor=FFFFFF cellspacing=3 cellpadding=0><tr><td>\\n\\t\\t\\t<table bgcolor=FFFFFF cellspacing=0 cellpadding=0>\\n\\t\\t\\t\\n\\t\\t\\t\\n\\t\\t\\t\\n\\t\\t\\t\\n\\t\\t\\t</table>\\n\\t\\t</td></tr></table></td></tr></table> <font size=1></font></td>\\n\\t\\t\\t\\t\\n\\t\\t\\n\\t\\t\\n        \\n        <tr>\\n            <td valign=\"top\" align=\"right\" bgcolor=\"FFFFFF\">Wishlists:</td>\\n            <td></td>\\n            <td valign=\"top\" bgcolor=\"FFFFFF\"><table cellspacing=0 cellpadding=0 border=0><tr><td align=\"left\" valign=\"top\">3</td><td><img src=\"http://i.bookmooch.com/images/spacer.gif\" width=\"5\" height=\"1\" alt=\"\"></td><td align=\"left\" valign=\"top\"><a title=\"view this member\\'s wishlist\" href=\"/wishlist/margaritacha\">Margaret H. (USA: NM)</a>, <a title=\"view this member\\'s wishlist\" href=\"/wishlist/showersun\">Sara (Singapore)</a>, <a title=\"view this member\\'s wishlist\" href=\"/wishlist/cej10\">cej10 (USA: IA)</a>.</td></tr></table>\\n\\t\\t\\t\\t </td>\\n        </tr>\\n        \\n        <tr>\\n            <td valign=\"top\" align=\"right\" bgcolor=\"FFFFFF\">Description:</td>\\n            <td></td>\\n            <td valign=\"top\" bgcolor=\"FFFFFF\"><i>Product Description</I><br>\\nEric Newby describes his travels in the mountains of Afghanistan. He has also written \"The Last Grain Race\", \"Slowly Down the Ganges\", \"Love and War in the Apennines\" and \"On the Shores of the Mediterranean\".\\n\\n<p><br>\\n\\n<i>Amazon.com Review</I><br>\\nFor more than a decade following the end of World War II, Eric Newby  toiled away in the British fashion industry, peddling some of the ugliest  clothes on the planet. (Regarding one wafer-thin model in her runway best, he  was reminded of \"those flagpoles they put up in the Mall when the Queen comes  home.\") Fortunately, Newby reached the end his haute-couture tether in 1956. At  that point, with the sort of sublime impulsiveness that\\'s forbidden to fictional  characters but endemic to real ones, he decided to visit a remote corner of  Afghanistan, where no Englishman had planted his brogans for at least 50 years.  What\\'s more, he recorded his adventure in a classic narrative, <I>A Short Walk  in the Hindu Kush</I>. The title, of course, is a fine example of Newby\\'s  habitual self-effacement, since his journey--which included a near-ascent of the  19,800-foot Mir Samir--was anything but short. And his book seems to furnish a  missing link between the great Britannic wanderers of the Victorian era and such  contemporary jungle nuts as Redmond  O\\'Hanlon. <p> At times it also brings to mind Evelyn Waugh, who  contributed the preface. Newby is a less acidulous writer, to be sure, and he  has little interest in launching the sort of heat-seeking satiric missiles that  were Waugh\\'s specialty. Still, <I>A Short Walk in the Hindu Kush</I> is a  hilarious read. The author excels at the dispiriting snapshot, capturing, say,  the Afghan backwater of Fariman in two crisp sentences: \"A whole gale of wind  was blowing, tearing up the surface of the main street. Except for two policemen  holding hands and a dog whose hind legs were paralysed it was deserted.\" His  capsule history of Nuristan also gets in some sly digs at Britain\\'s special  relationship with the violence-prone Abdur Rahman: <blockquote> Officially his subsidy had just been increased from 12,000 to 16,000 lakhs of  rupees. To the British he had fully justified their selection of him as Amir of  Afghanistan and, apart from the few foibles remarked by Lord Curzon, like  flaying people alive who displeased him, blowing them from the mouths of cannon,  or standing them up to the neck in pools of water on the summits of high  mountains and letting them freeze solid, he had done nothing to which exception  could be taken.  </blockquote> Newby also surpasses Waugh--and indeed, most other travel writers--in another  important respect: he\\'s miraculously free of solipsism. Even the keenest  literary voyagers tend to be, in the purest sense of the term, self-centered.  But <I>A Short Walk in the Hindu Kush</I> includes wonderfully oblique portraits  of the author\\'s travel companion, Hugh Carless, and his wife, Wanda (who plays a  starring role in such subsequent chronicles as <I>Slowly down the Ganges</I>). There  are also dozens of brilliant cameo parts, and an indelible record of a stunning  landscape. The roof of the world is, in Newby\\'s rendering, both an absolute  heaven and a low-oxygen hell. Yet the author never pretends to pit himself  against a malicious Nature--his mountains are, in Frost\\'s memorable phrase, too  lofty and original to rage. Which is yet another reason to call this little  masterpiece a peak performance. <I>--James Marcus</I>\\n\\n</td>\\n        </tr>\\n\\t\\t\\n\\t\\t\\n        <tr>\\n            <td valign=\"top\" align=\"right\" bgcolor=\"FFFFFF\">URL:</td>\\n            <td></td>\\n            <td valign=\"top\" bgcolor=\"FFFFFF\"><a title=\"Link to this book\" href=\"http://bookmooch.com/0001049313\">http://bookmooch.com/0001049313</a></td>\\n        </tr>\\n\\t\\t\\n        </table></td><td valign=\"top\" align=\"right\">\\n\\t\\t<a target=\"lgamazon\" onmouseover=\"this.T_WIDTH=\\'\\';return escape(\\'<img src=\\\\\\'http://images.amazon.com/images/P/0001049313.01._BO1,130,130,130_PC_SCLZZZZZZZ_.jpg\\\\\\' height=\\\\\\'\\\\\\' width=\\\\\\'\\\\\\'>\\')\" href=\"http://ecx.images-amazon.com/images/I/51vxPzk%2BOZL.jpg\" title=\"large book cover\"><img alt=\"large book cover\" border=0 height=87 width=70 src=\"http://images.amazon.com/images/P/0001049313.01._BO1,130,130,130_PC_SCTZZZZZZZ_.jpg\" align=\"none\"></a><p>\\n\\t\\t<p>\\n\\t\\t<table id=\"button\" height=\"18\" border=\"0\" cellpadding=\"0\" cellspacing=\"0\">\\n\\t<tr>\\n\\t\\t<td bgcolor=\"#6EB0B1\">\\n\\t\\t\\t<a href=\"/m/wishlist_add?asin=0001049313&store=amazon.com\"  title=\"add this book to the list of books you want right away\"><img border=0 bgcolor=\"#6EB0B1\" src=\"http://i.bookmooch.com/images/button_template_left.gif\" width=\"5\" height=\"18\" alt=\"\"></a></td>\\n\\t\\t<td valign=\"middle\" height=\"18\" bgcolor=\"#6EB0B1\"><a  STYLE=\"text-decoration:none\" href=\"/m/wishlist_add?asin=0001049313&store=amazon.com\" title=\"add this book to the list of books you want right away\"><font face=\"Verdana, Arial, utopia, sans-serif\" size=2 color=\"#FFFFFF\"><nobr>WISHLIST&nbsp;ADD&nbsp;></nobr></font></a></td>\\n\\t\\t<td bgcolor=\"#6EB0B1\">\\n\\t\\t\\t<a  href=\"/m/wishlist_add?asin=0001049313&store=amazon.com\" title=\"add this book to the list of books you want right away\"><img border=0 bgcolor=\"#6EB0B1\" src=\"http://i.bookmooch.com/images/button_template_right.gif\" width=\"6\" height=\"18\" alt=\"\"></a></td>\\n\\t</tr>\\n</table><img src=\"http://i.bookmooch.com/images/spacer.gif\" width=\"1\" height=\"2\" alt=\"\"><br>\\n\\t\\t<table id=\"button\" height=\"18\" border=\"0\" cellpadding=\"0\" cellspacing=\"0\">\\n\\t<tr>\\n\\t\\t<td bgcolor=\"#6EB0B1\">\\n\\t\\t\\t<a href=\"/m/savelater_add?asin=0001049313&store=amazon.com\"  title=\"add this book to those you may someday want\"><img border=0 bgcolor=\"#6EB0B1\" src=\"http://i.bookmooch.com/images/button_template_left.gif\" width=\"5\" height=\"18\" alt=\"\"></a></td>\\n\\t\\t<td valign=\"middle\" height=\"18\" bgcolor=\"#6EB0B1\"><a  STYLE=\"text-decoration:none\" href=\"/m/savelater_add?asin=0001049313&store=amazon.com\" title=\"add this book to those you may someday want\"><font face=\"Verdana, Arial, utopia, sans-serif\" size=2 color=\"#FFFFFF\"><nobr>SAVE&nbsp;FOR&nbsp;LATER&nbsp;></nobr></font></a></td>\\n\\t\\t<td bgcolor=\"#6EB0B1\">\\n\\t\\t\\t<a  href=\"/m/savelater_add?asin=0001049313&store=amazon.com\" title=\"add this book to those you may someday want\"><img border=0 bgcolor=\"#6EB0B1\" src=\"http://i.bookmooch.com/images/button_template_right.gif\" width=\"6\" height=\"18\" alt=\"\"></a></td>\\n\\t</tr>\\n</table><img src=\"http://i.bookmooch.com/images/spacer.gif\" width=\"1\" height=\"2\" alt=\"\"><br>\\n\\t\\t<table id=\"button\" height=\"18\" border=\"0\" cellpadding=\"0\" cellspacing=\"0\">\\n\\t<tr>\\n\\t\\t<td bgcolor=\"#6EB0B1\">\\n\\t\\t\\t<a href=\"http://www.amazon.it/gp/product/0001049313?ie=UTF8&tag=book05e-21&linkCode=bn1\"  target=\"amazon-0001049313\"  title=\"more info about this book at Amazon (a small commission goes to BookMooch if you buy books with this link)\"><img border=0 bgcolor=\"#6EB0B1\" src=\"http://i.bookmooch.com/images/button_template_left.gif\" width=\"5\" height=\"18\" alt=\"\"></a></td>\\n\\t\\t<td valign=\"middle\" height=\"18\" bgcolor=\"#6EB0B1\"><a  target=\"amazon-0001049313\"  STYLE=\"text-decoration:none\" href=\"http://www.amazon.it/gp/product/0001049313?ie=UTF8&tag=book05e-21&linkCode=bn1\" title=\"more info about this book at Amazon (a small commission goes to BookMooch if you buy books with this link)\"><font face=\"Verdana, Arial, utopia, sans-serif\" size=2 color=\"#FFFFFF\"><nobr>AMAZON&nbsp;></nobr></font></a></td>\\n\\t\\t<td bgcolor=\"#6EB0B1\">\\n\\t\\t\\t<a  target=\"amazon-0001049313\"  href=\"http://www.amazon.it/gp/product/0001049313?ie=UTF8&tag=book05e-21&linkCode=bn1\" title=\"more info about this book at Amazon (a small commission goes to BookMooch if you buy books with this link)\"><img border=0 bgcolor=\"#6EB0B1\" src=\"http://i.bookmooch.com/images/button_template_right.gif\" width=\"6\" height=\"18\" alt=\"\"></a></td>\\n\\t</tr>\\n</table><img src=\"http://i.bookmooch.com/images/spacer.gif\" width=\"1\" height=\"2\" alt=\"\"><br>\\n\\t\\t<table id=\"button\" height=\"18\" border=\"0\" cellpadding=\"0\" cellspacing=\"0\">\\n\\t<tr>\\n\\t\\t<td bgcolor=\"#6EB0B1\">\\n\\t\\t\\t<a href=\"/book_sites?asin=0001049313\"  title=\"other web sites with information about this book\"><img border=0 bgcolor=\"#6EB0B1\" src=\"http://i.bookmooch.com/images/button_template_left.gif\" width=\"5\" height=\"18\" alt=\"\"></a></td>\\n\\t\\t<td valign=\"middle\" height=\"18\" bgcolor=\"#6EB0B1\"><a  STYLE=\"text-decoration:none\" href=\"/book_sites?asin=0001049313\" title=\"other web sites with information about this book\"><font face=\"Verdana, Arial, utopia, sans-serif\" size=2 color=\"#FFFFFF\"><nobr>OTHER&nbsp;WEB&nbsp;SITES&nbsp;></nobr></font></a></td>\\n\\t\\t<td bgcolor=\"#6EB0B1\">\\n\\t\\t\\t<a  href=\"/book_sites?asin=0001049313\" title=\"other web sites with information about this book\"><img border=0 bgcolor=\"#6EB0B1\" src=\"http://i.bookmooch.com/images/button_template_right.gif\" width=\"6\" height=\"18\" alt=\"\"></a></td>\\n\\t</tr>\\n</table><img src=\"http://i.bookmooch.com/images/spacer.gif\" width=\"1\" height=\"2\" alt=\"\"><br>\\n\\t\\t<table id=\"button\" height=\"18\" border=\"0\" cellpadding=\"0\" cellspacing=\"0\">\\n\\t<tr>\\n\\t\\t<td bgcolor=\"#6EB0B1\">\\n\\t\\t\\t<a href=\"/related_show?asin=0001049313\"  title=\"show books that are related editions to this one\"><img border=0 bgcolor=\"#6EB0B1\" src=\"http://i.bookmooch.com/images/button_template_left.gif\" width=\"5\" height=\"18\" alt=\"\"></a></td>\\n\\t\\t<td valign=\"middle\" height=\"18\" bgcolor=\"#6EB0B1\"><a  STYLE=\"text-decoration:none\" href=\"/related_show?asin=0001049313\" title=\"show books that are related editions to this one\"><font face=\"Verdana, Arial, utopia, sans-serif\" size=2 color=\"#FFFFFF\"><nobr>RELATED&nbsp;EDITIONS&nbsp;></nobr></font></a></td>\\n\\t\\t<td bgcolor=\"#6EB0B1\">\\n\\t\\t\\t<a  href=\"/related_show?asin=0001049313\" title=\"show books that are related editions to this one\"><img border=0 bgcolor=\"#6EB0B1\" src=\"http://i.bookmooch.com/images/button_template_right.gif\" width=\"6\" height=\"18\" alt=\"\"></a></td>\\n\\t</tr>\\n</table><img src=\"http://i.bookmooch.com/images/spacer.gif\" width=\"1\" height=\"2\" alt=\"\"><br>\\n\\t\\t<table id=\"button\" height=\"18\" border=\"0\" cellpadding=\"0\" cellspacing=\"0\">\\n\\t<tr>\\n\\t\\t<td bgcolor=\"#6EB0B1\">\\n\\t\\t\\t<a href=\"/recommend?asin=0001049313\"  title=\"recommend this book to someone else\"><img border=0 bgcolor=\"#6EB0B1\" src=\"http://i.bookmooch.com/images/button_template_left.gif\" width=\"5\" height=\"18\" alt=\"\"></a></td>\\n\\t\\t<td valign=\"middle\" height=\"18\" bgcolor=\"#6EB0B1\"><a  STYLE=\"text-decoration:none\" href=\"/recommend?asin=0001049313\" title=\"recommend this book to someone else\"><font face=\"Verdana, Arial, utopia, sans-serif\" size=2 color=\"#FFFFFF\"><nobr>RECOMMEND&nbsp;></nobr></font></a></td>\\n\\t\\t<td bgcolor=\"#6EB0B1\">\\n\\t\\t\\t<a  href=\"/recommend?asin=0001049313\" title=\"recommend this book to someone else\"><img border=0 bgcolor=\"#6EB0B1\" src=\"http://i.bookmooch.com/images/button_template_right.gif\" width=\"6\" height=\"18\" alt=\"\"></a></td>\\n\\t</tr>\\n</table><img src=\"http://i.bookmooch.com/images/spacer.gif\" width=\"1\" height=\"2\" alt=\"\"><br>\\n\\t\\t\\n\\t\\t\\n\\t\\n\\t</td></tr></table>\\n\\t</td><td width=10><img src=\"http://i.bookmooch.com/images/spacer.gif\" width=\"10\" height=\"1\" alt=\"\"></td><td xbgcolor=AAAAAA valign=\"top\" width=320><link rel=\"stylesheet\" type=\"text/css\" href=\"http://cache.blogads.com/582081819/feed.css\" /><script language=\"javascript\" src=\"http://cache.blogads.com/582081819/feed.js\"></script><link rel=\"stylesheet\" type=\"text/css\" href=\"http://cache.blogads.com/990819385/feed.css\" /><script language=\"javascript\" src=\"http://cache.blogads.com/990819385/feed.js\"></script><br/></td></tr></table>\\n    \\n</td><td><img src=\"http://i.bookmooch.com/images/spacer.gif\" width=\"12\" height=\"12\" alt=\"\"></td></tr><tr><td></td><td></td></tr></table>\\n<script language=\"JavaScript\" type=\"text/javascript\" src=\"http://i.bookmooch.com/js/wz_tooltip.js\"></script>\\n</body>\\n</html>'"
            ],
            "application/vnd.google.colaboratory.intrinsic+json": {
              "type": "string"
            }
          },
          "metadata": {},
          "execution_count": 57
        }
      ],
      "source": [
        "web_sites_data[1]"
      ]
    },
    {
      "cell_type": "code",
      "execution_count": null,
      "metadata": {
        "id": "0xn6XK7UDMVP",
        "colab": {
          "base_uri": "https://localhost:8080/",
          "height": 139
        },
        "outputId": "312e7980-e14e-45dc-c1a4-efd1a86668d9"
      },
      "outputs": [
        {
          "output_type": "execute_result",
          "data": {
            "text/plain": [
              "'eric newby short walk hindu kush author eric newby title short walk hindu kush moochable copy copy available recommend tree world dozen padded envelope asne seierstad bookseller kabul alice sebold lovely bone greg mortenson david three cup tea one man mission muriel barbery elegance hedgehog jon krakauer banner heaven story pat parker unleash feminism critique lesb alexander mccall smith tear giraffe dava sobel longitude true story lone joanne harris five quarter orange show recommendation topic afghanistan asia bombay calcutta delhi education reference essays travelogues india reference tips travel write publish english binding audio cassette page date isbn publisher harpercollin audio weight pound size inch edition abridge amazon price wishlist margaret usa nm sara singapore cej usa ia description product description eric newby describe travel mountain afghanistan also write last grain race slowly gange love war apennine shore mediterranean amazon com review decade follow end world war ii eric newby toil away british fashion industry peddle ugly clothe planet regard one wafer thin model runway best remind flagpole put mall queen come home fortunately newby reach end haute couture tether point sort sublime impulsiveness forbid fictional character endemic real one decide visit remote corner afghanistan englishman plant brogan least year record adventure classic narrative short walk hindu kush title course fine example newby habitual self effacement since journey include near ascent foot mir samir anything short book seem furnish miss link great britannic wanderer victorian era contemporary jungle nut redmond hanlon time also bring mind evelyn waugh contribute preface newby less acidulous writer sure little interest launch sort heat seek satiric missile waugh specialty still short walk hindu kush hilarious read author excel dispirit snapshot capturing say afghan backwater fariman two crisp sentence whole gale wind blow tear surface main street except two policeman hold hand dog whose hind leg paralysed desert capsule history nuristan also get sly dig britain special relationship violence prone abdur rahman officially subsidy increase lakh rupee british fully justify selection amir afghanistan apart foible remark lord curzon like flay people alive displease blow mouth cannon stand neck pool water summit high mountain let freeze solid nothing exception could take newby also surpass waugh indeed travel writer another important respect miraculously free solipsism even keen literary voyager tend pure sense term self center short walk hindu kush include wonderfully oblique portrait author travel companion hugh carless wife wanda play starring role subsequent chronicle slowly gange also dozen brilliant cameo part indelible record stunning landscape roof world newby rendering absolute heaven low oxygen hell yet author never pretend pit malicious nature mountain frost memorable phrase lofty original rage yet another reason call little masterpiece peak performance james marcus url wishlist add save later amazon web site related edition recommend'"
            ],
            "application/vnd.google.colaboratory.intrinsic+json": {
              "type": "string"
            }
          },
          "metadata": {},
          "execution_count": 58
        }
      ],
      "source": [
        "preprocessed_texts[1]"
      ]
    },
    {
      "cell_type": "markdown",
      "metadata": {
        "id": "IlSeYg4sDMVQ"
      },
      "source": [
        "# [10 points] Part 2. Duplicates detection. LSH"
      ]
    },
    {
      "cell_type": "markdown",
      "metadata": {
        "id": "ZuMBHSiDDMVR"
      },
      "source": [
        "#### Libraries you can use\n",
        "\n",
        "1. LSH - https://github.com/ekzhu/datasketch\n",
        "1. LSH - https://github.com/mattilyra/LSH\n",
        "1. Any other library on your choise"
      ]
    },
    {
      "cell_type": "markdown",
      "metadata": {
        "id": "uff5aBpgDMVR"
      },
      "source": [
        "1. Detect duplicated text (duplicates do not imply a complete word-to-word match, but texts that may contain a paraphrase, rearrangement of words, sentences)\n",
        "1. Make a plot dependency of duplicates on shingle size (with fixed minhash length) \n",
        "1. Make a plot dependency of duplicates on minhash length (with fixed shingle size)"
      ]
    },
    {
      "cell_type": "code",
      "execution_count": null,
      "metadata": {
        "id": "QOFZ7AvyDMVS"
      },
      "outputs": [],
      "source": [
        "def get_shingles(text, size=5):\n",
        "    return set([text[n : n + size] for n in range(len(text))][: -size + 1])"
      ]
    },
    {
      "cell_type": "code",
      "execution_count": null,
      "metadata": {
        "id": "HPonm9U3DMVS"
      },
      "outputs": [],
      "source": [
        "def get_min_hash_lsh(texts, threshold, n_permutations, size):\n",
        "    lsh = MinHashLSH(threshold, n_permutations)\n",
        "    min_hashes = []\n",
        "    for n, text in enumerate(texts):\n",
        "        min_hash = MinHash(n_permutations) \n",
        "        for shingle in get_shingles(text, size):\n",
        "            min_hash.update(shingle.encode('utf8'))\n",
        "        min_hashes.append(min_hash)\n",
        "        lsh.insert(n, min_hash)\n",
        "\n",
        "    duplicates = set()\n",
        "    for n, min_hash in enumerate(min_hashes):\n",
        "        if n in duplicates:\n",
        "            continue\n",
        "        results = lsh.query(min_hash)\n",
        "        if results:\n",
        "            duplicates.update([result for result in results if result > n])\n",
        "    return duplicates"
      ]
    },
    {
      "cell_type": "code",
      "source": [
        "duplicates = get_min_hash_lsh(preprocessed_texts, 0.9, 128, 5)"
      ],
      "metadata": {
        "id": "twp3Y1dzSiEM"
      },
      "execution_count": null,
      "outputs": []
    },
    {
      "cell_type": "markdown",
      "source": [
        "1. Number of duplicates:"
      ],
      "metadata": {
        "id": "lCj0zRwTpNw5"
      }
    },
    {
      "cell_type": "code",
      "source": [
        "len(duplicates)"
      ],
      "metadata": {
        "colab": {
          "base_uri": "https://localhost:8080/"
        },
        "id": "xWPqbb4WR_zC",
        "outputId": "da9f456b-dbbd-4cde-c010-5814f0a0074a"
      },
      "execution_count": null,
      "outputs": [
        {
          "output_type": "execute_result",
          "data": {
            "text/plain": [
              "2296"
            ]
          },
          "metadata": {},
          "execution_count": 41
        }
      ]
    },
    {
      "cell_type": "markdown",
      "source": [
        "2. A plot dependency of duplicates on shingle size (with fixed minhash length)"
      ],
      "metadata": {
        "id": "Z6NrWiNYqMPB"
      }
    },
    {
      "cell_type": "code",
      "source": [
        "shingle_sizes = [2, 3, 5, 7, 10]\n",
        "n_duplicates = [len(get_min_hash_lsh(preprocessed_texts, 0.9, 128, shingle_size)) for shingle_size in shingle_sizes]"
      ],
      "metadata": {
        "id": "WH7Oau6CGA6j"
      },
      "execution_count": null,
      "outputs": []
    },
    {
      "cell_type": "code",
      "source": [
        "figure = px.line(x=shingle_sizes,\n",
        "                 y=n_duplicates,\n",
        "                 title='A plot dependency of duplicates on shingle size (with fixed minhash length',\n",
        "                 markers=True)\n",
        "figure.show() "
      ],
      "metadata": {
        "colab": {
          "base_uri": "https://localhost:8080/",
          "height": 542
        },
        "id": "zIE96ikQqZG7",
        "outputId": "cdb8e83d-3863-41ec-9376-f389c9d9e511"
      },
      "execution_count": null,
      "outputs": [
        {
          "output_type": "display_data",
          "data": {
            "text/html": [
              "<html>\n",
              "<head><meta charset=\"utf-8\" /></head>\n",
              "<body>\n",
              "    <div>            <script src=\"https://cdnjs.cloudflare.com/ajax/libs/mathjax/2.7.5/MathJax.js?config=TeX-AMS-MML_SVG\"></script><script type=\"text/javascript\">if (window.MathJax) {MathJax.Hub.Config({SVG: {font: \"STIX-Web\"}});}</script>                <script type=\"text/javascript\">window.PlotlyConfig = {MathJaxConfig: 'local'};</script>\n",
              "        <script src=\"https://cdn.plot.ly/plotly-2.8.3.min.js\"></script>                <div id=\"72fe2a49-bb35-4e25-80d8-d47bd3fd6501\" class=\"plotly-graph-div\" style=\"height:525px; width:100%;\"></div>            <script type=\"text/javascript\">                                    window.PLOTLYENV=window.PLOTLYENV || {};                                    if (document.getElementById(\"72fe2a49-bb35-4e25-80d8-d47bd3fd6501\")) {                    Plotly.newPlot(                        \"72fe2a49-bb35-4e25-80d8-d47bd3fd6501\",                        [{\"hovertemplate\":\"x=%{x}<br>y=%{y}<extra></extra>\",\"legendgroup\":\"\",\"line\":{\"color\":\"#636efa\",\"dash\":\"solid\"},\"marker\":{\"symbol\":\"circle\"},\"mode\":\"lines+markers\",\"name\":\"\",\"orientation\":\"v\",\"showlegend\":false,\"x\":[2,3,5,7,10],\"xaxis\":\"x\",\"y\":[7848,3444,2296,2006,1670],\"yaxis\":\"y\",\"type\":\"scatter\"}],                        {\"template\":{\"data\":{\"bar\":[{\"error_x\":{\"color\":\"#2a3f5f\"},\"error_y\":{\"color\":\"#2a3f5f\"},\"marker\":{\"line\":{\"color\":\"#E5ECF6\",\"width\":0.5},\"pattern\":{\"fillmode\":\"overlay\",\"size\":10,\"solidity\":0.2}},\"type\":\"bar\"}],\"barpolar\":[{\"marker\":{\"line\":{\"color\":\"#E5ECF6\",\"width\":0.5},\"pattern\":{\"fillmode\":\"overlay\",\"size\":10,\"solidity\":0.2}},\"type\":\"barpolar\"}],\"carpet\":[{\"aaxis\":{\"endlinecolor\":\"#2a3f5f\",\"gridcolor\":\"white\",\"linecolor\":\"white\",\"minorgridcolor\":\"white\",\"startlinecolor\":\"#2a3f5f\"},\"baxis\":{\"endlinecolor\":\"#2a3f5f\",\"gridcolor\":\"white\",\"linecolor\":\"white\",\"minorgridcolor\":\"white\",\"startlinecolor\":\"#2a3f5f\"},\"type\":\"carpet\"}],\"choropleth\":[{\"colorbar\":{\"outlinewidth\":0,\"ticks\":\"\"},\"type\":\"choropleth\"}],\"contour\":[{\"colorbar\":{\"outlinewidth\":0,\"ticks\":\"\"},\"colorscale\":[[0.0,\"#0d0887\"],[0.1111111111111111,\"#46039f\"],[0.2222222222222222,\"#7201a8\"],[0.3333333333333333,\"#9c179e\"],[0.4444444444444444,\"#bd3786\"],[0.5555555555555556,\"#d8576b\"],[0.6666666666666666,\"#ed7953\"],[0.7777777777777778,\"#fb9f3a\"],[0.8888888888888888,\"#fdca26\"],[1.0,\"#f0f921\"]],\"type\":\"contour\"}],\"contourcarpet\":[{\"colorbar\":{\"outlinewidth\":0,\"ticks\":\"\"},\"type\":\"contourcarpet\"}],\"heatmap\":[{\"colorbar\":{\"outlinewidth\":0,\"ticks\":\"\"},\"colorscale\":[[0.0,\"#0d0887\"],[0.1111111111111111,\"#46039f\"],[0.2222222222222222,\"#7201a8\"],[0.3333333333333333,\"#9c179e\"],[0.4444444444444444,\"#bd3786\"],[0.5555555555555556,\"#d8576b\"],[0.6666666666666666,\"#ed7953\"],[0.7777777777777778,\"#fb9f3a\"],[0.8888888888888888,\"#fdca26\"],[1.0,\"#f0f921\"]],\"type\":\"heatmap\"}],\"heatmapgl\":[{\"colorbar\":{\"outlinewidth\":0,\"ticks\":\"\"},\"colorscale\":[[0.0,\"#0d0887\"],[0.1111111111111111,\"#46039f\"],[0.2222222222222222,\"#7201a8\"],[0.3333333333333333,\"#9c179e\"],[0.4444444444444444,\"#bd3786\"],[0.5555555555555556,\"#d8576b\"],[0.6666666666666666,\"#ed7953\"],[0.7777777777777778,\"#fb9f3a\"],[0.8888888888888888,\"#fdca26\"],[1.0,\"#f0f921\"]],\"type\":\"heatmapgl\"}],\"histogram\":[{\"marker\":{\"pattern\":{\"fillmode\":\"overlay\",\"size\":10,\"solidity\":0.2}},\"type\":\"histogram\"}],\"histogram2d\":[{\"colorbar\":{\"outlinewidth\":0,\"ticks\":\"\"},\"colorscale\":[[0.0,\"#0d0887\"],[0.1111111111111111,\"#46039f\"],[0.2222222222222222,\"#7201a8\"],[0.3333333333333333,\"#9c179e\"],[0.4444444444444444,\"#bd3786\"],[0.5555555555555556,\"#d8576b\"],[0.6666666666666666,\"#ed7953\"],[0.7777777777777778,\"#fb9f3a\"],[0.8888888888888888,\"#fdca26\"],[1.0,\"#f0f921\"]],\"type\":\"histogram2d\"}],\"histogram2dcontour\":[{\"colorbar\":{\"outlinewidth\":0,\"ticks\":\"\"},\"colorscale\":[[0.0,\"#0d0887\"],[0.1111111111111111,\"#46039f\"],[0.2222222222222222,\"#7201a8\"],[0.3333333333333333,\"#9c179e\"],[0.4444444444444444,\"#bd3786\"],[0.5555555555555556,\"#d8576b\"],[0.6666666666666666,\"#ed7953\"],[0.7777777777777778,\"#fb9f3a\"],[0.8888888888888888,\"#fdca26\"],[1.0,\"#f0f921\"]],\"type\":\"histogram2dcontour\"}],\"mesh3d\":[{\"colorbar\":{\"outlinewidth\":0,\"ticks\":\"\"},\"type\":\"mesh3d\"}],\"parcoords\":[{\"line\":{\"colorbar\":{\"outlinewidth\":0,\"ticks\":\"\"}},\"type\":\"parcoords\"}],\"pie\":[{\"automargin\":true,\"type\":\"pie\"}],\"scatter\":[{\"marker\":{\"colorbar\":{\"outlinewidth\":0,\"ticks\":\"\"}},\"type\":\"scatter\"}],\"scatter3d\":[{\"line\":{\"colorbar\":{\"outlinewidth\":0,\"ticks\":\"\"}},\"marker\":{\"colorbar\":{\"outlinewidth\":0,\"ticks\":\"\"}},\"type\":\"scatter3d\"}],\"scattercarpet\":[{\"marker\":{\"colorbar\":{\"outlinewidth\":0,\"ticks\":\"\"}},\"type\":\"scattercarpet\"}],\"scattergeo\":[{\"marker\":{\"colorbar\":{\"outlinewidth\":0,\"ticks\":\"\"}},\"type\":\"scattergeo\"}],\"scattergl\":[{\"marker\":{\"colorbar\":{\"outlinewidth\":0,\"ticks\":\"\"}},\"type\":\"scattergl\"}],\"scattermapbox\":[{\"marker\":{\"colorbar\":{\"outlinewidth\":0,\"ticks\":\"\"}},\"type\":\"scattermapbox\"}],\"scatterpolar\":[{\"marker\":{\"colorbar\":{\"outlinewidth\":0,\"ticks\":\"\"}},\"type\":\"scatterpolar\"}],\"scatterpolargl\":[{\"marker\":{\"colorbar\":{\"outlinewidth\":0,\"ticks\":\"\"}},\"type\":\"scatterpolargl\"}],\"scatterternary\":[{\"marker\":{\"colorbar\":{\"outlinewidth\":0,\"ticks\":\"\"}},\"type\":\"scatterternary\"}],\"surface\":[{\"colorbar\":{\"outlinewidth\":0,\"ticks\":\"\"},\"colorscale\":[[0.0,\"#0d0887\"],[0.1111111111111111,\"#46039f\"],[0.2222222222222222,\"#7201a8\"],[0.3333333333333333,\"#9c179e\"],[0.4444444444444444,\"#bd3786\"],[0.5555555555555556,\"#d8576b\"],[0.6666666666666666,\"#ed7953\"],[0.7777777777777778,\"#fb9f3a\"],[0.8888888888888888,\"#fdca26\"],[1.0,\"#f0f921\"]],\"type\":\"surface\"}],\"table\":[{\"cells\":{\"fill\":{\"color\":\"#EBF0F8\"},\"line\":{\"color\":\"white\"}},\"header\":{\"fill\":{\"color\":\"#C8D4E3\"},\"line\":{\"color\":\"white\"}},\"type\":\"table\"}]},\"layout\":{\"annotationdefaults\":{\"arrowcolor\":\"#2a3f5f\",\"arrowhead\":0,\"arrowwidth\":1},\"autotypenumbers\":\"strict\",\"coloraxis\":{\"colorbar\":{\"outlinewidth\":0,\"ticks\":\"\"}},\"colorscale\":{\"diverging\":[[0,\"#8e0152\"],[0.1,\"#c51b7d\"],[0.2,\"#de77ae\"],[0.3,\"#f1b6da\"],[0.4,\"#fde0ef\"],[0.5,\"#f7f7f7\"],[0.6,\"#e6f5d0\"],[0.7,\"#b8e186\"],[0.8,\"#7fbc41\"],[0.9,\"#4d9221\"],[1,\"#276419\"]],\"sequential\":[[0.0,\"#0d0887\"],[0.1111111111111111,\"#46039f\"],[0.2222222222222222,\"#7201a8\"],[0.3333333333333333,\"#9c179e\"],[0.4444444444444444,\"#bd3786\"],[0.5555555555555556,\"#d8576b\"],[0.6666666666666666,\"#ed7953\"],[0.7777777777777778,\"#fb9f3a\"],[0.8888888888888888,\"#fdca26\"],[1.0,\"#f0f921\"]],\"sequentialminus\":[[0.0,\"#0d0887\"],[0.1111111111111111,\"#46039f\"],[0.2222222222222222,\"#7201a8\"],[0.3333333333333333,\"#9c179e\"],[0.4444444444444444,\"#bd3786\"],[0.5555555555555556,\"#d8576b\"],[0.6666666666666666,\"#ed7953\"],[0.7777777777777778,\"#fb9f3a\"],[0.8888888888888888,\"#fdca26\"],[1.0,\"#f0f921\"]]},\"colorway\":[\"#636efa\",\"#EF553B\",\"#00cc96\",\"#ab63fa\",\"#FFA15A\",\"#19d3f3\",\"#FF6692\",\"#B6E880\",\"#FF97FF\",\"#FECB52\"],\"font\":{\"color\":\"#2a3f5f\"},\"geo\":{\"bgcolor\":\"white\",\"lakecolor\":\"white\",\"landcolor\":\"#E5ECF6\",\"showlakes\":true,\"showland\":true,\"subunitcolor\":\"white\"},\"hoverlabel\":{\"align\":\"left\"},\"hovermode\":\"closest\",\"mapbox\":{\"style\":\"light\"},\"paper_bgcolor\":\"white\",\"plot_bgcolor\":\"#E5ECF6\",\"polar\":{\"angularaxis\":{\"gridcolor\":\"white\",\"linecolor\":\"white\",\"ticks\":\"\"},\"bgcolor\":\"#E5ECF6\",\"radialaxis\":{\"gridcolor\":\"white\",\"linecolor\":\"white\",\"ticks\":\"\"}},\"scene\":{\"xaxis\":{\"backgroundcolor\":\"#E5ECF6\",\"gridcolor\":\"white\",\"gridwidth\":2,\"linecolor\":\"white\",\"showbackground\":true,\"ticks\":\"\",\"zerolinecolor\":\"white\"},\"yaxis\":{\"backgroundcolor\":\"#E5ECF6\",\"gridcolor\":\"white\",\"gridwidth\":2,\"linecolor\":\"white\",\"showbackground\":true,\"ticks\":\"\",\"zerolinecolor\":\"white\"},\"zaxis\":{\"backgroundcolor\":\"#E5ECF6\",\"gridcolor\":\"white\",\"gridwidth\":2,\"linecolor\":\"white\",\"showbackground\":true,\"ticks\":\"\",\"zerolinecolor\":\"white\"}},\"shapedefaults\":{\"line\":{\"color\":\"#2a3f5f\"}},\"ternary\":{\"aaxis\":{\"gridcolor\":\"white\",\"linecolor\":\"white\",\"ticks\":\"\"},\"baxis\":{\"gridcolor\":\"white\",\"linecolor\":\"white\",\"ticks\":\"\"},\"bgcolor\":\"#E5ECF6\",\"caxis\":{\"gridcolor\":\"white\",\"linecolor\":\"white\",\"ticks\":\"\"}},\"title\":{\"x\":0.05},\"xaxis\":{\"automargin\":true,\"gridcolor\":\"white\",\"linecolor\":\"white\",\"ticks\":\"\",\"title\":{\"standoff\":15},\"zerolinecolor\":\"white\",\"zerolinewidth\":2},\"yaxis\":{\"automargin\":true,\"gridcolor\":\"white\",\"linecolor\":\"white\",\"ticks\":\"\",\"title\":{\"standoff\":15},\"zerolinecolor\":\"white\",\"zerolinewidth\":2}}},\"xaxis\":{\"anchor\":\"y\",\"domain\":[0.0,1.0],\"title\":{\"text\":\"x\"}},\"yaxis\":{\"anchor\":\"x\",\"domain\":[0.0,1.0],\"title\":{\"text\":\"y\"}},\"legend\":{\"tracegroupgap\":0},\"title\":{\"text\":\"A plot dependency of duplicates on shingle size (with fixed minhash length\"}},                        {\"responsive\": true}                    ).then(function(){\n",
              "                            \n",
              "var gd = document.getElementById('72fe2a49-bb35-4e25-80d8-d47bd3fd6501');\n",
              "var x = new MutationObserver(function (mutations, observer) {{\n",
              "        var display = window.getComputedStyle(gd).display;\n",
              "        if (!display || display === 'none') {{\n",
              "            console.log([gd, 'removed!']);\n",
              "            Plotly.purge(gd);\n",
              "            observer.disconnect();\n",
              "        }}\n",
              "}});\n",
              "\n",
              "// Listen for the removal of the full notebook cells\n",
              "var notebookContainer = gd.closest('#notebook-container');\n",
              "if (notebookContainer) {{\n",
              "    x.observe(notebookContainer, {childList: true});\n",
              "}}\n",
              "\n",
              "// Listen for the clearing of the current output cell\n",
              "var outputEl = gd.closest('.output');\n",
              "if (outputEl) {{\n",
              "    x.observe(outputEl, {childList: true});\n",
              "}}\n",
              "\n",
              "                        })                };                            </script>        </div>\n",
              "</body>\n",
              "</html>"
            ]
          },
          "metadata": {}
        }
      ]
    },
    {
      "cell_type": "markdown",
      "source": [
        "3. Make a plot dependency of duplicates on minhash length (with fixed shingle size)"
      ],
      "metadata": {
        "id": "FZhTwkPR02bK"
      }
    },
    {
      "cell_type": "code",
      "source": [
        "minhash_lengths = [16, 32, 64, 128, 256]\n",
        "n_duplicates = [len(get_min_hash_lsh(preprocessed_texts, 0.9, minhash_length, 5)) for minhash_length in minhash_lengths]"
      ],
      "metadata": {
        "id": "ST07ZFmJGM1H"
      },
      "execution_count": null,
      "outputs": []
    },
    {
      "cell_type": "code",
      "source": [
        "figure = px.line(x=minhash_lengths,\n",
        "                 y=n_duplicates,\n",
        "                 title='Make a plot dependency of duplicates on minhash length (with fixed shingle size)',\n",
        "                 markers=True)\n",
        "figure.show()"
      ],
      "metadata": {
        "colab": {
          "base_uri": "https://localhost:8080/",
          "height": 542
        },
        "id": "wO9H95fmKM8y",
        "outputId": "2c3d88c4-e0f2-4f82-eed3-5d87447dbea4"
      },
      "execution_count": null,
      "outputs": [
        {
          "output_type": "display_data",
          "data": {
            "text/html": [
              "<html>\n",
              "<head><meta charset=\"utf-8\" /></head>\n",
              "<body>\n",
              "    <div>            <script src=\"https://cdnjs.cloudflare.com/ajax/libs/mathjax/2.7.5/MathJax.js?config=TeX-AMS-MML_SVG\"></script><script type=\"text/javascript\">if (window.MathJax) {MathJax.Hub.Config({SVG: {font: \"STIX-Web\"}});}</script>                <script type=\"text/javascript\">window.PlotlyConfig = {MathJaxConfig: 'local'};</script>\n",
              "        <script src=\"https://cdn.plot.ly/plotly-2.8.3.min.js\"></script>                <div id=\"418c691e-c426-49a5-a004-075dd406038d\" class=\"plotly-graph-div\" style=\"height:525px; width:100%;\"></div>            <script type=\"text/javascript\">                                    window.PLOTLYENV=window.PLOTLYENV || {};                                    if (document.getElementById(\"418c691e-c426-49a5-a004-075dd406038d\")) {                    Plotly.newPlot(                        \"418c691e-c426-49a5-a004-075dd406038d\",                        [{\"hovertemplate\":\"x=%{x}<br>y=%{y}<extra></extra>\",\"legendgroup\":\"\",\"line\":{\"color\":\"#636efa\",\"dash\":\"solid\"},\"marker\":{\"symbol\":\"circle\"},\"mode\":\"lines+markers\",\"name\":\"\",\"orientation\":\"v\",\"showlegend\":false,\"x\":[16,32,64,128,256],\"xaxis\":\"x\",\"y\":[2039,2517,2304,2296,2338],\"yaxis\":\"y\",\"type\":\"scatter\"}],                        {\"template\":{\"data\":{\"bar\":[{\"error_x\":{\"color\":\"#2a3f5f\"},\"error_y\":{\"color\":\"#2a3f5f\"},\"marker\":{\"line\":{\"color\":\"#E5ECF6\",\"width\":0.5},\"pattern\":{\"fillmode\":\"overlay\",\"size\":10,\"solidity\":0.2}},\"type\":\"bar\"}],\"barpolar\":[{\"marker\":{\"line\":{\"color\":\"#E5ECF6\",\"width\":0.5},\"pattern\":{\"fillmode\":\"overlay\",\"size\":10,\"solidity\":0.2}},\"type\":\"barpolar\"}],\"carpet\":[{\"aaxis\":{\"endlinecolor\":\"#2a3f5f\",\"gridcolor\":\"white\",\"linecolor\":\"white\",\"minorgridcolor\":\"white\",\"startlinecolor\":\"#2a3f5f\"},\"baxis\":{\"endlinecolor\":\"#2a3f5f\",\"gridcolor\":\"white\",\"linecolor\":\"white\",\"minorgridcolor\":\"white\",\"startlinecolor\":\"#2a3f5f\"},\"type\":\"carpet\"}],\"choropleth\":[{\"colorbar\":{\"outlinewidth\":0,\"ticks\":\"\"},\"type\":\"choropleth\"}],\"contour\":[{\"colorbar\":{\"outlinewidth\":0,\"ticks\":\"\"},\"colorscale\":[[0.0,\"#0d0887\"],[0.1111111111111111,\"#46039f\"],[0.2222222222222222,\"#7201a8\"],[0.3333333333333333,\"#9c179e\"],[0.4444444444444444,\"#bd3786\"],[0.5555555555555556,\"#d8576b\"],[0.6666666666666666,\"#ed7953\"],[0.7777777777777778,\"#fb9f3a\"],[0.8888888888888888,\"#fdca26\"],[1.0,\"#f0f921\"]],\"type\":\"contour\"}],\"contourcarpet\":[{\"colorbar\":{\"outlinewidth\":0,\"ticks\":\"\"},\"type\":\"contourcarpet\"}],\"heatmap\":[{\"colorbar\":{\"outlinewidth\":0,\"ticks\":\"\"},\"colorscale\":[[0.0,\"#0d0887\"],[0.1111111111111111,\"#46039f\"],[0.2222222222222222,\"#7201a8\"],[0.3333333333333333,\"#9c179e\"],[0.4444444444444444,\"#bd3786\"],[0.5555555555555556,\"#d8576b\"],[0.6666666666666666,\"#ed7953\"],[0.7777777777777778,\"#fb9f3a\"],[0.8888888888888888,\"#fdca26\"],[1.0,\"#f0f921\"]],\"type\":\"heatmap\"}],\"heatmapgl\":[{\"colorbar\":{\"outlinewidth\":0,\"ticks\":\"\"},\"colorscale\":[[0.0,\"#0d0887\"],[0.1111111111111111,\"#46039f\"],[0.2222222222222222,\"#7201a8\"],[0.3333333333333333,\"#9c179e\"],[0.4444444444444444,\"#bd3786\"],[0.5555555555555556,\"#d8576b\"],[0.6666666666666666,\"#ed7953\"],[0.7777777777777778,\"#fb9f3a\"],[0.8888888888888888,\"#fdca26\"],[1.0,\"#f0f921\"]],\"type\":\"heatmapgl\"}],\"histogram\":[{\"marker\":{\"pattern\":{\"fillmode\":\"overlay\",\"size\":10,\"solidity\":0.2}},\"type\":\"histogram\"}],\"histogram2d\":[{\"colorbar\":{\"outlinewidth\":0,\"ticks\":\"\"},\"colorscale\":[[0.0,\"#0d0887\"],[0.1111111111111111,\"#46039f\"],[0.2222222222222222,\"#7201a8\"],[0.3333333333333333,\"#9c179e\"],[0.4444444444444444,\"#bd3786\"],[0.5555555555555556,\"#d8576b\"],[0.6666666666666666,\"#ed7953\"],[0.7777777777777778,\"#fb9f3a\"],[0.8888888888888888,\"#fdca26\"],[1.0,\"#f0f921\"]],\"type\":\"histogram2d\"}],\"histogram2dcontour\":[{\"colorbar\":{\"outlinewidth\":0,\"ticks\":\"\"},\"colorscale\":[[0.0,\"#0d0887\"],[0.1111111111111111,\"#46039f\"],[0.2222222222222222,\"#7201a8\"],[0.3333333333333333,\"#9c179e\"],[0.4444444444444444,\"#bd3786\"],[0.5555555555555556,\"#d8576b\"],[0.6666666666666666,\"#ed7953\"],[0.7777777777777778,\"#fb9f3a\"],[0.8888888888888888,\"#fdca26\"],[1.0,\"#f0f921\"]],\"type\":\"histogram2dcontour\"}],\"mesh3d\":[{\"colorbar\":{\"outlinewidth\":0,\"ticks\":\"\"},\"type\":\"mesh3d\"}],\"parcoords\":[{\"line\":{\"colorbar\":{\"outlinewidth\":0,\"ticks\":\"\"}},\"type\":\"parcoords\"}],\"pie\":[{\"automargin\":true,\"type\":\"pie\"}],\"scatter\":[{\"marker\":{\"colorbar\":{\"outlinewidth\":0,\"ticks\":\"\"}},\"type\":\"scatter\"}],\"scatter3d\":[{\"line\":{\"colorbar\":{\"outlinewidth\":0,\"ticks\":\"\"}},\"marker\":{\"colorbar\":{\"outlinewidth\":0,\"ticks\":\"\"}},\"type\":\"scatter3d\"}],\"scattercarpet\":[{\"marker\":{\"colorbar\":{\"outlinewidth\":0,\"ticks\":\"\"}},\"type\":\"scattercarpet\"}],\"scattergeo\":[{\"marker\":{\"colorbar\":{\"outlinewidth\":0,\"ticks\":\"\"}},\"type\":\"scattergeo\"}],\"scattergl\":[{\"marker\":{\"colorbar\":{\"outlinewidth\":0,\"ticks\":\"\"}},\"type\":\"scattergl\"}],\"scattermapbox\":[{\"marker\":{\"colorbar\":{\"outlinewidth\":0,\"ticks\":\"\"}},\"type\":\"scattermapbox\"}],\"scatterpolar\":[{\"marker\":{\"colorbar\":{\"outlinewidth\":0,\"ticks\":\"\"}},\"type\":\"scatterpolar\"}],\"scatterpolargl\":[{\"marker\":{\"colorbar\":{\"outlinewidth\":0,\"ticks\":\"\"}},\"type\":\"scatterpolargl\"}],\"scatterternary\":[{\"marker\":{\"colorbar\":{\"outlinewidth\":0,\"ticks\":\"\"}},\"type\":\"scatterternary\"}],\"surface\":[{\"colorbar\":{\"outlinewidth\":0,\"ticks\":\"\"},\"colorscale\":[[0.0,\"#0d0887\"],[0.1111111111111111,\"#46039f\"],[0.2222222222222222,\"#7201a8\"],[0.3333333333333333,\"#9c179e\"],[0.4444444444444444,\"#bd3786\"],[0.5555555555555556,\"#d8576b\"],[0.6666666666666666,\"#ed7953\"],[0.7777777777777778,\"#fb9f3a\"],[0.8888888888888888,\"#fdca26\"],[1.0,\"#f0f921\"]],\"type\":\"surface\"}],\"table\":[{\"cells\":{\"fill\":{\"color\":\"#EBF0F8\"},\"line\":{\"color\":\"white\"}},\"header\":{\"fill\":{\"color\":\"#C8D4E3\"},\"line\":{\"color\":\"white\"}},\"type\":\"table\"}]},\"layout\":{\"annotationdefaults\":{\"arrowcolor\":\"#2a3f5f\",\"arrowhead\":0,\"arrowwidth\":1},\"autotypenumbers\":\"strict\",\"coloraxis\":{\"colorbar\":{\"outlinewidth\":0,\"ticks\":\"\"}},\"colorscale\":{\"diverging\":[[0,\"#8e0152\"],[0.1,\"#c51b7d\"],[0.2,\"#de77ae\"],[0.3,\"#f1b6da\"],[0.4,\"#fde0ef\"],[0.5,\"#f7f7f7\"],[0.6,\"#e6f5d0\"],[0.7,\"#b8e186\"],[0.8,\"#7fbc41\"],[0.9,\"#4d9221\"],[1,\"#276419\"]],\"sequential\":[[0.0,\"#0d0887\"],[0.1111111111111111,\"#46039f\"],[0.2222222222222222,\"#7201a8\"],[0.3333333333333333,\"#9c179e\"],[0.4444444444444444,\"#bd3786\"],[0.5555555555555556,\"#d8576b\"],[0.6666666666666666,\"#ed7953\"],[0.7777777777777778,\"#fb9f3a\"],[0.8888888888888888,\"#fdca26\"],[1.0,\"#f0f921\"]],\"sequentialminus\":[[0.0,\"#0d0887\"],[0.1111111111111111,\"#46039f\"],[0.2222222222222222,\"#7201a8\"],[0.3333333333333333,\"#9c179e\"],[0.4444444444444444,\"#bd3786\"],[0.5555555555555556,\"#d8576b\"],[0.6666666666666666,\"#ed7953\"],[0.7777777777777778,\"#fb9f3a\"],[0.8888888888888888,\"#fdca26\"],[1.0,\"#f0f921\"]]},\"colorway\":[\"#636efa\",\"#EF553B\",\"#00cc96\",\"#ab63fa\",\"#FFA15A\",\"#19d3f3\",\"#FF6692\",\"#B6E880\",\"#FF97FF\",\"#FECB52\"],\"font\":{\"color\":\"#2a3f5f\"},\"geo\":{\"bgcolor\":\"white\",\"lakecolor\":\"white\",\"landcolor\":\"#E5ECF6\",\"showlakes\":true,\"showland\":true,\"subunitcolor\":\"white\"},\"hoverlabel\":{\"align\":\"left\"},\"hovermode\":\"closest\",\"mapbox\":{\"style\":\"light\"},\"paper_bgcolor\":\"white\",\"plot_bgcolor\":\"#E5ECF6\",\"polar\":{\"angularaxis\":{\"gridcolor\":\"white\",\"linecolor\":\"white\",\"ticks\":\"\"},\"bgcolor\":\"#E5ECF6\",\"radialaxis\":{\"gridcolor\":\"white\",\"linecolor\":\"white\",\"ticks\":\"\"}},\"scene\":{\"xaxis\":{\"backgroundcolor\":\"#E5ECF6\",\"gridcolor\":\"white\",\"gridwidth\":2,\"linecolor\":\"white\",\"showbackground\":true,\"ticks\":\"\",\"zerolinecolor\":\"white\"},\"yaxis\":{\"backgroundcolor\":\"#E5ECF6\",\"gridcolor\":\"white\",\"gridwidth\":2,\"linecolor\":\"white\",\"showbackground\":true,\"ticks\":\"\",\"zerolinecolor\":\"white\"},\"zaxis\":{\"backgroundcolor\":\"#E5ECF6\",\"gridcolor\":\"white\",\"gridwidth\":2,\"linecolor\":\"white\",\"showbackground\":true,\"ticks\":\"\",\"zerolinecolor\":\"white\"}},\"shapedefaults\":{\"line\":{\"color\":\"#2a3f5f\"}},\"ternary\":{\"aaxis\":{\"gridcolor\":\"white\",\"linecolor\":\"white\",\"ticks\":\"\"},\"baxis\":{\"gridcolor\":\"white\",\"linecolor\":\"white\",\"ticks\":\"\"},\"bgcolor\":\"#E5ECF6\",\"caxis\":{\"gridcolor\":\"white\",\"linecolor\":\"white\",\"ticks\":\"\"}},\"title\":{\"x\":0.05},\"xaxis\":{\"automargin\":true,\"gridcolor\":\"white\",\"linecolor\":\"white\",\"ticks\":\"\",\"title\":{\"standoff\":15},\"zerolinecolor\":\"white\",\"zerolinewidth\":2},\"yaxis\":{\"automargin\":true,\"gridcolor\":\"white\",\"linecolor\":\"white\",\"ticks\":\"\",\"title\":{\"standoff\":15},\"zerolinecolor\":\"white\",\"zerolinewidth\":2}}},\"xaxis\":{\"anchor\":\"y\",\"domain\":[0.0,1.0],\"title\":{\"text\":\"x\"}},\"yaxis\":{\"anchor\":\"x\",\"domain\":[0.0,1.0],\"title\":{\"text\":\"y\"}},\"legend\":{\"tracegroupgap\":0},\"title\":{\"text\":\"Make a plot dependency of duplicates on minhash length (with fixed shingle size)\"}},                        {\"responsive\": true}                    ).then(function(){\n",
              "                            \n",
              "var gd = document.getElementById('418c691e-c426-49a5-a004-075dd406038d');\n",
              "var x = new MutationObserver(function (mutations, observer) {{\n",
              "        var display = window.getComputedStyle(gd).display;\n",
              "        if (!display || display === 'none') {{\n",
              "            console.log([gd, 'removed!']);\n",
              "            Plotly.purge(gd);\n",
              "            observer.disconnect();\n",
              "        }}\n",
              "}});\n",
              "\n",
              "// Listen for the removal of the full notebook cells\n",
              "var notebookContainer = gd.closest('#notebook-container');\n",
              "if (notebookContainer) {{\n",
              "    x.observe(notebookContainer, {childList: true});\n",
              "}}\n",
              "\n",
              "// Listen for the clearing of the current output cell\n",
              "var outputEl = gd.closest('.output');\n",
              "if (outputEl) {{\n",
              "    x.observe(outputEl, {childList: true});\n",
              "}}\n",
              "\n",
              "                        })                };                            </script>        </div>\n",
              "</body>\n",
              "</html>"
            ]
          },
          "metadata": {}
        }
      ]
    },
    {
      "cell_type": "markdown",
      "metadata": {
        "id": "njdTa1daDMVS"
      },
      "source": [
        "# [Optional 10 points] Part 3. Topic model"
      ]
    },
    {
      "cell_type": "markdown",
      "metadata": {
        "id": "4BwJNkn2DMVT"
      },
      "source": [
        "In this part you will learn how to do topic modeling with common tools and assess the resulting quality of the models. "
      ]
    },
    {
      "cell_type": "markdown",
      "metadata": {
        "id": "WkNFzxqPDMVU"
      },
      "source": [
        "The provided data contain chunked stories by Edgar Allan Poe (EAP), Mary Shelley (MWS), and HP Lovecraft (HPL).\n",
        "\n",
        "The dataset can be downloaded here: `https://drive.google.com/file/d/14tAjAzHr6UmFVFV7ABTyNHBh-dWHAaLH/view?usp=sharing`"
      ]
    },
    {
      "cell_type": "markdown",
      "metadata": {
        "id": "5BNIa1miDMVU"
      },
      "source": [
        "#### Preprocess dataset with the functions from the Part 1"
      ]
    },
    {
      "cell_type": "code",
      "execution_count": null,
      "metadata": {
        "id": "9B8PZNRyDMVV"
      },
      "outputs": [],
      "source": [
        "stories = pd.read_csv(join(url, 'data.csv'))"
      ]
    },
    {
      "cell_type": "code",
      "source": [
        "preprocessed_stories = text_processing(stories.text.tolist(), False)"
      ],
      "metadata": {
        "id": "hI2W10g5aB1B"
      },
      "execution_count": null,
      "outputs": []
    },
    {
      "cell_type": "markdown",
      "metadata": {
        "id": "qKU2D29CDMVV"
      },
      "source": [
        "#### Quality estimation"
      ]
    },
    {
      "cell_type": "markdown",
      "metadata": {
        "id": "l6xfd3vpDMVW"
      },
      "source": [
        "Implement the following three quality fuctions: `coherence` (or `tf-idf coherence`), `normalized PMI`, `based on the distributed word representation`(you can use pretrained w2v vectors or some other model). You are free to use any libraries (for instance gensim) and components."
      ]
    },
    {
      "cell_type": "markdown",
      "source": [
        "Coherence, Normalized PMI"
      ],
      "metadata": {
        "id": "aSGegGsdf5ia"
      }
    },
    {
      "cell_type": "code",
      "source": [
        "def calculate_coherence(topics, corpus, dictionary, texts, type_):\n",
        "    coherence_model = CoherenceModel(topics=topics,\n",
        "                                     corpus=corpus,\n",
        "                                     dictionary=dictionary,\n",
        "                                     texts=texts,\n",
        "                                     coherence=type_)\n",
        "    return coherence_model.get_coherence()"
      ],
      "metadata": {
        "id": "PJeUv0c_cd2v"
      },
      "execution_count": null,
      "outputs": []
    },
    {
      "cell_type": "markdown",
      "source": [
        "Based on the distributed word representation"
      ],
      "metadata": {
        "id": "IbtoxLt3sOZw"
      }
    },
    {
      "cell_type": "code",
      "source": [
        "model = SentenceTransformer('sentence-transformers/distiluse-base-multilingual-cased-v2')"
      ],
      "metadata": {
        "id": "MW92Jhar0aUS"
      },
      "execution_count": null,
      "outputs": []
    },
    {
      "cell_type": "code",
      "source": [
        "def similarity(words):\n",
        "    k = len(words)\n",
        "    embeddings = [model.encode(word) for word in words]\n",
        "    return (np.sum(cosine_similarity(embeddings)) - k) / k / (k - 1)"
      ],
      "metadata": {
        "id": "-Prr5y6k2MzF"
      },
      "execution_count": null,
      "outputs": []
    },
    {
      "cell_type": "code",
      "source": [
        "def calculate_based_on_dr(topics):\n",
        "    return np.mean([similarity(topic) for topic in topics])"
      ],
      "metadata": {
        "id": "ZLQGnIWe1_ZX"
      },
      "execution_count": null,
      "outputs": []
    },
    {
      "cell_type": "markdown",
      "metadata": {
        "id": "Kp1jTJmPDMVX"
      },
      "source": [
        "### Topic modeling"
      ]
    },
    {
      "cell_type": "markdown",
      "metadata": {
        "id": "ulOjNL9vDMVZ"
      },
      "source": [
        "Plot the histogram of resulting tokens counts in the processed datasets."
      ]
    },
    {
      "cell_type": "code",
      "source": [
        "flattened = [text.split() for text in preprocessed_stories]\n",
        "flattened = [word for words in flattened for word in words]"
      ],
      "metadata": {
        "id": "ky-b1Rza4mbg"
      },
      "execution_count": null,
      "outputs": []
    },
    {
      "cell_type": "code",
      "source": [
        "len(flattened)"
      ],
      "metadata": {
        "colab": {
          "base_uri": "https://localhost:8080/"
        },
        "outputId": "512bfc5b-8c07-4419-d647-7da44c5d51ec",
        "id": "wOoyHIoq4mbg"
      },
      "execution_count": null,
      "outputs": [
        {
          "output_type": "execute_result",
          "data": {
            "text/plain": [
              "250446"
            ]
          },
          "metadata": {},
          "execution_count": 30
        }
      ]
    },
    {
      "cell_type": "code",
      "execution_count": null,
      "metadata": {
        "id": "DfpW2__v4mbh"
      },
      "outputs": [],
      "source": [
        "counts = Counter(flattened).most_common(100)"
      ]
    },
    {
      "cell_type": "code",
      "source": [
        "figure = go.Figure(go.Bar(x=[count[1] for count in counts[::-1]],\n",
        "                          y=[count[0] for count in counts[::-1]],\n",
        "                          orientation='h',\n",
        "                          text=[count[1] for count in counts[::-1]],\n",
        "                          textposition='outside',))\n",
        "figure.update_layout(title='Top 100 words',\n",
        "                     height=1600)\n",
        "figure.show()"
      ],
      "metadata": {
        "colab": {
          "base_uri": "https://localhost:8080/",
          "height": 1000
        },
        "outputId": "6195376a-63e1-4331-ea77-cf7d71515022",
        "id": "FQvfBR9Q4mbh"
      },
      "execution_count": null,
      "outputs": [
        {
          "output_type": "display_data",
          "data": {
            "text/html": [
              "<html>\n",
              "<head><meta charset=\"utf-8\" /></head>\n",
              "<body>\n",
              "    <div>            <script src=\"https://cdnjs.cloudflare.com/ajax/libs/mathjax/2.7.5/MathJax.js?config=TeX-AMS-MML_SVG\"></script><script type=\"text/javascript\">if (window.MathJax) {MathJax.Hub.Config({SVG: {font: \"STIX-Web\"}});}</script>                <script type=\"text/javascript\">window.PlotlyConfig = {MathJaxConfig: 'local'};</script>\n",
              "        <script src=\"https://cdn.plot.ly/plotly-2.8.3.min.js\"></script>                <div id=\"86fca373-f877-4f76-912f-37e6a7c966b6\" class=\"plotly-graph-div\" style=\"height:1600px; width:100%;\"></div>            <script type=\"text/javascript\">                                    window.PLOTLYENV=window.PLOTLYENV || {};                                    if (document.getElementById(\"86fca373-f877-4f76-912f-37e6a7c966b6\")) {                    Plotly.newPlot(                        \"86fca373-f877-4f76-912f-37e6a7c966b6\",                        [{\"orientation\":\"h\",\"text\":[\"280\",\"280\",\"282\",\"283\",\"285\",\"286\",\"288\",\"291\",\"292\",\"295\",\"297\",\"298\",\"302\",\"308\",\"308\",\"309\",\"311\",\"311\",\"313\",\"314\",\"316\",\"318\",\"321\",\"324\",\"325\",\"330\",\"331\",\"335\",\"336\",\"337\",\"337\",\"338\",\"343\",\"345\",\"345\",\"347\",\"350\",\"358\",\"366\",\"368\",\"370\",\"371\",\"376\",\"385\",\"401\",\"402\",\"405\",\"408\",\"408\",\"418\",\"419\",\"428\",\"433\",\"436\",\"445\",\"447\",\"459\",\"467\",\"467\",\"470\",\"491\",\"496\",\"503\",\"509\",\"520\",\"531\",\"535\",\"540\",\"548\",\"551\",\"567\",\"568\",\"570\",\"579\",\"586\",\"597\",\"598\",\"602\",\"620\",\"632\",\"659\",\"670\",\"680\",\"688\",\"701\",\"713\",\"715\",\"725\",\"743\",\"837\",\"838\",\"870\",\"877\",\"959\",\"1064\",\"1143\",\"1220\",\"1236\",\"1331\",\"1676\"],\"textposition\":\"outside\",\"x\":[280,280,282,283,285,286,288,291,292,295,297,298,302,308,308,309,311,311,313,314,316,318,321,324,325,330,331,335,336,337,337,338,343,345,345,347,350,358,366,368,370,371,376,385,401,402,405,408,408,418,419,428,433,436,445,447,459,467,467,470,491,496,503,509,520,531,535,540,548,551,567,568,570,579,586,597,598,602,620,632,659,670,680,688,701,713,715,725,743,837,838,870,877,959,1064,1143,1220,1236,1331,1676],\"y\":[\"among\",\"face\",\"die\",\"body\",\"father\",\"point\",\"bring\",\"strange\",\"nature\",\"away\",\"whole\",\"lie\",\"part\",\"moment\",\"nothing\",\"let\",\"hope\",\"back\",\"turn\",\"return\",\"indeed\",\"though\",\"call\",\"voice\",\"way\",\"open\",\"appear\",\"dream\",\"world\",\"hour\",\"earth\",\"pass\",\"door\",\"head\",\"room\",\"fall\",\"last\",\"however\",\"fear\",\"shall\",\"form\",\"good\",\"far\",\"friend\",\"whose\",\"speak\",\"mind\",\"ever\",\"heart\",\"light\",\"death\",\"word\",\"two\",\"tell\",\"year\",\"love\",\"much\",\"leave\",\"house\",\"hand\",\"many\",\"hear\",\"place\",\"become\",\"still\",\"little\",\"every\",\"feel\",\"think\",\"long\",\"well\",\"look\",\"never\",\"give\",\"night\",\"must\",\"life\",\"first\",\"like\",\"go\",\"old\",\"seem\",\"great\",\"take\",\"even\",\"eye\",\"yet\",\"thing\",\"day\",\"know\",\"find\",\"time\",\"come\",\"make\",\"may\",\"man\",\"say\",\"see\",\"could\",\"one\"],\"type\":\"bar\"}],                        {\"template\":{\"data\":{\"bar\":[{\"error_x\":{\"color\":\"#2a3f5f\"},\"error_y\":{\"color\":\"#2a3f5f\"},\"marker\":{\"line\":{\"color\":\"#E5ECF6\",\"width\":0.5},\"pattern\":{\"fillmode\":\"overlay\",\"size\":10,\"solidity\":0.2}},\"type\":\"bar\"}],\"barpolar\":[{\"marker\":{\"line\":{\"color\":\"#E5ECF6\",\"width\":0.5},\"pattern\":{\"fillmode\":\"overlay\",\"size\":10,\"solidity\":0.2}},\"type\":\"barpolar\"}],\"carpet\":[{\"aaxis\":{\"endlinecolor\":\"#2a3f5f\",\"gridcolor\":\"white\",\"linecolor\":\"white\",\"minorgridcolor\":\"white\",\"startlinecolor\":\"#2a3f5f\"},\"baxis\":{\"endlinecolor\":\"#2a3f5f\",\"gridcolor\":\"white\",\"linecolor\":\"white\",\"minorgridcolor\":\"white\",\"startlinecolor\":\"#2a3f5f\"},\"type\":\"carpet\"}],\"choropleth\":[{\"colorbar\":{\"outlinewidth\":0,\"ticks\":\"\"},\"type\":\"choropleth\"}],\"contour\":[{\"colorbar\":{\"outlinewidth\":0,\"ticks\":\"\"},\"colorscale\":[[0.0,\"#0d0887\"],[0.1111111111111111,\"#46039f\"],[0.2222222222222222,\"#7201a8\"],[0.3333333333333333,\"#9c179e\"],[0.4444444444444444,\"#bd3786\"],[0.5555555555555556,\"#d8576b\"],[0.6666666666666666,\"#ed7953\"],[0.7777777777777778,\"#fb9f3a\"],[0.8888888888888888,\"#fdca26\"],[1.0,\"#f0f921\"]],\"type\":\"contour\"}],\"contourcarpet\":[{\"colorbar\":{\"outlinewidth\":0,\"ticks\":\"\"},\"type\":\"contourcarpet\"}],\"heatmap\":[{\"colorbar\":{\"outlinewidth\":0,\"ticks\":\"\"},\"colorscale\":[[0.0,\"#0d0887\"],[0.1111111111111111,\"#46039f\"],[0.2222222222222222,\"#7201a8\"],[0.3333333333333333,\"#9c179e\"],[0.4444444444444444,\"#bd3786\"],[0.5555555555555556,\"#d8576b\"],[0.6666666666666666,\"#ed7953\"],[0.7777777777777778,\"#fb9f3a\"],[0.8888888888888888,\"#fdca26\"],[1.0,\"#f0f921\"]],\"type\":\"heatmap\"}],\"heatmapgl\":[{\"colorbar\":{\"outlinewidth\":0,\"ticks\":\"\"},\"colorscale\":[[0.0,\"#0d0887\"],[0.1111111111111111,\"#46039f\"],[0.2222222222222222,\"#7201a8\"],[0.3333333333333333,\"#9c179e\"],[0.4444444444444444,\"#bd3786\"],[0.5555555555555556,\"#d8576b\"],[0.6666666666666666,\"#ed7953\"],[0.7777777777777778,\"#fb9f3a\"],[0.8888888888888888,\"#fdca26\"],[1.0,\"#f0f921\"]],\"type\":\"heatmapgl\"}],\"histogram\":[{\"marker\":{\"pattern\":{\"fillmode\":\"overlay\",\"size\":10,\"solidity\":0.2}},\"type\":\"histogram\"}],\"histogram2d\":[{\"colorbar\":{\"outlinewidth\":0,\"ticks\":\"\"},\"colorscale\":[[0.0,\"#0d0887\"],[0.1111111111111111,\"#46039f\"],[0.2222222222222222,\"#7201a8\"],[0.3333333333333333,\"#9c179e\"],[0.4444444444444444,\"#bd3786\"],[0.5555555555555556,\"#d8576b\"],[0.6666666666666666,\"#ed7953\"],[0.7777777777777778,\"#fb9f3a\"],[0.8888888888888888,\"#fdca26\"],[1.0,\"#f0f921\"]],\"type\":\"histogram2d\"}],\"histogram2dcontour\":[{\"colorbar\":{\"outlinewidth\":0,\"ticks\":\"\"},\"colorscale\":[[0.0,\"#0d0887\"],[0.1111111111111111,\"#46039f\"],[0.2222222222222222,\"#7201a8\"],[0.3333333333333333,\"#9c179e\"],[0.4444444444444444,\"#bd3786\"],[0.5555555555555556,\"#d8576b\"],[0.6666666666666666,\"#ed7953\"],[0.7777777777777778,\"#fb9f3a\"],[0.8888888888888888,\"#fdca26\"],[1.0,\"#f0f921\"]],\"type\":\"histogram2dcontour\"}],\"mesh3d\":[{\"colorbar\":{\"outlinewidth\":0,\"ticks\":\"\"},\"type\":\"mesh3d\"}],\"parcoords\":[{\"line\":{\"colorbar\":{\"outlinewidth\":0,\"ticks\":\"\"}},\"type\":\"parcoords\"}],\"pie\":[{\"automargin\":true,\"type\":\"pie\"}],\"scatter\":[{\"marker\":{\"colorbar\":{\"outlinewidth\":0,\"ticks\":\"\"}},\"type\":\"scatter\"}],\"scatter3d\":[{\"line\":{\"colorbar\":{\"outlinewidth\":0,\"ticks\":\"\"}},\"marker\":{\"colorbar\":{\"outlinewidth\":0,\"ticks\":\"\"}},\"type\":\"scatter3d\"}],\"scattercarpet\":[{\"marker\":{\"colorbar\":{\"outlinewidth\":0,\"ticks\":\"\"}},\"type\":\"scattercarpet\"}],\"scattergeo\":[{\"marker\":{\"colorbar\":{\"outlinewidth\":0,\"ticks\":\"\"}},\"type\":\"scattergeo\"}],\"scattergl\":[{\"marker\":{\"colorbar\":{\"outlinewidth\":0,\"ticks\":\"\"}},\"type\":\"scattergl\"}],\"scattermapbox\":[{\"marker\":{\"colorbar\":{\"outlinewidth\":0,\"ticks\":\"\"}},\"type\":\"scattermapbox\"}],\"scatterpolar\":[{\"marker\":{\"colorbar\":{\"outlinewidth\":0,\"ticks\":\"\"}},\"type\":\"scatterpolar\"}],\"scatterpolargl\":[{\"marker\":{\"colorbar\":{\"outlinewidth\":0,\"ticks\":\"\"}},\"type\":\"scatterpolargl\"}],\"scatterternary\":[{\"marker\":{\"colorbar\":{\"outlinewidth\":0,\"ticks\":\"\"}},\"type\":\"scatterternary\"}],\"surface\":[{\"colorbar\":{\"outlinewidth\":0,\"ticks\":\"\"},\"colorscale\":[[0.0,\"#0d0887\"],[0.1111111111111111,\"#46039f\"],[0.2222222222222222,\"#7201a8\"],[0.3333333333333333,\"#9c179e\"],[0.4444444444444444,\"#bd3786\"],[0.5555555555555556,\"#d8576b\"],[0.6666666666666666,\"#ed7953\"],[0.7777777777777778,\"#fb9f3a\"],[0.8888888888888888,\"#fdca26\"],[1.0,\"#f0f921\"]],\"type\":\"surface\"}],\"table\":[{\"cells\":{\"fill\":{\"color\":\"#EBF0F8\"},\"line\":{\"color\":\"white\"}},\"header\":{\"fill\":{\"color\":\"#C8D4E3\"},\"line\":{\"color\":\"white\"}},\"type\":\"table\"}]},\"layout\":{\"annotationdefaults\":{\"arrowcolor\":\"#2a3f5f\",\"arrowhead\":0,\"arrowwidth\":1},\"autotypenumbers\":\"strict\",\"coloraxis\":{\"colorbar\":{\"outlinewidth\":0,\"ticks\":\"\"}},\"colorscale\":{\"diverging\":[[0,\"#8e0152\"],[0.1,\"#c51b7d\"],[0.2,\"#de77ae\"],[0.3,\"#f1b6da\"],[0.4,\"#fde0ef\"],[0.5,\"#f7f7f7\"],[0.6,\"#e6f5d0\"],[0.7,\"#b8e186\"],[0.8,\"#7fbc41\"],[0.9,\"#4d9221\"],[1,\"#276419\"]],\"sequential\":[[0.0,\"#0d0887\"],[0.1111111111111111,\"#46039f\"],[0.2222222222222222,\"#7201a8\"],[0.3333333333333333,\"#9c179e\"],[0.4444444444444444,\"#bd3786\"],[0.5555555555555556,\"#d8576b\"],[0.6666666666666666,\"#ed7953\"],[0.7777777777777778,\"#fb9f3a\"],[0.8888888888888888,\"#fdca26\"],[1.0,\"#f0f921\"]],\"sequentialminus\":[[0.0,\"#0d0887\"],[0.1111111111111111,\"#46039f\"],[0.2222222222222222,\"#7201a8\"],[0.3333333333333333,\"#9c179e\"],[0.4444444444444444,\"#bd3786\"],[0.5555555555555556,\"#d8576b\"],[0.6666666666666666,\"#ed7953\"],[0.7777777777777778,\"#fb9f3a\"],[0.8888888888888888,\"#fdca26\"],[1.0,\"#f0f921\"]]},\"colorway\":[\"#636efa\",\"#EF553B\",\"#00cc96\",\"#ab63fa\",\"#FFA15A\",\"#19d3f3\",\"#FF6692\",\"#B6E880\",\"#FF97FF\",\"#FECB52\"],\"font\":{\"color\":\"#2a3f5f\"},\"geo\":{\"bgcolor\":\"white\",\"lakecolor\":\"white\",\"landcolor\":\"#E5ECF6\",\"showlakes\":true,\"showland\":true,\"subunitcolor\":\"white\"},\"hoverlabel\":{\"align\":\"left\"},\"hovermode\":\"closest\",\"mapbox\":{\"style\":\"light\"},\"paper_bgcolor\":\"white\",\"plot_bgcolor\":\"#E5ECF6\",\"polar\":{\"angularaxis\":{\"gridcolor\":\"white\",\"linecolor\":\"white\",\"ticks\":\"\"},\"bgcolor\":\"#E5ECF6\",\"radialaxis\":{\"gridcolor\":\"white\",\"linecolor\":\"white\",\"ticks\":\"\"}},\"scene\":{\"xaxis\":{\"backgroundcolor\":\"#E5ECF6\",\"gridcolor\":\"white\",\"gridwidth\":2,\"linecolor\":\"white\",\"showbackground\":true,\"ticks\":\"\",\"zerolinecolor\":\"white\"},\"yaxis\":{\"backgroundcolor\":\"#E5ECF6\",\"gridcolor\":\"white\",\"gridwidth\":2,\"linecolor\":\"white\",\"showbackground\":true,\"ticks\":\"\",\"zerolinecolor\":\"white\"},\"zaxis\":{\"backgroundcolor\":\"#E5ECF6\",\"gridcolor\":\"white\",\"gridwidth\":2,\"linecolor\":\"white\",\"showbackground\":true,\"ticks\":\"\",\"zerolinecolor\":\"white\"}},\"shapedefaults\":{\"line\":{\"color\":\"#2a3f5f\"}},\"ternary\":{\"aaxis\":{\"gridcolor\":\"white\",\"linecolor\":\"white\",\"ticks\":\"\"},\"baxis\":{\"gridcolor\":\"white\",\"linecolor\":\"white\",\"ticks\":\"\"},\"bgcolor\":\"#E5ECF6\",\"caxis\":{\"gridcolor\":\"white\",\"linecolor\":\"white\",\"ticks\":\"\"}},\"title\":{\"x\":0.05},\"xaxis\":{\"automargin\":true,\"gridcolor\":\"white\",\"linecolor\":\"white\",\"ticks\":\"\",\"title\":{\"standoff\":15},\"zerolinecolor\":\"white\",\"zerolinewidth\":2},\"yaxis\":{\"automargin\":true,\"gridcolor\":\"white\",\"linecolor\":\"white\",\"ticks\":\"\",\"title\":{\"standoff\":15},\"zerolinecolor\":\"white\",\"zerolinewidth\":2}}},\"title\":{\"text\":\"Top 100 words\"},\"height\":1600},                        {\"responsive\": true}                    ).then(function(){\n",
              "                            \n",
              "var gd = document.getElementById('86fca373-f877-4f76-912f-37e6a7c966b6');\n",
              "var x = new MutationObserver(function (mutations, observer) {{\n",
              "        var display = window.getComputedStyle(gd).display;\n",
              "        if (!display || display === 'none') {{\n",
              "            console.log([gd, 'removed!']);\n",
              "            Plotly.purge(gd);\n",
              "            observer.disconnect();\n",
              "        }}\n",
              "}});\n",
              "\n",
              "// Listen for the removal of the full notebook cells\n",
              "var notebookContainer = gd.closest('#notebook-container');\n",
              "if (notebookContainer) {{\n",
              "    x.observe(notebookContainer, {childList: true});\n",
              "}}\n",
              "\n",
              "// Listen for the clearing of the current output cell\n",
              "var outputEl = gd.closest('.output');\n",
              "if (outputEl) {{\n",
              "    x.observe(outputEl, {childList: true});\n",
              "}}\n",
              "\n",
              "                        })                };                            </script>        </div>\n",
              "</body>\n",
              "</html>"
            ]
          },
          "metadata": {}
        }
      ]
    },
    {
      "cell_type": "markdown",
      "metadata": {
        "id": "4N86AaGNDMVa"
      },
      "source": [
        "#### NMF"
      ]
    },
    {
      "cell_type": "markdown",
      "metadata": {
        "id": "kPelcAFQDMVa"
      },
      "source": [
        "Implement topic modeling with NMF (you can use `sklearn.decomposition.NMF`) and print out resulting topics. Try to change hyperparameters to better fit the dataset."
      ]
    },
    {
      "cell_type": "code",
      "source": [
        "n_features = 1000\n",
        "n_components = 10\n",
        "n_top_words = 20"
      ],
      "metadata": {
        "id": "cWjh4li9Bn_p"
      },
      "execution_count": null,
      "outputs": []
    },
    {
      "cell_type": "code",
      "execution_count": null,
      "metadata": {
        "id": "DCPzCMMMDMVa"
      },
      "outputs": [],
      "source": [
        "tfidf_vectorizer = TfidfVectorizer(max_df=0.95,\n",
        "                                   min_df=2,\n",
        "                                   max_features=n_features,\n",
        "                                   stop_words=stop_words)\n",
        "\n",
        "tfidf = tfidf_vectorizer.fit_transform(preprocessed_stories)\n",
        "tfidf_feature_names = tfidf_vectorizer.get_feature_names_out()"
      ]
    },
    {
      "cell_type": "code",
      "source": [
        "nmf = NMF(n_components=n_components,\n",
        "          random_state=17,\n",
        "          alpha=0.1,\n",
        "          l1_ratio=0.1).fit(tfidf)"
      ],
      "metadata": {
        "id": "ACC4bivWBr2S"
      },
      "execution_count": null,
      "outputs": []
    },
    {
      "cell_type": "code",
      "source": [
        "def get_top_words(model, feature_names, n_top_words):\n",
        "    topics = []\n",
        "    for topic_idx, topic in enumerate(model.components_):\n",
        "        top_features_ind = topic.argsort()[: -n_top_words - 1 : -1]\n",
        "        top_features = [feature_names[i] for i in top_features_ind]\n",
        "        topics.append(top_features)\n",
        "    return topics"
      ],
      "metadata": {
        "id": "fINLup5ZCTtS"
      },
      "execution_count": null,
      "outputs": []
    },
    {
      "cell_type": "code",
      "source": [
        "nmf_topics = get_top_words(nmf, tfidf_feature_names, n_top_words)"
      ],
      "metadata": {
        "id": "qZ3BafBDDKwF"
      },
      "execution_count": null,
      "outputs": []
    },
    {
      "cell_type": "code",
      "source": [
        "pd.DataFrame(nmf_topics).T"
      ],
      "metadata": {
        "colab": {
          "base_uri": "https://localhost:8080/",
          "height": 677
        },
        "id": "0YuLbLBkH5hW",
        "outputId": "efb0b9d5-eeca-4f92-bae5-abc8b186757d"
      },
      "execution_count": null,
      "outputs": [
        {
          "output_type": "execute_result",
          "data": {
            "text/plain": [
              "         0         1        2         3            4         5        6  \\\n",
              "0     make       say      see       one        could       man     know   \n",
              "1     time     shall    never       two      nothing       old     well   \n",
              "2     find    little     look   another         even     young     must   \n",
              "3     take     dupin      eye     every         help       god  nothing   \n",
              "4      day   nothing     ever     night         tell      live    think   \n",
              "5     seem      must     face      side          yet     great   though   \n",
              "6      eye      much    light     reply  distinguish      tell     tell   \n",
              "7    first        go    think     voice     perceive     dream      god   \n",
              "8    great      well     hear       old      believe      dead    world   \n",
              "9      yet       let  nothing      word         word    animal     ever   \n",
              "10    give      dear     tree     write        human      face    never   \n",
              "11    long      mean      let     small     scarcely     among       go   \n",
              "12    like       sir   window       let        doubt     woman  whether   \n",
              "13    look     speak     form       end   understand    become  believe   \n",
              "14    must        de     dark      hear        never      good     feel   \n",
              "15    life      take    stand       day        sound  terrible    death   \n",
              "16   place      word   figure      line       reason     alone     want   \n",
              "17  become  question     moon      sure         find     world    shall   \n",
              "18    even       yes      far  singular       either     earth       ye   \n",
              "19    feel     quite   people     large      however      book    reply   \n",
              "\n",
              "         7        8         9  \n",
              "0     come    thing       may  \n",
              "1       go     like      well  \n",
              "2    night     tell     think  \n",
              "3     back    every      even  \n",
              "4    sound  strange     never  \n",
              "5     last    earth      hope  \n",
              "6     tell     many       yet  \n",
              "7     home    world      life  \n",
              "8     hear    think   however  \n",
              "9      day     hear    indeed  \n",
              "10   light      old      wish  \n",
              "11   never    never      love  \n",
              "12  people    speak     least  \n",
              "13   sleep       go      much  \n",
              "14   still     talk   perhaps  \n",
              "15    away   horror   suppose  \n",
              "16  street     folk      fact  \n",
              "17    door      put  although  \n",
              "18   earth  unknown    easily  \n",
              "19     sea      sea    escape  "
            ],
            "text/html": [
              "\n",
              "  <div id=\"df-4632c17c-8c50-45b9-8fde-596bd8346256\">\n",
              "    <div class=\"colab-df-container\">\n",
              "      <div>\n",
              "<style scoped>\n",
              "    .dataframe tbody tr th:only-of-type {\n",
              "        vertical-align: middle;\n",
              "    }\n",
              "\n",
              "    .dataframe tbody tr th {\n",
              "        vertical-align: top;\n",
              "    }\n",
              "\n",
              "    .dataframe thead th {\n",
              "        text-align: right;\n",
              "    }\n",
              "</style>\n",
              "<table border=\"1\" class=\"dataframe\">\n",
              "  <thead>\n",
              "    <tr style=\"text-align: right;\">\n",
              "      <th></th>\n",
              "      <th>0</th>\n",
              "      <th>1</th>\n",
              "      <th>2</th>\n",
              "      <th>3</th>\n",
              "      <th>4</th>\n",
              "      <th>5</th>\n",
              "      <th>6</th>\n",
              "      <th>7</th>\n",
              "      <th>8</th>\n",
              "      <th>9</th>\n",
              "    </tr>\n",
              "  </thead>\n",
              "  <tbody>\n",
              "    <tr>\n",
              "      <th>0</th>\n",
              "      <td>make</td>\n",
              "      <td>say</td>\n",
              "      <td>see</td>\n",
              "      <td>one</td>\n",
              "      <td>could</td>\n",
              "      <td>man</td>\n",
              "      <td>know</td>\n",
              "      <td>come</td>\n",
              "      <td>thing</td>\n",
              "      <td>may</td>\n",
              "    </tr>\n",
              "    <tr>\n",
              "      <th>1</th>\n",
              "      <td>time</td>\n",
              "      <td>shall</td>\n",
              "      <td>never</td>\n",
              "      <td>two</td>\n",
              "      <td>nothing</td>\n",
              "      <td>old</td>\n",
              "      <td>well</td>\n",
              "      <td>go</td>\n",
              "      <td>like</td>\n",
              "      <td>well</td>\n",
              "    </tr>\n",
              "    <tr>\n",
              "      <th>2</th>\n",
              "      <td>find</td>\n",
              "      <td>little</td>\n",
              "      <td>look</td>\n",
              "      <td>another</td>\n",
              "      <td>even</td>\n",
              "      <td>young</td>\n",
              "      <td>must</td>\n",
              "      <td>night</td>\n",
              "      <td>tell</td>\n",
              "      <td>think</td>\n",
              "    </tr>\n",
              "    <tr>\n",
              "      <th>3</th>\n",
              "      <td>take</td>\n",
              "      <td>dupin</td>\n",
              "      <td>eye</td>\n",
              "      <td>every</td>\n",
              "      <td>help</td>\n",
              "      <td>god</td>\n",
              "      <td>nothing</td>\n",
              "      <td>back</td>\n",
              "      <td>every</td>\n",
              "      <td>even</td>\n",
              "    </tr>\n",
              "    <tr>\n",
              "      <th>4</th>\n",
              "      <td>day</td>\n",
              "      <td>nothing</td>\n",
              "      <td>ever</td>\n",
              "      <td>night</td>\n",
              "      <td>tell</td>\n",
              "      <td>live</td>\n",
              "      <td>think</td>\n",
              "      <td>sound</td>\n",
              "      <td>strange</td>\n",
              "      <td>never</td>\n",
              "    </tr>\n",
              "    <tr>\n",
              "      <th>5</th>\n",
              "      <td>seem</td>\n",
              "      <td>must</td>\n",
              "      <td>face</td>\n",
              "      <td>side</td>\n",
              "      <td>yet</td>\n",
              "      <td>great</td>\n",
              "      <td>though</td>\n",
              "      <td>last</td>\n",
              "      <td>earth</td>\n",
              "      <td>hope</td>\n",
              "    </tr>\n",
              "    <tr>\n",
              "      <th>6</th>\n",
              "      <td>eye</td>\n",
              "      <td>much</td>\n",
              "      <td>light</td>\n",
              "      <td>reply</td>\n",
              "      <td>distinguish</td>\n",
              "      <td>tell</td>\n",
              "      <td>tell</td>\n",
              "      <td>tell</td>\n",
              "      <td>many</td>\n",
              "      <td>yet</td>\n",
              "    </tr>\n",
              "    <tr>\n",
              "      <th>7</th>\n",
              "      <td>first</td>\n",
              "      <td>go</td>\n",
              "      <td>think</td>\n",
              "      <td>voice</td>\n",
              "      <td>perceive</td>\n",
              "      <td>dream</td>\n",
              "      <td>god</td>\n",
              "      <td>home</td>\n",
              "      <td>world</td>\n",
              "      <td>life</td>\n",
              "    </tr>\n",
              "    <tr>\n",
              "      <th>8</th>\n",
              "      <td>great</td>\n",
              "      <td>well</td>\n",
              "      <td>hear</td>\n",
              "      <td>old</td>\n",
              "      <td>believe</td>\n",
              "      <td>dead</td>\n",
              "      <td>world</td>\n",
              "      <td>hear</td>\n",
              "      <td>think</td>\n",
              "      <td>however</td>\n",
              "    </tr>\n",
              "    <tr>\n",
              "      <th>9</th>\n",
              "      <td>yet</td>\n",
              "      <td>let</td>\n",
              "      <td>nothing</td>\n",
              "      <td>word</td>\n",
              "      <td>word</td>\n",
              "      <td>animal</td>\n",
              "      <td>ever</td>\n",
              "      <td>day</td>\n",
              "      <td>hear</td>\n",
              "      <td>indeed</td>\n",
              "    </tr>\n",
              "    <tr>\n",
              "      <th>10</th>\n",
              "      <td>give</td>\n",
              "      <td>dear</td>\n",
              "      <td>tree</td>\n",
              "      <td>write</td>\n",
              "      <td>human</td>\n",
              "      <td>face</td>\n",
              "      <td>never</td>\n",
              "      <td>light</td>\n",
              "      <td>old</td>\n",
              "      <td>wish</td>\n",
              "    </tr>\n",
              "    <tr>\n",
              "      <th>11</th>\n",
              "      <td>long</td>\n",
              "      <td>mean</td>\n",
              "      <td>let</td>\n",
              "      <td>small</td>\n",
              "      <td>scarcely</td>\n",
              "      <td>among</td>\n",
              "      <td>go</td>\n",
              "      <td>never</td>\n",
              "      <td>never</td>\n",
              "      <td>love</td>\n",
              "    </tr>\n",
              "    <tr>\n",
              "      <th>12</th>\n",
              "      <td>like</td>\n",
              "      <td>sir</td>\n",
              "      <td>window</td>\n",
              "      <td>let</td>\n",
              "      <td>doubt</td>\n",
              "      <td>woman</td>\n",
              "      <td>whether</td>\n",
              "      <td>people</td>\n",
              "      <td>speak</td>\n",
              "      <td>least</td>\n",
              "    </tr>\n",
              "    <tr>\n",
              "      <th>13</th>\n",
              "      <td>look</td>\n",
              "      <td>speak</td>\n",
              "      <td>form</td>\n",
              "      <td>end</td>\n",
              "      <td>understand</td>\n",
              "      <td>become</td>\n",
              "      <td>believe</td>\n",
              "      <td>sleep</td>\n",
              "      <td>go</td>\n",
              "      <td>much</td>\n",
              "    </tr>\n",
              "    <tr>\n",
              "      <th>14</th>\n",
              "      <td>must</td>\n",
              "      <td>de</td>\n",
              "      <td>dark</td>\n",
              "      <td>hear</td>\n",
              "      <td>never</td>\n",
              "      <td>good</td>\n",
              "      <td>feel</td>\n",
              "      <td>still</td>\n",
              "      <td>talk</td>\n",
              "      <td>perhaps</td>\n",
              "    </tr>\n",
              "    <tr>\n",
              "      <th>15</th>\n",
              "      <td>life</td>\n",
              "      <td>take</td>\n",
              "      <td>stand</td>\n",
              "      <td>day</td>\n",
              "      <td>sound</td>\n",
              "      <td>terrible</td>\n",
              "      <td>death</td>\n",
              "      <td>away</td>\n",
              "      <td>horror</td>\n",
              "      <td>suppose</td>\n",
              "    </tr>\n",
              "    <tr>\n",
              "      <th>16</th>\n",
              "      <td>place</td>\n",
              "      <td>word</td>\n",
              "      <td>figure</td>\n",
              "      <td>line</td>\n",
              "      <td>reason</td>\n",
              "      <td>alone</td>\n",
              "      <td>want</td>\n",
              "      <td>street</td>\n",
              "      <td>folk</td>\n",
              "      <td>fact</td>\n",
              "    </tr>\n",
              "    <tr>\n",
              "      <th>17</th>\n",
              "      <td>become</td>\n",
              "      <td>question</td>\n",
              "      <td>moon</td>\n",
              "      <td>sure</td>\n",
              "      <td>find</td>\n",
              "      <td>world</td>\n",
              "      <td>shall</td>\n",
              "      <td>door</td>\n",
              "      <td>put</td>\n",
              "      <td>although</td>\n",
              "    </tr>\n",
              "    <tr>\n",
              "      <th>18</th>\n",
              "      <td>even</td>\n",
              "      <td>yes</td>\n",
              "      <td>far</td>\n",
              "      <td>singular</td>\n",
              "      <td>either</td>\n",
              "      <td>earth</td>\n",
              "      <td>ye</td>\n",
              "      <td>earth</td>\n",
              "      <td>unknown</td>\n",
              "      <td>easily</td>\n",
              "    </tr>\n",
              "    <tr>\n",
              "      <th>19</th>\n",
              "      <td>feel</td>\n",
              "      <td>quite</td>\n",
              "      <td>people</td>\n",
              "      <td>large</td>\n",
              "      <td>however</td>\n",
              "      <td>book</td>\n",
              "      <td>reply</td>\n",
              "      <td>sea</td>\n",
              "      <td>sea</td>\n",
              "      <td>escape</td>\n",
              "    </tr>\n",
              "  </tbody>\n",
              "</table>\n",
              "</div>\n",
              "      <button class=\"colab-df-convert\" onclick=\"convertToInteractive('df-4632c17c-8c50-45b9-8fde-596bd8346256')\"\n",
              "              title=\"Convert this dataframe to an interactive table.\"\n",
              "              style=\"display:none;\">\n",
              "        \n",
              "  <svg xmlns=\"http://www.w3.org/2000/svg\" height=\"24px\"viewBox=\"0 0 24 24\"\n",
              "       width=\"24px\">\n",
              "    <path d=\"M0 0h24v24H0V0z\" fill=\"none\"/>\n",
              "    <path d=\"M18.56 5.44l.94 2.06.94-2.06 2.06-.94-2.06-.94-.94-2.06-.94 2.06-2.06.94zm-11 1L8.5 8.5l.94-2.06 2.06-.94-2.06-.94L8.5 2.5l-.94 2.06-2.06.94zm10 10l.94 2.06.94-2.06 2.06-.94-2.06-.94-.94-2.06-.94 2.06-2.06.94z\"/><path d=\"M17.41 7.96l-1.37-1.37c-.4-.4-.92-.59-1.43-.59-.52 0-1.04.2-1.43.59L10.3 9.45l-7.72 7.72c-.78.78-.78 2.05 0 2.83L4 21.41c.39.39.9.59 1.41.59.51 0 1.02-.2 1.41-.59l7.78-7.78 2.81-2.81c.8-.78.8-2.07 0-2.86zM5.41 20L4 18.59l7.72-7.72 1.47 1.35L5.41 20z\"/>\n",
              "  </svg>\n",
              "      </button>\n",
              "      \n",
              "  <style>\n",
              "    .colab-df-container {\n",
              "      display:flex;\n",
              "      flex-wrap:wrap;\n",
              "      gap: 12px;\n",
              "    }\n",
              "\n",
              "    .colab-df-convert {\n",
              "      background-color: #E8F0FE;\n",
              "      border: none;\n",
              "      border-radius: 50%;\n",
              "      cursor: pointer;\n",
              "      display: none;\n",
              "      fill: #1967D2;\n",
              "      height: 32px;\n",
              "      padding: 0 0 0 0;\n",
              "      width: 32px;\n",
              "    }\n",
              "\n",
              "    .colab-df-convert:hover {\n",
              "      background-color: #E2EBFA;\n",
              "      box-shadow: 0px 1px 2px rgba(60, 64, 67, 0.3), 0px 1px 3px 1px rgba(60, 64, 67, 0.15);\n",
              "      fill: #174EA6;\n",
              "    }\n",
              "\n",
              "    [theme=dark] .colab-df-convert {\n",
              "      background-color: #3B4455;\n",
              "      fill: #D2E3FC;\n",
              "    }\n",
              "\n",
              "    [theme=dark] .colab-df-convert:hover {\n",
              "      background-color: #434B5C;\n",
              "      box-shadow: 0px 1px 3px 1px rgba(0, 0, 0, 0.15);\n",
              "      filter: drop-shadow(0px 1px 2px rgba(0, 0, 0, 0.3));\n",
              "      fill: #FFFFFF;\n",
              "    }\n",
              "  </style>\n",
              "\n",
              "      <script>\n",
              "        const buttonEl =\n",
              "          document.querySelector('#df-4632c17c-8c50-45b9-8fde-596bd8346256 button.colab-df-convert');\n",
              "        buttonEl.style.display =\n",
              "          google.colab.kernel.accessAllowed ? 'block' : 'none';\n",
              "\n",
              "        async function convertToInteractive(key) {\n",
              "          const element = document.querySelector('#df-4632c17c-8c50-45b9-8fde-596bd8346256');\n",
              "          const dataTable =\n",
              "            await google.colab.kernel.invokeFunction('convertToInteractive',\n",
              "                                                     [key], {});\n",
              "          if (!dataTable) return;\n",
              "\n",
              "          const docLinkHtml = 'Like what you see? Visit the ' +\n",
              "            '<a target=\"_blank\" href=https://colab.research.google.com/notebooks/data_table.ipynb>data table notebook</a>'\n",
              "            + ' to learn more about interactive tables.';\n",
              "          element.innerHTML = '';\n",
              "          dataTable['output_type'] = 'display_data';\n",
              "          await google.colab.output.renderOutput(dataTable, element);\n",
              "          const docLink = document.createElement('div');\n",
              "          docLink.innerHTML = docLinkHtml;\n",
              "          element.appendChild(docLink);\n",
              "        }\n",
              "      </script>\n",
              "    </div>\n",
              "  </div>\n",
              "  "
            ]
          },
          "metadata": {},
          "execution_count": 38
        }
      ]
    },
    {
      "cell_type": "markdown",
      "metadata": {
        "id": "zuaKAGIWDMVb"
      },
      "source": [
        "#### LDA"
      ]
    },
    {
      "cell_type": "markdown",
      "metadata": {
        "id": "PAK_MfQxDMVb"
      },
      "source": [
        "Implement topic modeling with LDA (you can use gensim implementation) and print out resulting topics. Try to change hyperparameters to better fit the dataset."
      ]
    },
    {
      "cell_type": "code",
      "execution_count": null,
      "metadata": {
        "id": "fdzopuCJDMVb"
      },
      "outputs": [],
      "source": [
        "count_vectorizer = CountVectorizer(ngram_range=(1, 1))\n",
        "documents = []\n",
        "for text in preprocessed_stories:\n",
        "    try:\n",
        "        documents.append(count_vectorizer.fit([text]).get_feature_names_out())\n",
        "    except ValueError:\n",
        "        continue"
      ]
    },
    {
      "cell_type": "code",
      "metadata": {
        "trusted": true,
        "id": "NhTJKQbu8Bx4"
      },
      "source": [
        "id2word = corpora.Dictionary(documents)\n",
        "corpus = [id2word.doc2bow(text) for text in documents]"
      ],
      "execution_count": null,
      "outputs": []
    },
    {
      "cell_type": "code",
      "metadata": {
        "trusted": true,
        "id": "4wVGejO_8Bx4"
      },
      "source": [
        "lda_model = gensim.models.ldamodel.LdaModel(corpus=corpus, \n",
        "                                            id2word=id2word,\n",
        "                                            num_topics=10, \n",
        "                                            passes=80,\n",
        "                                            random_state=42)"
      ],
      "execution_count": null,
      "outputs": []
    },
    {
      "cell_type": "code",
      "metadata": {
        "trusted": true,
        "id": "MBqNroF78Bx4"
      },
      "source": [
        "lda_topics = lda_model.print_topics(lda_model.num_topics, num_words=20)\n",
        "lda_topics = [topic[1].split('\"')[1::2] for topic in lda_topics]"
      ],
      "execution_count": null,
      "outputs": []
    },
    {
      "cell_type": "code",
      "source": [
        "pd.DataFrame(lda_topics).T"
      ],
      "metadata": {
        "colab": {
          "base_uri": "https://localhost:8080/",
          "height": 677
        },
        "id": "MWdzHtAqL4dg",
        "outputId": "3b26fae3-f8a4-49b8-8879-112b66fb344a"
      },
      "execution_count": null,
      "outputs": [
        {
          "output_type": "execute_result",
          "data": {
            "text/plain": [
              "            0          1            2          3        4         5         6  \\\n",
              "0         one     longer          eye       know      say      come       may   \n",
              "1      window       feel        heart        say      one      seem       say   \n",
              "2        side      happy         soul        see      see     light     could   \n",
              "3       house  elizabeth         even       tell      may      rise     great   \n",
              "4        like       like          yet      could  evening      moon   however   \n",
              "5        find     endure          see         go     dark      many    matter   \n",
              "6        open     almost         word       come    clock     earth    nature   \n",
              "7       small     arrive         life        one  morning       see     point   \n",
              "8      street        man         love        man    thing       far  although   \n",
              "9         two        die       spirit      thing     find     cloud      case   \n",
              "10      night        yet         form      never    great     stone      give   \n",
              "11        man        one         tear        old    house      city      fact   \n",
              "12      still        aid        could      think   little    beyond      make   \n",
              "13      close       give        earth       well     hear       sun    regard   \n",
              "14      water      night  countenance  something  hundred      form      mind   \n",
              "15       room    fearful        speak       hear      two     sight     every   \n",
              "16       step     wholly         ever      night      old  darkness      even   \n",
              "17        lie        eye         feel     though     like   beneath      find   \n",
              "18  direction     deeply       change       must     know      time   general   \n",
              "19       make       away   expression        day     form      land       one   \n",
              "\n",
              "            7       8        9  \n",
              "0         man    hand      one  \n",
              "1        make    head      may  \n",
              "2    position    door     life  \n",
              "3      sorrow     eye      day  \n",
              "4     balloon     see     take  \n",
              "5         way     one     time  \n",
              "6        pain  minute   friend  \n",
              "7       throw    open  raymond  \n",
              "8         say     arm      man  \n",
              "9        take    room     love  \n",
              "10       body    take    could  \n",
              "11    machine   could   father  \n",
              "12     answer  length     year  \n",
              "13       true    fall     make  \n",
              "14     course    face    first  \n",
              "15         go    look   return  \n",
              "16  character    seem     know  \n",
              "17      apply     lie     good  \n",
              "18        old   right     must  \n",
              "19      bosom     two    young  "
            ],
            "text/html": [
              "\n",
              "  <div id=\"df-4a2e4f02-acd3-42aa-b7e6-5aba6d13d877\">\n",
              "    <div class=\"colab-df-container\">\n",
              "      <div>\n",
              "<style scoped>\n",
              "    .dataframe tbody tr th:only-of-type {\n",
              "        vertical-align: middle;\n",
              "    }\n",
              "\n",
              "    .dataframe tbody tr th {\n",
              "        vertical-align: top;\n",
              "    }\n",
              "\n",
              "    .dataframe thead th {\n",
              "        text-align: right;\n",
              "    }\n",
              "</style>\n",
              "<table border=\"1\" class=\"dataframe\">\n",
              "  <thead>\n",
              "    <tr style=\"text-align: right;\">\n",
              "      <th></th>\n",
              "      <th>0</th>\n",
              "      <th>1</th>\n",
              "      <th>2</th>\n",
              "      <th>3</th>\n",
              "      <th>4</th>\n",
              "      <th>5</th>\n",
              "      <th>6</th>\n",
              "      <th>7</th>\n",
              "      <th>8</th>\n",
              "      <th>9</th>\n",
              "    </tr>\n",
              "  </thead>\n",
              "  <tbody>\n",
              "    <tr>\n",
              "      <th>0</th>\n",
              "      <td>one</td>\n",
              "      <td>longer</td>\n",
              "      <td>eye</td>\n",
              "      <td>know</td>\n",
              "      <td>say</td>\n",
              "      <td>come</td>\n",
              "      <td>may</td>\n",
              "      <td>man</td>\n",
              "      <td>hand</td>\n",
              "      <td>one</td>\n",
              "    </tr>\n",
              "    <tr>\n",
              "      <th>1</th>\n",
              "      <td>window</td>\n",
              "      <td>feel</td>\n",
              "      <td>heart</td>\n",
              "      <td>say</td>\n",
              "      <td>one</td>\n",
              "      <td>seem</td>\n",
              "      <td>say</td>\n",
              "      <td>make</td>\n",
              "      <td>head</td>\n",
              "      <td>may</td>\n",
              "    </tr>\n",
              "    <tr>\n",
              "      <th>2</th>\n",
              "      <td>side</td>\n",
              "      <td>happy</td>\n",
              "      <td>soul</td>\n",
              "      <td>see</td>\n",
              "      <td>see</td>\n",
              "      <td>light</td>\n",
              "      <td>could</td>\n",
              "      <td>position</td>\n",
              "      <td>door</td>\n",
              "      <td>life</td>\n",
              "    </tr>\n",
              "    <tr>\n",
              "      <th>3</th>\n",
              "      <td>house</td>\n",
              "      <td>elizabeth</td>\n",
              "      <td>even</td>\n",
              "      <td>tell</td>\n",
              "      <td>may</td>\n",
              "      <td>rise</td>\n",
              "      <td>great</td>\n",
              "      <td>sorrow</td>\n",
              "      <td>eye</td>\n",
              "      <td>day</td>\n",
              "    </tr>\n",
              "    <tr>\n",
              "      <th>4</th>\n",
              "      <td>like</td>\n",
              "      <td>like</td>\n",
              "      <td>yet</td>\n",
              "      <td>could</td>\n",
              "      <td>evening</td>\n",
              "      <td>moon</td>\n",
              "      <td>however</td>\n",
              "      <td>balloon</td>\n",
              "      <td>see</td>\n",
              "      <td>take</td>\n",
              "    </tr>\n",
              "    <tr>\n",
              "      <th>5</th>\n",
              "      <td>find</td>\n",
              "      <td>endure</td>\n",
              "      <td>see</td>\n",
              "      <td>go</td>\n",
              "      <td>dark</td>\n",
              "      <td>many</td>\n",
              "      <td>matter</td>\n",
              "      <td>way</td>\n",
              "      <td>one</td>\n",
              "      <td>time</td>\n",
              "    </tr>\n",
              "    <tr>\n",
              "      <th>6</th>\n",
              "      <td>open</td>\n",
              "      <td>almost</td>\n",
              "      <td>word</td>\n",
              "      <td>come</td>\n",
              "      <td>clock</td>\n",
              "      <td>earth</td>\n",
              "      <td>nature</td>\n",
              "      <td>pain</td>\n",
              "      <td>minute</td>\n",
              "      <td>friend</td>\n",
              "    </tr>\n",
              "    <tr>\n",
              "      <th>7</th>\n",
              "      <td>small</td>\n",
              "      <td>arrive</td>\n",
              "      <td>life</td>\n",
              "      <td>one</td>\n",
              "      <td>morning</td>\n",
              "      <td>see</td>\n",
              "      <td>point</td>\n",
              "      <td>throw</td>\n",
              "      <td>open</td>\n",
              "      <td>raymond</td>\n",
              "    </tr>\n",
              "    <tr>\n",
              "      <th>8</th>\n",
              "      <td>street</td>\n",
              "      <td>man</td>\n",
              "      <td>love</td>\n",
              "      <td>man</td>\n",
              "      <td>thing</td>\n",
              "      <td>far</td>\n",
              "      <td>although</td>\n",
              "      <td>say</td>\n",
              "      <td>arm</td>\n",
              "      <td>man</td>\n",
              "    </tr>\n",
              "    <tr>\n",
              "      <th>9</th>\n",
              "      <td>two</td>\n",
              "      <td>die</td>\n",
              "      <td>spirit</td>\n",
              "      <td>thing</td>\n",
              "      <td>find</td>\n",
              "      <td>cloud</td>\n",
              "      <td>case</td>\n",
              "      <td>take</td>\n",
              "      <td>room</td>\n",
              "      <td>love</td>\n",
              "    </tr>\n",
              "    <tr>\n",
              "      <th>10</th>\n",
              "      <td>night</td>\n",
              "      <td>yet</td>\n",
              "      <td>form</td>\n",
              "      <td>never</td>\n",
              "      <td>great</td>\n",
              "      <td>stone</td>\n",
              "      <td>give</td>\n",
              "      <td>body</td>\n",
              "      <td>take</td>\n",
              "      <td>could</td>\n",
              "    </tr>\n",
              "    <tr>\n",
              "      <th>11</th>\n",
              "      <td>man</td>\n",
              "      <td>one</td>\n",
              "      <td>tear</td>\n",
              "      <td>old</td>\n",
              "      <td>house</td>\n",
              "      <td>city</td>\n",
              "      <td>fact</td>\n",
              "      <td>machine</td>\n",
              "      <td>could</td>\n",
              "      <td>father</td>\n",
              "    </tr>\n",
              "    <tr>\n",
              "      <th>12</th>\n",
              "      <td>still</td>\n",
              "      <td>aid</td>\n",
              "      <td>could</td>\n",
              "      <td>think</td>\n",
              "      <td>little</td>\n",
              "      <td>beyond</td>\n",
              "      <td>make</td>\n",
              "      <td>answer</td>\n",
              "      <td>length</td>\n",
              "      <td>year</td>\n",
              "    </tr>\n",
              "    <tr>\n",
              "      <th>13</th>\n",
              "      <td>close</td>\n",
              "      <td>give</td>\n",
              "      <td>earth</td>\n",
              "      <td>well</td>\n",
              "      <td>hear</td>\n",
              "      <td>sun</td>\n",
              "      <td>regard</td>\n",
              "      <td>true</td>\n",
              "      <td>fall</td>\n",
              "      <td>make</td>\n",
              "    </tr>\n",
              "    <tr>\n",
              "      <th>14</th>\n",
              "      <td>water</td>\n",
              "      <td>night</td>\n",
              "      <td>countenance</td>\n",
              "      <td>something</td>\n",
              "      <td>hundred</td>\n",
              "      <td>form</td>\n",
              "      <td>mind</td>\n",
              "      <td>course</td>\n",
              "      <td>face</td>\n",
              "      <td>first</td>\n",
              "    </tr>\n",
              "    <tr>\n",
              "      <th>15</th>\n",
              "      <td>room</td>\n",
              "      <td>fearful</td>\n",
              "      <td>speak</td>\n",
              "      <td>hear</td>\n",
              "      <td>two</td>\n",
              "      <td>sight</td>\n",
              "      <td>every</td>\n",
              "      <td>go</td>\n",
              "      <td>look</td>\n",
              "      <td>return</td>\n",
              "    </tr>\n",
              "    <tr>\n",
              "      <th>16</th>\n",
              "      <td>step</td>\n",
              "      <td>wholly</td>\n",
              "      <td>ever</td>\n",
              "      <td>night</td>\n",
              "      <td>old</td>\n",
              "      <td>darkness</td>\n",
              "      <td>even</td>\n",
              "      <td>character</td>\n",
              "      <td>seem</td>\n",
              "      <td>know</td>\n",
              "    </tr>\n",
              "    <tr>\n",
              "      <th>17</th>\n",
              "      <td>lie</td>\n",
              "      <td>eye</td>\n",
              "      <td>feel</td>\n",
              "      <td>though</td>\n",
              "      <td>like</td>\n",
              "      <td>beneath</td>\n",
              "      <td>find</td>\n",
              "      <td>apply</td>\n",
              "      <td>lie</td>\n",
              "      <td>good</td>\n",
              "    </tr>\n",
              "    <tr>\n",
              "      <th>18</th>\n",
              "      <td>direction</td>\n",
              "      <td>deeply</td>\n",
              "      <td>change</td>\n",
              "      <td>must</td>\n",
              "      <td>know</td>\n",
              "      <td>time</td>\n",
              "      <td>general</td>\n",
              "      <td>old</td>\n",
              "      <td>right</td>\n",
              "      <td>must</td>\n",
              "    </tr>\n",
              "    <tr>\n",
              "      <th>19</th>\n",
              "      <td>make</td>\n",
              "      <td>away</td>\n",
              "      <td>expression</td>\n",
              "      <td>day</td>\n",
              "      <td>form</td>\n",
              "      <td>land</td>\n",
              "      <td>one</td>\n",
              "      <td>bosom</td>\n",
              "      <td>two</td>\n",
              "      <td>young</td>\n",
              "    </tr>\n",
              "  </tbody>\n",
              "</table>\n",
              "</div>\n",
              "      <button class=\"colab-df-convert\" onclick=\"convertToInteractive('df-4a2e4f02-acd3-42aa-b7e6-5aba6d13d877')\"\n",
              "              title=\"Convert this dataframe to an interactive table.\"\n",
              "              style=\"display:none;\">\n",
              "        \n",
              "  <svg xmlns=\"http://www.w3.org/2000/svg\" height=\"24px\"viewBox=\"0 0 24 24\"\n",
              "       width=\"24px\">\n",
              "    <path d=\"M0 0h24v24H0V0z\" fill=\"none\"/>\n",
              "    <path d=\"M18.56 5.44l.94 2.06.94-2.06 2.06-.94-2.06-.94-.94-2.06-.94 2.06-2.06.94zm-11 1L8.5 8.5l.94-2.06 2.06-.94-2.06-.94L8.5 2.5l-.94 2.06-2.06.94zm10 10l.94 2.06.94-2.06 2.06-.94-2.06-.94-.94-2.06-.94 2.06-2.06.94z\"/><path d=\"M17.41 7.96l-1.37-1.37c-.4-.4-.92-.59-1.43-.59-.52 0-1.04.2-1.43.59L10.3 9.45l-7.72 7.72c-.78.78-.78 2.05 0 2.83L4 21.41c.39.39.9.59 1.41.59.51 0 1.02-.2 1.41-.59l7.78-7.78 2.81-2.81c.8-.78.8-2.07 0-2.86zM5.41 20L4 18.59l7.72-7.72 1.47 1.35L5.41 20z\"/>\n",
              "  </svg>\n",
              "      </button>\n",
              "      \n",
              "  <style>\n",
              "    .colab-df-container {\n",
              "      display:flex;\n",
              "      flex-wrap:wrap;\n",
              "      gap: 12px;\n",
              "    }\n",
              "\n",
              "    .colab-df-convert {\n",
              "      background-color: #E8F0FE;\n",
              "      border: none;\n",
              "      border-radius: 50%;\n",
              "      cursor: pointer;\n",
              "      display: none;\n",
              "      fill: #1967D2;\n",
              "      height: 32px;\n",
              "      padding: 0 0 0 0;\n",
              "      width: 32px;\n",
              "    }\n",
              "\n",
              "    .colab-df-convert:hover {\n",
              "      background-color: #E2EBFA;\n",
              "      box-shadow: 0px 1px 2px rgba(60, 64, 67, 0.3), 0px 1px 3px 1px rgba(60, 64, 67, 0.15);\n",
              "      fill: #174EA6;\n",
              "    }\n",
              "\n",
              "    [theme=dark] .colab-df-convert {\n",
              "      background-color: #3B4455;\n",
              "      fill: #D2E3FC;\n",
              "    }\n",
              "\n",
              "    [theme=dark] .colab-df-convert:hover {\n",
              "      background-color: #434B5C;\n",
              "      box-shadow: 0px 1px 3px 1px rgba(0, 0, 0, 0.15);\n",
              "      filter: drop-shadow(0px 1px 2px rgba(0, 0, 0, 0.3));\n",
              "      fill: #FFFFFF;\n",
              "    }\n",
              "  </style>\n",
              "\n",
              "      <script>\n",
              "        const buttonEl =\n",
              "          document.querySelector('#df-4a2e4f02-acd3-42aa-b7e6-5aba6d13d877 button.colab-df-convert');\n",
              "        buttonEl.style.display =\n",
              "          google.colab.kernel.accessAllowed ? 'block' : 'none';\n",
              "\n",
              "        async function convertToInteractive(key) {\n",
              "          const element = document.querySelector('#df-4a2e4f02-acd3-42aa-b7e6-5aba6d13d877');\n",
              "          const dataTable =\n",
              "            await google.colab.kernel.invokeFunction('convertToInteractive',\n",
              "                                                     [key], {});\n",
              "          if (!dataTable) return;\n",
              "\n",
              "          const docLinkHtml = 'Like what you see? Visit the ' +\n",
              "            '<a target=\"_blank\" href=https://colab.research.google.com/notebooks/data_table.ipynb>data table notebook</a>'\n",
              "            + ' to learn more about interactive tables.';\n",
              "          element.innerHTML = '';\n",
              "          dataTable['output_type'] = 'display_data';\n",
              "          await google.colab.output.renderOutput(dataTable, element);\n",
              "          const docLink = document.createElement('div');\n",
              "          docLink.innerHTML = docLinkHtml;\n",
              "          element.appendChild(docLink);\n",
              "        }\n",
              "      </script>\n",
              "    </div>\n",
              "  </div>\n",
              "  "
            ]
          },
          "metadata": {},
          "execution_count": 43
        }
      ]
    },
    {
      "cell_type": "markdown",
      "metadata": {
        "id": "vSF6fq0NDMVc"
      },
      "source": [
        "### Additive regularization of topic models "
      ]
    },
    {
      "cell_type": "markdown",
      "metadata": {
        "id": "tVcA4itQDMVc"
      },
      "source": [
        "Implement topic modeling with ARTM. You may use bigartm library (simple installation for linux: pip install bigartm) or TopicNet framework (`https://github.com/machine-intelligence-laboratory/TopicNet`)"
      ]
    },
    {
      "cell_type": "markdown",
      "metadata": {
        "id": "03xhr0PmDMVc"
      },
      "source": [
        "Create artm topic model fit it to the data. Try to change hyperparameters (number of specific and background topics) to better fit the dataset. Play with smoothing and sparsing coefficients (use grid), try to add decorrelator. Print out resulting topics."
      ]
    },
    {
      "cell_type": "code",
      "source": [
        "def create_batches(texts, url):\n",
        "    token_frequencies = [FreqDist(text.split()) for text in texts]\n",
        "    token_frequencies = [[(key + ':' + str(value)) for key, value in freq_dist.items()] for freq_dist in token_frequencies]\n",
        "    \n",
        "    with open(join(url, 'data'), 'w') as file:\n",
        "        for n in range(len(texts)):\n",
        "            file.write(f'doc{n} {\" \".join(token_frequencies[n])}\\n')\n",
        "    \n",
        "    batch_vectorizer = artm.BatchVectorizer(data_path=join(url, 'data'),\n",
        "                                            data_format='vowpal_wabbit',\n",
        "                                            target_folder=join(url, 'batches'))\n",
        "    return batch_vectorizer"
      ],
      "metadata": {
        "id": "-6PIs_hsQ6DW"
      },
      "execution_count": null,
      "outputs": []
    },
    {
      "cell_type": "code",
      "source": [
        "batch_vectorizer = create_batches(preprocessed_stories, url)"
      ],
      "metadata": {
        "id": "f0rDm7FtQ8od"
      },
      "execution_count": null,
      "outputs": []
    },
    {
      "cell_type": "code",
      "source": [
        "def create_topic_names(n_subject_topics, n_background_topics):\n",
        "    subject_topics = ['subject topic #' + str(n) for n in range(1, n_subject_topics + 1)]\n",
        "    background_topics = ['background topic #' + str(n) for n in range(1, n_background_topics + 1)]\n",
        "    return subject_topics, background_topics"
      ],
      "metadata": {
        "id": "VStNsb5WNSX7"
      },
      "execution_count": null,
      "outputs": []
    },
    {
      "cell_type": "code",
      "source": [
        "subject_topics, background_topics = create_topic_names(10, 2)"
      ],
      "metadata": {
        "id": "8RYoJrmQNWLc"
      },
      "execution_count": null,
      "outputs": []
    },
    {
      "cell_type": "code",
      "source": [
        "def fit_model(batch_vectorizer,\n",
        "              num_document_passes,\n",
        "              num_collection_passes,\n",
        "              scores, regularizers,\n",
        "              subject_topics,\n",
        "              background_topics):\n",
        "\n",
        "    topics = subject_topics.copy()\n",
        "    topics.extend(background_topics)\n",
        "\n",
        "    model_artm = artm.ARTM(topic_names=topics,\n",
        "                           cache_theta=True,\n",
        "                           scores=scores,\n",
        "                           regularizers=regularizers,\n",
        "                           num_document_passes=num_document_passes)\n",
        "\n",
        "    model_artm.initialize(dictionary=batch_vectorizer.dictionary)\n",
        "\n",
        "    model_artm.fit_offline(batch_vectorizer=batch_vectorizer,\n",
        "                           num_collection_passes=num_collection_passes)\n",
        "    \n",
        "    return model_artm"
      ],
      "metadata": {
        "id": "Ta3SZG2bNZij"
      },
      "execution_count": null,
      "outputs": []
    },
    {
      "cell_type": "code",
      "source": [
        "scores = [artm.PerplexityScore(name='PerplexityScore', dictionary=batch_vectorizer.dictionary),\n",
        "          artm.SparsityPhiScore(name='SparsityPhiScoreSubject', topic_names=subject_topics),\n",
        "          artm.SparsityPhiScore(name='SparsityPhiScoreBackground', topic_names=background_topics),\n",
        "          artm.SparsityThetaScore(name='SparsityThetaScoreSubject', topic_names=subject_topics),\n",
        "          artm.SparsityThetaScore(name='SparsityThetaScoreBackground', topic_names=background_topics),\n",
        "          artm.TopicKernelScore(name='TopicKernelScore', probability_mass_threshold=0.3),\n",
        "          artm.BackgroundTokensRatioScore(name='BackgroundTokensRatioScore', delta_threshold=0.3),\n",
        "          artm.TopTokensScore(name='TopTokensScore', num_tokens=20)]"
      ],
      "metadata": {
        "id": "SRBcS39NPNMd"
      },
      "execution_count": null,
      "outputs": []
    },
    {
      "cell_type": "code",
      "source": [
        "regularizers = [artm.SmoothSparsePhiRegularizer(name='SparsePhiSubject', topic_names=subject_topics, tau=-0.1),\n",
        "                artm.SmoothSparsePhiRegularizer(name='SparsePhiBackground', topic_names=background_topics, tau=0.1),\n",
        "                artm.SmoothSparseThetaRegularizer(name='SparseThetaSubject', topic_names=subject_topics, tau=-1.0),\n",
        "                artm.SmoothSparseThetaRegularizer(name='SparseThetaBackground', topic_names=background_topics, tau=1.0),\n",
        "                artm.DecorrelatorPhiRegularizer(name='DecorrelatorPhi', topic_names=subject_topics, tau=100000.0)]"
      ],
      "metadata": {
        "id": "udbMgRgLNbAM"
      },
      "execution_count": null,
      "outputs": []
    },
    {
      "cell_type": "code",
      "source": [
        "model_artm = fit_model(batch_vectorizer, 30, 10, scores, regularizers, subject_topics, background_topics) "
      ],
      "metadata": {
        "id": "uzeZtFqSNfns"
      },
      "execution_count": null,
      "outputs": []
    },
    {
      "cell_type": "code",
      "source": [
        "artm_topics = model_artm.score_tracker['TopTokensScore'].last_tokens"
      ],
      "metadata": {
        "id": "IJUBbq0zN8KV"
      },
      "execution_count": null,
      "outputs": []
    },
    {
      "cell_type": "code",
      "source": [
        "pd.DataFrame(artm_topics)"
      ],
      "metadata": {
        "colab": {
          "base_uri": "https://localhost:8080/",
          "height": 738
        },
        "id": "x6agE_7MVOCs",
        "outputId": "58d170bb-2bbb-4240-9143-7080118dd042"
      },
      "execution_count": null,
      "outputs": [
        {
          "output_type": "execute_result",
          "data": {
            "text/plain": [
              "   subject topic #1 subject topic #2 subject topic #3 subject topic #4  \\\n",
              "0            twenty              sea              thy              man   \n",
              "1              five             tree             thou              fly   \n",
              "2           hundred              eye             city             land   \n",
              "3             three             look           iranon          surface   \n",
              "4          thousand           flower             thee              pot   \n",
              "5              four            water             aira               mr   \n",
              "6              mile             dark           jermyn             come   \n",
              "7               one            stand           valley           appear   \n",
              "8               six              see            dream              tea   \n",
              "9              hour            green           golden             many   \n",
              "10             year              sky            mille              far   \n",
              "11            fifty             seem           marble           beyond   \n",
              "12         farewell           summit               te          sarnath   \n",
              "13              two             wind            crown          beneath   \n",
              "14              per             love             wall             mnar   \n",
              "15           thirty             wave             sing            water   \n",
              "16           dollar             cold              sir             tell   \n",
              "17             less            whose           flower            clock   \n",
              "18            month              big             song             year   \n",
              "19          million             moon            grove           madman   \n",
              "\n",
              "   subject topic #5 subject topic #6 subject topic #7 subject topic #8  \\\n",
              "0                ha              god               de             door   \n",
              "1             smith            white            great             open   \n",
              "2              john             grey           beauty      compartment   \n",
              "3               ugh           barzai             evil             main   \n",
              "4           general           hatheg               ob           drawer   \n",
              "5                st             hear            world             back   \n",
              "6             ström            earth             full        machinery   \n",
              "7                hu             atal            ought         cupboard   \n",
              "8               est           window             hard              box   \n",
              "9                hi             mist            study          machine   \n",
              "10          sorcier            small             long   metzengerstein   \n",
              "11               le              sky              say            close   \n",
              "12               la             find             crew            flash   \n",
              "13          charles             peak            leave             vast   \n",
              "14           coffin              kla              age         movement   \n",
              "15           moskoe             moon          college               mr   \n",
              "16             know            plain          nothing              say   \n",
              "17          inflict             play           mildew             rear   \n",
              "18        brigadier             game              lef           behind   \n",
              "19             fear            cloud             hand           extent   \n",
              "\n",
              "   subject topic #9 subject topic #10 background topic #1 background topic #2  \n",
              "0              inch             chess                 may                 one  \n",
              "1            church        oppodeldoc                 one                 say  \n",
              "2              tree            statue               could                 see  \n",
              "3            branch              well                make                 eye  \n",
              "4             point           whoever                time                 old  \n",
              "5           suppose         automaton                  go                 man  \n",
              "6             every              name                even                 yet  \n",
              "7              foot            player                know               could  \n",
              "8               old              left                find               every  \n",
              "9            murder            silver                take               night  \n",
              "10             body              crab                give                come  \n",
              "11            forty            system                 man              little  \n",
              "12             york            editor                like                feel  \n",
              "13           shriek              snob                 see               first  \n",
              "14           around            marble                 say                word  \n",
              "15              odd             glory               place               light  \n",
              "16              see          daughter                 day                hear  \n",
              "17             hans             kalos                look                hand  \n",
              "18              peg               key                long               heart  \n",
              "19            place           musides                love               thing  "
            ],
            "text/html": [
              "\n",
              "  <div id=\"df-edfdc139-458b-4e78-ada5-a056fd08a58b\">\n",
              "    <div class=\"colab-df-container\">\n",
              "      <div>\n",
              "<style scoped>\n",
              "    .dataframe tbody tr th:only-of-type {\n",
              "        vertical-align: middle;\n",
              "    }\n",
              "\n",
              "    .dataframe tbody tr th {\n",
              "        vertical-align: top;\n",
              "    }\n",
              "\n",
              "    .dataframe thead th {\n",
              "        text-align: right;\n",
              "    }\n",
              "</style>\n",
              "<table border=\"1\" class=\"dataframe\">\n",
              "  <thead>\n",
              "    <tr style=\"text-align: right;\">\n",
              "      <th></th>\n",
              "      <th>subject topic #1</th>\n",
              "      <th>subject topic #2</th>\n",
              "      <th>subject topic #3</th>\n",
              "      <th>subject topic #4</th>\n",
              "      <th>subject topic #5</th>\n",
              "      <th>subject topic #6</th>\n",
              "      <th>subject topic #7</th>\n",
              "      <th>subject topic #8</th>\n",
              "      <th>subject topic #9</th>\n",
              "      <th>subject topic #10</th>\n",
              "      <th>background topic #1</th>\n",
              "      <th>background topic #2</th>\n",
              "    </tr>\n",
              "  </thead>\n",
              "  <tbody>\n",
              "    <tr>\n",
              "      <th>0</th>\n",
              "      <td>twenty</td>\n",
              "      <td>sea</td>\n",
              "      <td>thy</td>\n",
              "      <td>man</td>\n",
              "      <td>ha</td>\n",
              "      <td>god</td>\n",
              "      <td>de</td>\n",
              "      <td>door</td>\n",
              "      <td>inch</td>\n",
              "      <td>chess</td>\n",
              "      <td>may</td>\n",
              "      <td>one</td>\n",
              "    </tr>\n",
              "    <tr>\n",
              "      <th>1</th>\n",
              "      <td>five</td>\n",
              "      <td>tree</td>\n",
              "      <td>thou</td>\n",
              "      <td>fly</td>\n",
              "      <td>smith</td>\n",
              "      <td>white</td>\n",
              "      <td>great</td>\n",
              "      <td>open</td>\n",
              "      <td>church</td>\n",
              "      <td>oppodeldoc</td>\n",
              "      <td>one</td>\n",
              "      <td>say</td>\n",
              "    </tr>\n",
              "    <tr>\n",
              "      <th>2</th>\n",
              "      <td>hundred</td>\n",
              "      <td>eye</td>\n",
              "      <td>city</td>\n",
              "      <td>land</td>\n",
              "      <td>john</td>\n",
              "      <td>grey</td>\n",
              "      <td>beauty</td>\n",
              "      <td>compartment</td>\n",
              "      <td>tree</td>\n",
              "      <td>statue</td>\n",
              "      <td>could</td>\n",
              "      <td>see</td>\n",
              "    </tr>\n",
              "    <tr>\n",
              "      <th>3</th>\n",
              "      <td>three</td>\n",
              "      <td>look</td>\n",
              "      <td>iranon</td>\n",
              "      <td>surface</td>\n",
              "      <td>ugh</td>\n",
              "      <td>barzai</td>\n",
              "      <td>evil</td>\n",
              "      <td>main</td>\n",
              "      <td>branch</td>\n",
              "      <td>well</td>\n",
              "      <td>make</td>\n",
              "      <td>eye</td>\n",
              "    </tr>\n",
              "    <tr>\n",
              "      <th>4</th>\n",
              "      <td>thousand</td>\n",
              "      <td>flower</td>\n",
              "      <td>thee</td>\n",
              "      <td>pot</td>\n",
              "      <td>general</td>\n",
              "      <td>hatheg</td>\n",
              "      <td>ob</td>\n",
              "      <td>drawer</td>\n",
              "      <td>point</td>\n",
              "      <td>whoever</td>\n",
              "      <td>time</td>\n",
              "      <td>old</td>\n",
              "    </tr>\n",
              "    <tr>\n",
              "      <th>5</th>\n",
              "      <td>four</td>\n",
              "      <td>water</td>\n",
              "      <td>aira</td>\n",
              "      <td>mr</td>\n",
              "      <td>st</td>\n",
              "      <td>hear</td>\n",
              "      <td>world</td>\n",
              "      <td>back</td>\n",
              "      <td>suppose</td>\n",
              "      <td>automaton</td>\n",
              "      <td>go</td>\n",
              "      <td>man</td>\n",
              "    </tr>\n",
              "    <tr>\n",
              "      <th>6</th>\n",
              "      <td>mile</td>\n",
              "      <td>dark</td>\n",
              "      <td>jermyn</td>\n",
              "      <td>come</td>\n",
              "      <td>ström</td>\n",
              "      <td>earth</td>\n",
              "      <td>full</td>\n",
              "      <td>machinery</td>\n",
              "      <td>every</td>\n",
              "      <td>name</td>\n",
              "      <td>even</td>\n",
              "      <td>yet</td>\n",
              "    </tr>\n",
              "    <tr>\n",
              "      <th>7</th>\n",
              "      <td>one</td>\n",
              "      <td>stand</td>\n",
              "      <td>valley</td>\n",
              "      <td>appear</td>\n",
              "      <td>hu</td>\n",
              "      <td>atal</td>\n",
              "      <td>ought</td>\n",
              "      <td>cupboard</td>\n",
              "      <td>foot</td>\n",
              "      <td>player</td>\n",
              "      <td>know</td>\n",
              "      <td>could</td>\n",
              "    </tr>\n",
              "    <tr>\n",
              "      <th>8</th>\n",
              "      <td>six</td>\n",
              "      <td>see</td>\n",
              "      <td>dream</td>\n",
              "      <td>tea</td>\n",
              "      <td>est</td>\n",
              "      <td>window</td>\n",
              "      <td>hard</td>\n",
              "      <td>box</td>\n",
              "      <td>old</td>\n",
              "      <td>left</td>\n",
              "      <td>find</td>\n",
              "      <td>every</td>\n",
              "    </tr>\n",
              "    <tr>\n",
              "      <th>9</th>\n",
              "      <td>hour</td>\n",
              "      <td>green</td>\n",
              "      <td>golden</td>\n",
              "      <td>many</td>\n",
              "      <td>hi</td>\n",
              "      <td>mist</td>\n",
              "      <td>study</td>\n",
              "      <td>machine</td>\n",
              "      <td>murder</td>\n",
              "      <td>silver</td>\n",
              "      <td>take</td>\n",
              "      <td>night</td>\n",
              "    </tr>\n",
              "    <tr>\n",
              "      <th>10</th>\n",
              "      <td>year</td>\n",
              "      <td>sky</td>\n",
              "      <td>mille</td>\n",
              "      <td>far</td>\n",
              "      <td>sorcier</td>\n",
              "      <td>small</td>\n",
              "      <td>long</td>\n",
              "      <td>metzengerstein</td>\n",
              "      <td>body</td>\n",
              "      <td>crab</td>\n",
              "      <td>give</td>\n",
              "      <td>come</td>\n",
              "    </tr>\n",
              "    <tr>\n",
              "      <th>11</th>\n",
              "      <td>fifty</td>\n",
              "      <td>seem</td>\n",
              "      <td>marble</td>\n",
              "      <td>beyond</td>\n",
              "      <td>le</td>\n",
              "      <td>sky</td>\n",
              "      <td>say</td>\n",
              "      <td>close</td>\n",
              "      <td>forty</td>\n",
              "      <td>system</td>\n",
              "      <td>man</td>\n",
              "      <td>little</td>\n",
              "    </tr>\n",
              "    <tr>\n",
              "      <th>12</th>\n",
              "      <td>farewell</td>\n",
              "      <td>summit</td>\n",
              "      <td>te</td>\n",
              "      <td>sarnath</td>\n",
              "      <td>la</td>\n",
              "      <td>find</td>\n",
              "      <td>crew</td>\n",
              "      <td>flash</td>\n",
              "      <td>york</td>\n",
              "      <td>editor</td>\n",
              "      <td>like</td>\n",
              "      <td>feel</td>\n",
              "    </tr>\n",
              "    <tr>\n",
              "      <th>13</th>\n",
              "      <td>two</td>\n",
              "      <td>wind</td>\n",
              "      <td>crown</td>\n",
              "      <td>beneath</td>\n",
              "      <td>charles</td>\n",
              "      <td>peak</td>\n",
              "      <td>leave</td>\n",
              "      <td>vast</td>\n",
              "      <td>shriek</td>\n",
              "      <td>snob</td>\n",
              "      <td>see</td>\n",
              "      <td>first</td>\n",
              "    </tr>\n",
              "    <tr>\n",
              "      <th>14</th>\n",
              "      <td>per</td>\n",
              "      <td>love</td>\n",
              "      <td>wall</td>\n",
              "      <td>mnar</td>\n",
              "      <td>coffin</td>\n",
              "      <td>kla</td>\n",
              "      <td>age</td>\n",
              "      <td>movement</td>\n",
              "      <td>around</td>\n",
              "      <td>marble</td>\n",
              "      <td>say</td>\n",
              "      <td>word</td>\n",
              "    </tr>\n",
              "    <tr>\n",
              "      <th>15</th>\n",
              "      <td>thirty</td>\n",
              "      <td>wave</td>\n",
              "      <td>sing</td>\n",
              "      <td>water</td>\n",
              "      <td>moskoe</td>\n",
              "      <td>moon</td>\n",
              "      <td>college</td>\n",
              "      <td>mr</td>\n",
              "      <td>odd</td>\n",
              "      <td>glory</td>\n",
              "      <td>place</td>\n",
              "      <td>light</td>\n",
              "    </tr>\n",
              "    <tr>\n",
              "      <th>16</th>\n",
              "      <td>dollar</td>\n",
              "      <td>cold</td>\n",
              "      <td>sir</td>\n",
              "      <td>tell</td>\n",
              "      <td>know</td>\n",
              "      <td>plain</td>\n",
              "      <td>nothing</td>\n",
              "      <td>say</td>\n",
              "      <td>see</td>\n",
              "      <td>daughter</td>\n",
              "      <td>day</td>\n",
              "      <td>hear</td>\n",
              "    </tr>\n",
              "    <tr>\n",
              "      <th>17</th>\n",
              "      <td>less</td>\n",
              "      <td>whose</td>\n",
              "      <td>flower</td>\n",
              "      <td>clock</td>\n",
              "      <td>inflict</td>\n",
              "      <td>play</td>\n",
              "      <td>mildew</td>\n",
              "      <td>rear</td>\n",
              "      <td>hans</td>\n",
              "      <td>kalos</td>\n",
              "      <td>look</td>\n",
              "      <td>hand</td>\n",
              "    </tr>\n",
              "    <tr>\n",
              "      <th>18</th>\n",
              "      <td>month</td>\n",
              "      <td>big</td>\n",
              "      <td>song</td>\n",
              "      <td>year</td>\n",
              "      <td>brigadier</td>\n",
              "      <td>game</td>\n",
              "      <td>lef</td>\n",
              "      <td>behind</td>\n",
              "      <td>peg</td>\n",
              "      <td>key</td>\n",
              "      <td>long</td>\n",
              "      <td>heart</td>\n",
              "    </tr>\n",
              "    <tr>\n",
              "      <th>19</th>\n",
              "      <td>million</td>\n",
              "      <td>moon</td>\n",
              "      <td>grove</td>\n",
              "      <td>madman</td>\n",
              "      <td>fear</td>\n",
              "      <td>cloud</td>\n",
              "      <td>hand</td>\n",
              "      <td>extent</td>\n",
              "      <td>place</td>\n",
              "      <td>musides</td>\n",
              "      <td>love</td>\n",
              "      <td>thing</td>\n",
              "    </tr>\n",
              "  </tbody>\n",
              "</table>\n",
              "</div>\n",
              "      <button class=\"colab-df-convert\" onclick=\"convertToInteractive('df-edfdc139-458b-4e78-ada5-a056fd08a58b')\"\n",
              "              title=\"Convert this dataframe to an interactive table.\"\n",
              "              style=\"display:none;\">\n",
              "        \n",
              "  <svg xmlns=\"http://www.w3.org/2000/svg\" height=\"24px\"viewBox=\"0 0 24 24\"\n",
              "       width=\"24px\">\n",
              "    <path d=\"M0 0h24v24H0V0z\" fill=\"none\"/>\n",
              "    <path d=\"M18.56 5.44l.94 2.06.94-2.06 2.06-.94-2.06-.94-.94-2.06-.94 2.06-2.06.94zm-11 1L8.5 8.5l.94-2.06 2.06-.94-2.06-.94L8.5 2.5l-.94 2.06-2.06.94zm10 10l.94 2.06.94-2.06 2.06-.94-2.06-.94-.94-2.06-.94 2.06-2.06.94z\"/><path d=\"M17.41 7.96l-1.37-1.37c-.4-.4-.92-.59-1.43-.59-.52 0-1.04.2-1.43.59L10.3 9.45l-7.72 7.72c-.78.78-.78 2.05 0 2.83L4 21.41c.39.39.9.59 1.41.59.51 0 1.02-.2 1.41-.59l7.78-7.78 2.81-2.81c.8-.78.8-2.07 0-2.86zM5.41 20L4 18.59l7.72-7.72 1.47 1.35L5.41 20z\"/>\n",
              "  </svg>\n",
              "      </button>\n",
              "      \n",
              "  <style>\n",
              "    .colab-df-container {\n",
              "      display:flex;\n",
              "      flex-wrap:wrap;\n",
              "      gap: 12px;\n",
              "    }\n",
              "\n",
              "    .colab-df-convert {\n",
              "      background-color: #E8F0FE;\n",
              "      border: none;\n",
              "      border-radius: 50%;\n",
              "      cursor: pointer;\n",
              "      display: none;\n",
              "      fill: #1967D2;\n",
              "      height: 32px;\n",
              "      padding: 0 0 0 0;\n",
              "      width: 32px;\n",
              "    }\n",
              "\n",
              "    .colab-df-convert:hover {\n",
              "      background-color: #E2EBFA;\n",
              "      box-shadow: 0px 1px 2px rgba(60, 64, 67, 0.3), 0px 1px 3px 1px rgba(60, 64, 67, 0.15);\n",
              "      fill: #174EA6;\n",
              "    }\n",
              "\n",
              "    [theme=dark] .colab-df-convert {\n",
              "      background-color: #3B4455;\n",
              "      fill: #D2E3FC;\n",
              "    }\n",
              "\n",
              "    [theme=dark] .colab-df-convert:hover {\n",
              "      background-color: #434B5C;\n",
              "      box-shadow: 0px 1px 3px 1px rgba(0, 0, 0, 0.15);\n",
              "      filter: drop-shadow(0px 1px 2px rgba(0, 0, 0, 0.3));\n",
              "      fill: #FFFFFF;\n",
              "    }\n",
              "  </style>\n",
              "\n",
              "      <script>\n",
              "        const buttonEl =\n",
              "          document.querySelector('#df-edfdc139-458b-4e78-ada5-a056fd08a58b button.colab-df-convert');\n",
              "        buttonEl.style.display =\n",
              "          google.colab.kernel.accessAllowed ? 'block' : 'none';\n",
              "\n",
              "        async function convertToInteractive(key) {\n",
              "          const element = document.querySelector('#df-edfdc139-458b-4e78-ada5-a056fd08a58b');\n",
              "          const dataTable =\n",
              "            await google.colab.kernel.invokeFunction('convertToInteractive',\n",
              "                                                     [key], {});\n",
              "          if (!dataTable) return;\n",
              "\n",
              "          const docLinkHtml = 'Like what you see? Visit the ' +\n",
              "            '<a target=\"_blank\" href=https://colab.research.google.com/notebooks/data_table.ipynb>data table notebook</a>'\n",
              "            + ' to learn more about interactive tables.';\n",
              "          element.innerHTML = '';\n",
              "          dataTable['output_type'] = 'display_data';\n",
              "          await google.colab.output.renderOutput(dataTable, element);\n",
              "          const docLink = document.createElement('div');\n",
              "          docLink.innerHTML = docLinkHtml;\n",
              "          element.appendChild(docLink);\n",
              "        }\n",
              "      </script>\n",
              "    </div>\n",
              "  </div>\n",
              "  "
            ]
          },
          "metadata": {},
          "execution_count": 53
        }
      ]
    },
    {
      "cell_type": "code",
      "source": [
        "artm_topics = list(artm_topics.values())[:10]"
      ],
      "metadata": {
        "id": "0zaaihYbWdXF"
      },
      "execution_count": null,
      "outputs": []
    },
    {
      "cell_type": "markdown",
      "metadata": {
        "id": "mteOYV8TDMVd"
      },
      "source": [
        "Write a function to convert new documents to topics probabilities vectors."
      ]
    },
    {
      "cell_type": "code",
      "execution_count": null,
      "metadata": {
        "id": "IGkD9YaxDMVd"
      },
      "outputs": [],
      "source": [
        "def convert_new_documents(texts):\n",
        "    test_batch_vectorizer = create_batches(texts, url)\n",
        "    return model_artm.transform(batch_vectorizer=test_batch_vectorizer)"
      ]
    },
    {
      "cell_type": "markdown",
      "metadata": {
        "id": "SPrNOdMLDMVd"
      },
      "source": [
        "Calculate the quality scores for each model. Make a barplot to compare the quality."
      ]
    },
    {
      "cell_type": "code",
      "source": [
        "models = ['nmf', 'lda', 'artm']"
      ],
      "metadata": {
        "id": "ga9Y7natY0pT"
      },
      "execution_count": null,
      "outputs": []
    },
    {
      "cell_type": "code",
      "source": [
        "coherences = [calculate_coherence(nmf_topics, corpus, id2word, preprocessed_stories, 'u_mass'),\n",
        "              calculate_coherence(lda_topics, corpus, id2word, preprocessed_stories, 'u_mass'),\n",
        "              calculate_coherence(artm_topics, corpus, id2word, preprocessed_stories, 'u_mass')]"
      ],
      "metadata": {
        "id": "dR0KvYEqUtgm"
      },
      "execution_count": null,
      "outputs": []
    },
    {
      "cell_type": "code",
      "source": [
        "figure = px.bar(x=models,\n",
        "                y=coherences,\n",
        "                title='Coherence scores',\n",
        "                width=700,\n",
        "                height=500)\n",
        "figure.update_layout(xaxis_title='model',\n",
        "                     yaxis_title='value')\n",
        "figure.show()"
      ],
      "metadata": {
        "colab": {
          "base_uri": "https://localhost:8080/",
          "height": 517
        },
        "id": "sFt2oiH-ZoLZ",
        "outputId": "21a350e2-1f1b-449e-980b-1bd4edb4e79c"
      },
      "execution_count": null,
      "outputs": [
        {
          "output_type": "display_data",
          "data": {
            "text/html": [
              "<html>\n",
              "<head><meta charset=\"utf-8\" /></head>\n",
              "<body>\n",
              "    <div>            <script src=\"https://cdnjs.cloudflare.com/ajax/libs/mathjax/2.7.5/MathJax.js?config=TeX-AMS-MML_SVG\"></script><script type=\"text/javascript\">if (window.MathJax) {MathJax.Hub.Config({SVG: {font: \"STIX-Web\"}});}</script>                <script type=\"text/javascript\">window.PlotlyConfig = {MathJaxConfig: 'local'};</script>\n",
              "        <script src=\"https://cdn.plot.ly/plotly-2.8.3.min.js\"></script>                <div id=\"e47e4289-f7ae-48cb-9d9f-e50479f1b9f6\" class=\"plotly-graph-div\" style=\"height:500px; width:700px;\"></div>            <script type=\"text/javascript\">                                    window.PLOTLYENV=window.PLOTLYENV || {};                                    if (document.getElementById(\"e47e4289-f7ae-48cb-9d9f-e50479f1b9f6\")) {                    Plotly.newPlot(                        \"e47e4289-f7ae-48cb-9d9f-e50479f1b9f6\",                        [{\"alignmentgroup\":\"True\",\"hovertemplate\":\"x=%{x}<br>y=%{y}<extra></extra>\",\"legendgroup\":\"\",\"marker\":{\"color\":\"#636efa\",\"pattern\":{\"shape\":\"\"}},\"name\":\"\",\"offsetgroup\":\"\",\"orientation\":\"v\",\"showlegend\":false,\"textposition\":\"auto\",\"x\":[\"nmf\",\"lda\",\"artm\"],\"xaxis\":\"x\",\"y\":[-4.657973915058046,-4.310959676809303,-10.170981538041314],\"yaxis\":\"y\",\"type\":\"bar\"}],                        {\"template\":{\"data\":{\"bar\":[{\"error_x\":{\"color\":\"#2a3f5f\"},\"error_y\":{\"color\":\"#2a3f5f\"},\"marker\":{\"line\":{\"color\":\"#E5ECF6\",\"width\":0.5},\"pattern\":{\"fillmode\":\"overlay\",\"size\":10,\"solidity\":0.2}},\"type\":\"bar\"}],\"barpolar\":[{\"marker\":{\"line\":{\"color\":\"#E5ECF6\",\"width\":0.5},\"pattern\":{\"fillmode\":\"overlay\",\"size\":10,\"solidity\":0.2}},\"type\":\"barpolar\"}],\"carpet\":[{\"aaxis\":{\"endlinecolor\":\"#2a3f5f\",\"gridcolor\":\"white\",\"linecolor\":\"white\",\"minorgridcolor\":\"white\",\"startlinecolor\":\"#2a3f5f\"},\"baxis\":{\"endlinecolor\":\"#2a3f5f\",\"gridcolor\":\"white\",\"linecolor\":\"white\",\"minorgridcolor\":\"white\",\"startlinecolor\":\"#2a3f5f\"},\"type\":\"carpet\"}],\"choropleth\":[{\"colorbar\":{\"outlinewidth\":0,\"ticks\":\"\"},\"type\":\"choropleth\"}],\"contour\":[{\"colorbar\":{\"outlinewidth\":0,\"ticks\":\"\"},\"colorscale\":[[0.0,\"#0d0887\"],[0.1111111111111111,\"#46039f\"],[0.2222222222222222,\"#7201a8\"],[0.3333333333333333,\"#9c179e\"],[0.4444444444444444,\"#bd3786\"],[0.5555555555555556,\"#d8576b\"],[0.6666666666666666,\"#ed7953\"],[0.7777777777777778,\"#fb9f3a\"],[0.8888888888888888,\"#fdca26\"],[1.0,\"#f0f921\"]],\"type\":\"contour\"}],\"contourcarpet\":[{\"colorbar\":{\"outlinewidth\":0,\"ticks\":\"\"},\"type\":\"contourcarpet\"}],\"heatmap\":[{\"colorbar\":{\"outlinewidth\":0,\"ticks\":\"\"},\"colorscale\":[[0.0,\"#0d0887\"],[0.1111111111111111,\"#46039f\"],[0.2222222222222222,\"#7201a8\"],[0.3333333333333333,\"#9c179e\"],[0.4444444444444444,\"#bd3786\"],[0.5555555555555556,\"#d8576b\"],[0.6666666666666666,\"#ed7953\"],[0.7777777777777778,\"#fb9f3a\"],[0.8888888888888888,\"#fdca26\"],[1.0,\"#f0f921\"]],\"type\":\"heatmap\"}],\"heatmapgl\":[{\"colorbar\":{\"outlinewidth\":0,\"ticks\":\"\"},\"colorscale\":[[0.0,\"#0d0887\"],[0.1111111111111111,\"#46039f\"],[0.2222222222222222,\"#7201a8\"],[0.3333333333333333,\"#9c179e\"],[0.4444444444444444,\"#bd3786\"],[0.5555555555555556,\"#d8576b\"],[0.6666666666666666,\"#ed7953\"],[0.7777777777777778,\"#fb9f3a\"],[0.8888888888888888,\"#fdca26\"],[1.0,\"#f0f921\"]],\"type\":\"heatmapgl\"}],\"histogram\":[{\"marker\":{\"pattern\":{\"fillmode\":\"overlay\",\"size\":10,\"solidity\":0.2}},\"type\":\"histogram\"}],\"histogram2d\":[{\"colorbar\":{\"outlinewidth\":0,\"ticks\":\"\"},\"colorscale\":[[0.0,\"#0d0887\"],[0.1111111111111111,\"#46039f\"],[0.2222222222222222,\"#7201a8\"],[0.3333333333333333,\"#9c179e\"],[0.4444444444444444,\"#bd3786\"],[0.5555555555555556,\"#d8576b\"],[0.6666666666666666,\"#ed7953\"],[0.7777777777777778,\"#fb9f3a\"],[0.8888888888888888,\"#fdca26\"],[1.0,\"#f0f921\"]],\"type\":\"histogram2d\"}],\"histogram2dcontour\":[{\"colorbar\":{\"outlinewidth\":0,\"ticks\":\"\"},\"colorscale\":[[0.0,\"#0d0887\"],[0.1111111111111111,\"#46039f\"],[0.2222222222222222,\"#7201a8\"],[0.3333333333333333,\"#9c179e\"],[0.4444444444444444,\"#bd3786\"],[0.5555555555555556,\"#d8576b\"],[0.6666666666666666,\"#ed7953\"],[0.7777777777777778,\"#fb9f3a\"],[0.8888888888888888,\"#fdca26\"],[1.0,\"#f0f921\"]],\"type\":\"histogram2dcontour\"}],\"mesh3d\":[{\"colorbar\":{\"outlinewidth\":0,\"ticks\":\"\"},\"type\":\"mesh3d\"}],\"parcoords\":[{\"line\":{\"colorbar\":{\"outlinewidth\":0,\"ticks\":\"\"}},\"type\":\"parcoords\"}],\"pie\":[{\"automargin\":true,\"type\":\"pie\"}],\"scatter\":[{\"marker\":{\"colorbar\":{\"outlinewidth\":0,\"ticks\":\"\"}},\"type\":\"scatter\"}],\"scatter3d\":[{\"line\":{\"colorbar\":{\"outlinewidth\":0,\"ticks\":\"\"}},\"marker\":{\"colorbar\":{\"outlinewidth\":0,\"ticks\":\"\"}},\"type\":\"scatter3d\"}],\"scattercarpet\":[{\"marker\":{\"colorbar\":{\"outlinewidth\":0,\"ticks\":\"\"}},\"type\":\"scattercarpet\"}],\"scattergeo\":[{\"marker\":{\"colorbar\":{\"outlinewidth\":0,\"ticks\":\"\"}},\"type\":\"scattergeo\"}],\"scattergl\":[{\"marker\":{\"colorbar\":{\"outlinewidth\":0,\"ticks\":\"\"}},\"type\":\"scattergl\"}],\"scattermapbox\":[{\"marker\":{\"colorbar\":{\"outlinewidth\":0,\"ticks\":\"\"}},\"type\":\"scattermapbox\"}],\"scatterpolar\":[{\"marker\":{\"colorbar\":{\"outlinewidth\":0,\"ticks\":\"\"}},\"type\":\"scatterpolar\"}],\"scatterpolargl\":[{\"marker\":{\"colorbar\":{\"outlinewidth\":0,\"ticks\":\"\"}},\"type\":\"scatterpolargl\"}],\"scatterternary\":[{\"marker\":{\"colorbar\":{\"outlinewidth\":0,\"ticks\":\"\"}},\"type\":\"scatterternary\"}],\"surface\":[{\"colorbar\":{\"outlinewidth\":0,\"ticks\":\"\"},\"colorscale\":[[0.0,\"#0d0887\"],[0.1111111111111111,\"#46039f\"],[0.2222222222222222,\"#7201a8\"],[0.3333333333333333,\"#9c179e\"],[0.4444444444444444,\"#bd3786\"],[0.5555555555555556,\"#d8576b\"],[0.6666666666666666,\"#ed7953\"],[0.7777777777777778,\"#fb9f3a\"],[0.8888888888888888,\"#fdca26\"],[1.0,\"#f0f921\"]],\"type\":\"surface\"}],\"table\":[{\"cells\":{\"fill\":{\"color\":\"#EBF0F8\"},\"line\":{\"color\":\"white\"}},\"header\":{\"fill\":{\"color\":\"#C8D4E3\"},\"line\":{\"color\":\"white\"}},\"type\":\"table\"}]},\"layout\":{\"annotationdefaults\":{\"arrowcolor\":\"#2a3f5f\",\"arrowhead\":0,\"arrowwidth\":1},\"autotypenumbers\":\"strict\",\"coloraxis\":{\"colorbar\":{\"outlinewidth\":0,\"ticks\":\"\"}},\"colorscale\":{\"diverging\":[[0,\"#8e0152\"],[0.1,\"#c51b7d\"],[0.2,\"#de77ae\"],[0.3,\"#f1b6da\"],[0.4,\"#fde0ef\"],[0.5,\"#f7f7f7\"],[0.6,\"#e6f5d0\"],[0.7,\"#b8e186\"],[0.8,\"#7fbc41\"],[0.9,\"#4d9221\"],[1,\"#276419\"]],\"sequential\":[[0.0,\"#0d0887\"],[0.1111111111111111,\"#46039f\"],[0.2222222222222222,\"#7201a8\"],[0.3333333333333333,\"#9c179e\"],[0.4444444444444444,\"#bd3786\"],[0.5555555555555556,\"#d8576b\"],[0.6666666666666666,\"#ed7953\"],[0.7777777777777778,\"#fb9f3a\"],[0.8888888888888888,\"#fdca26\"],[1.0,\"#f0f921\"]],\"sequentialminus\":[[0.0,\"#0d0887\"],[0.1111111111111111,\"#46039f\"],[0.2222222222222222,\"#7201a8\"],[0.3333333333333333,\"#9c179e\"],[0.4444444444444444,\"#bd3786\"],[0.5555555555555556,\"#d8576b\"],[0.6666666666666666,\"#ed7953\"],[0.7777777777777778,\"#fb9f3a\"],[0.8888888888888888,\"#fdca26\"],[1.0,\"#f0f921\"]]},\"colorway\":[\"#636efa\",\"#EF553B\",\"#00cc96\",\"#ab63fa\",\"#FFA15A\",\"#19d3f3\",\"#FF6692\",\"#B6E880\",\"#FF97FF\",\"#FECB52\"],\"font\":{\"color\":\"#2a3f5f\"},\"geo\":{\"bgcolor\":\"white\",\"lakecolor\":\"white\",\"landcolor\":\"#E5ECF6\",\"showlakes\":true,\"showland\":true,\"subunitcolor\":\"white\"},\"hoverlabel\":{\"align\":\"left\"},\"hovermode\":\"closest\",\"mapbox\":{\"style\":\"light\"},\"paper_bgcolor\":\"white\",\"plot_bgcolor\":\"#E5ECF6\",\"polar\":{\"angularaxis\":{\"gridcolor\":\"white\",\"linecolor\":\"white\",\"ticks\":\"\"},\"bgcolor\":\"#E5ECF6\",\"radialaxis\":{\"gridcolor\":\"white\",\"linecolor\":\"white\",\"ticks\":\"\"}},\"scene\":{\"xaxis\":{\"backgroundcolor\":\"#E5ECF6\",\"gridcolor\":\"white\",\"gridwidth\":2,\"linecolor\":\"white\",\"showbackground\":true,\"ticks\":\"\",\"zerolinecolor\":\"white\"},\"yaxis\":{\"backgroundcolor\":\"#E5ECF6\",\"gridcolor\":\"white\",\"gridwidth\":2,\"linecolor\":\"white\",\"showbackground\":true,\"ticks\":\"\",\"zerolinecolor\":\"white\"},\"zaxis\":{\"backgroundcolor\":\"#E5ECF6\",\"gridcolor\":\"white\",\"gridwidth\":2,\"linecolor\":\"white\",\"showbackground\":true,\"ticks\":\"\",\"zerolinecolor\":\"white\"}},\"shapedefaults\":{\"line\":{\"color\":\"#2a3f5f\"}},\"ternary\":{\"aaxis\":{\"gridcolor\":\"white\",\"linecolor\":\"white\",\"ticks\":\"\"},\"baxis\":{\"gridcolor\":\"white\",\"linecolor\":\"white\",\"ticks\":\"\"},\"bgcolor\":\"#E5ECF6\",\"caxis\":{\"gridcolor\":\"white\",\"linecolor\":\"white\",\"ticks\":\"\"}},\"title\":{\"x\":0.05},\"xaxis\":{\"automargin\":true,\"gridcolor\":\"white\",\"linecolor\":\"white\",\"ticks\":\"\",\"title\":{\"standoff\":15},\"zerolinecolor\":\"white\",\"zerolinewidth\":2},\"yaxis\":{\"automargin\":true,\"gridcolor\":\"white\",\"linecolor\":\"white\",\"ticks\":\"\",\"title\":{\"standoff\":15},\"zerolinecolor\":\"white\",\"zerolinewidth\":2}}},\"xaxis\":{\"anchor\":\"y\",\"domain\":[0.0,1.0],\"title\":{\"text\":\"model\"}},\"yaxis\":{\"anchor\":\"x\",\"domain\":[0.0,1.0],\"title\":{\"text\":\"value\"}},\"legend\":{\"tracegroupgap\":0},\"title\":{\"text\":\"Coherence scores\"},\"barmode\":\"relative\",\"height\":500,\"width\":700},                        {\"responsive\": true}                    ).then(function(){\n",
              "                            \n",
              "var gd = document.getElementById('e47e4289-f7ae-48cb-9d9f-e50479f1b9f6');\n",
              "var x = new MutationObserver(function (mutations, observer) {{\n",
              "        var display = window.getComputedStyle(gd).display;\n",
              "        if (!display || display === 'none') {{\n",
              "            console.log([gd, 'removed!']);\n",
              "            Plotly.purge(gd);\n",
              "            observer.disconnect();\n",
              "        }}\n",
              "}});\n",
              "\n",
              "// Listen for the removal of the full notebook cells\n",
              "var notebookContainer = gd.closest('#notebook-container');\n",
              "if (notebookContainer) {{\n",
              "    x.observe(notebookContainer, {childList: true});\n",
              "}}\n",
              "\n",
              "// Listen for the clearing of the current output cell\n",
              "var outputEl = gd.closest('.output');\n",
              "if (outputEl) {{\n",
              "    x.observe(outputEl, {childList: true});\n",
              "}}\n",
              "\n",
              "                        })                };                            </script>        </div>\n",
              "</body>\n",
              "</html>"
            ]
          },
          "metadata": {}
        }
      ]
    },
    {
      "cell_type": "code",
      "execution_count": null,
      "metadata": {
        "id": "hQadAQCXDMVd"
      },
      "outputs": [],
      "source": [
        "npmis = [calculate_coherence(nmf_topics, corpus, id2word, preprocessed_stories, 'c_npmi'),\n",
        "         calculate_coherence(lda_topics, corpus, id2word, preprocessed_stories, 'c_npmi'),\n",
        "         calculate_coherence(artm_topics, corpus, id2word, preprocessed_stories, 'c_npmi')]"
      ]
    },
    {
      "cell_type": "code",
      "source": [
        "npmis"
      ],
      "metadata": {
        "colab": {
          "base_uri": "https://localhost:8080/"
        },
        "id": "AGOO-MsabxRv",
        "outputId": "543c9001-efe9-4630-e7a4-79c34901056d"
      },
      "execution_count": null,
      "outputs": [
        {
          "output_type": "execute_result",
          "data": {
            "text/plain": [
              "[nan, nan, nan]"
            ]
          },
          "metadata": {},
          "execution_count": 72
        }
      ]
    },
    {
      "cell_type": "code",
      "source": [
        "dr_scores = [calculate_based_on_dr(nmf_topics),\n",
        "             calculate_based_on_dr(lda_topics),\n",
        "             calculate_based_on_dr(artm_topics)]"
      ],
      "metadata": {
        "id": "mxdwCdOQcIER"
      },
      "execution_count": null,
      "outputs": []
    },
    {
      "cell_type": "code",
      "source": [
        "figure = px.bar(x=models,\n",
        "                y=dr_scores,\n",
        "                title='Scores based on distributed representations',\n",
        "                width=700,\n",
        "                height=500)\n",
        "figure.update_layout(xaxis_title='model',\n",
        "                     yaxis_title='value')\n",
        "figure.show()"
      ],
      "metadata": {
        "colab": {
          "base_uri": "https://localhost:8080/",
          "height": 517
        },
        "id": "Ujda3efrdIvm",
        "outputId": "82252e30-7606-4b6f-a005-e7a1656e941e"
      },
      "execution_count": null,
      "outputs": [
        {
          "output_type": "display_data",
          "data": {
            "text/html": [
              "<html>\n",
              "<head><meta charset=\"utf-8\" /></head>\n",
              "<body>\n",
              "    <div>            <script src=\"https://cdnjs.cloudflare.com/ajax/libs/mathjax/2.7.5/MathJax.js?config=TeX-AMS-MML_SVG\"></script><script type=\"text/javascript\">if (window.MathJax) {MathJax.Hub.Config({SVG: {font: \"STIX-Web\"}});}</script>                <script type=\"text/javascript\">window.PlotlyConfig = {MathJaxConfig: 'local'};</script>\n",
              "        <script src=\"https://cdn.plot.ly/plotly-2.8.3.min.js\"></script>                <div id=\"72d9b805-d8d7-4d76-99e9-4d55f347a7f3\" class=\"plotly-graph-div\" style=\"height:500px; width:700px;\"></div>            <script type=\"text/javascript\">                                    window.PLOTLYENV=window.PLOTLYENV || {};                                    if (document.getElementById(\"72d9b805-d8d7-4d76-99e9-4d55f347a7f3\")) {                    Plotly.newPlot(                        \"72d9b805-d8d7-4d76-99e9-4d55f347a7f3\",                        [{\"alignmentgroup\":\"True\",\"hovertemplate\":\"x=%{x}<br>y=%{y}<extra></extra>\",\"legendgroup\":\"\",\"marker\":{\"color\":\"#636efa\",\"pattern\":{\"shape\":\"\"}},\"name\":\"\",\"offsetgroup\":\"\",\"orientation\":\"v\",\"showlegend\":false,\"textposition\":\"auto\",\"x\":[\"nmf\",\"lda\",\"artm\"],\"xaxis\":\"x\",\"y\":[0.4706820477937397,0.45558963574861233,0.4784787830553556],\"yaxis\":\"y\",\"type\":\"bar\"}],                        {\"template\":{\"data\":{\"bar\":[{\"error_x\":{\"color\":\"#2a3f5f\"},\"error_y\":{\"color\":\"#2a3f5f\"},\"marker\":{\"line\":{\"color\":\"#E5ECF6\",\"width\":0.5},\"pattern\":{\"fillmode\":\"overlay\",\"size\":10,\"solidity\":0.2}},\"type\":\"bar\"}],\"barpolar\":[{\"marker\":{\"line\":{\"color\":\"#E5ECF6\",\"width\":0.5},\"pattern\":{\"fillmode\":\"overlay\",\"size\":10,\"solidity\":0.2}},\"type\":\"barpolar\"}],\"carpet\":[{\"aaxis\":{\"endlinecolor\":\"#2a3f5f\",\"gridcolor\":\"white\",\"linecolor\":\"white\",\"minorgridcolor\":\"white\",\"startlinecolor\":\"#2a3f5f\"},\"baxis\":{\"endlinecolor\":\"#2a3f5f\",\"gridcolor\":\"white\",\"linecolor\":\"white\",\"minorgridcolor\":\"white\",\"startlinecolor\":\"#2a3f5f\"},\"type\":\"carpet\"}],\"choropleth\":[{\"colorbar\":{\"outlinewidth\":0,\"ticks\":\"\"},\"type\":\"choropleth\"}],\"contour\":[{\"colorbar\":{\"outlinewidth\":0,\"ticks\":\"\"},\"colorscale\":[[0.0,\"#0d0887\"],[0.1111111111111111,\"#46039f\"],[0.2222222222222222,\"#7201a8\"],[0.3333333333333333,\"#9c179e\"],[0.4444444444444444,\"#bd3786\"],[0.5555555555555556,\"#d8576b\"],[0.6666666666666666,\"#ed7953\"],[0.7777777777777778,\"#fb9f3a\"],[0.8888888888888888,\"#fdca26\"],[1.0,\"#f0f921\"]],\"type\":\"contour\"}],\"contourcarpet\":[{\"colorbar\":{\"outlinewidth\":0,\"ticks\":\"\"},\"type\":\"contourcarpet\"}],\"heatmap\":[{\"colorbar\":{\"outlinewidth\":0,\"ticks\":\"\"},\"colorscale\":[[0.0,\"#0d0887\"],[0.1111111111111111,\"#46039f\"],[0.2222222222222222,\"#7201a8\"],[0.3333333333333333,\"#9c179e\"],[0.4444444444444444,\"#bd3786\"],[0.5555555555555556,\"#d8576b\"],[0.6666666666666666,\"#ed7953\"],[0.7777777777777778,\"#fb9f3a\"],[0.8888888888888888,\"#fdca26\"],[1.0,\"#f0f921\"]],\"type\":\"heatmap\"}],\"heatmapgl\":[{\"colorbar\":{\"outlinewidth\":0,\"ticks\":\"\"},\"colorscale\":[[0.0,\"#0d0887\"],[0.1111111111111111,\"#46039f\"],[0.2222222222222222,\"#7201a8\"],[0.3333333333333333,\"#9c179e\"],[0.4444444444444444,\"#bd3786\"],[0.5555555555555556,\"#d8576b\"],[0.6666666666666666,\"#ed7953\"],[0.7777777777777778,\"#fb9f3a\"],[0.8888888888888888,\"#fdca26\"],[1.0,\"#f0f921\"]],\"type\":\"heatmapgl\"}],\"histogram\":[{\"marker\":{\"pattern\":{\"fillmode\":\"overlay\",\"size\":10,\"solidity\":0.2}},\"type\":\"histogram\"}],\"histogram2d\":[{\"colorbar\":{\"outlinewidth\":0,\"ticks\":\"\"},\"colorscale\":[[0.0,\"#0d0887\"],[0.1111111111111111,\"#46039f\"],[0.2222222222222222,\"#7201a8\"],[0.3333333333333333,\"#9c179e\"],[0.4444444444444444,\"#bd3786\"],[0.5555555555555556,\"#d8576b\"],[0.6666666666666666,\"#ed7953\"],[0.7777777777777778,\"#fb9f3a\"],[0.8888888888888888,\"#fdca26\"],[1.0,\"#f0f921\"]],\"type\":\"histogram2d\"}],\"histogram2dcontour\":[{\"colorbar\":{\"outlinewidth\":0,\"ticks\":\"\"},\"colorscale\":[[0.0,\"#0d0887\"],[0.1111111111111111,\"#46039f\"],[0.2222222222222222,\"#7201a8\"],[0.3333333333333333,\"#9c179e\"],[0.4444444444444444,\"#bd3786\"],[0.5555555555555556,\"#d8576b\"],[0.6666666666666666,\"#ed7953\"],[0.7777777777777778,\"#fb9f3a\"],[0.8888888888888888,\"#fdca26\"],[1.0,\"#f0f921\"]],\"type\":\"histogram2dcontour\"}],\"mesh3d\":[{\"colorbar\":{\"outlinewidth\":0,\"ticks\":\"\"},\"type\":\"mesh3d\"}],\"parcoords\":[{\"line\":{\"colorbar\":{\"outlinewidth\":0,\"ticks\":\"\"}},\"type\":\"parcoords\"}],\"pie\":[{\"automargin\":true,\"type\":\"pie\"}],\"scatter\":[{\"marker\":{\"colorbar\":{\"outlinewidth\":0,\"ticks\":\"\"}},\"type\":\"scatter\"}],\"scatter3d\":[{\"line\":{\"colorbar\":{\"outlinewidth\":0,\"ticks\":\"\"}},\"marker\":{\"colorbar\":{\"outlinewidth\":0,\"ticks\":\"\"}},\"type\":\"scatter3d\"}],\"scattercarpet\":[{\"marker\":{\"colorbar\":{\"outlinewidth\":0,\"ticks\":\"\"}},\"type\":\"scattercarpet\"}],\"scattergeo\":[{\"marker\":{\"colorbar\":{\"outlinewidth\":0,\"ticks\":\"\"}},\"type\":\"scattergeo\"}],\"scattergl\":[{\"marker\":{\"colorbar\":{\"outlinewidth\":0,\"ticks\":\"\"}},\"type\":\"scattergl\"}],\"scattermapbox\":[{\"marker\":{\"colorbar\":{\"outlinewidth\":0,\"ticks\":\"\"}},\"type\":\"scattermapbox\"}],\"scatterpolar\":[{\"marker\":{\"colorbar\":{\"outlinewidth\":0,\"ticks\":\"\"}},\"type\":\"scatterpolar\"}],\"scatterpolargl\":[{\"marker\":{\"colorbar\":{\"outlinewidth\":0,\"ticks\":\"\"}},\"type\":\"scatterpolargl\"}],\"scatterternary\":[{\"marker\":{\"colorbar\":{\"outlinewidth\":0,\"ticks\":\"\"}},\"type\":\"scatterternary\"}],\"surface\":[{\"colorbar\":{\"outlinewidth\":0,\"ticks\":\"\"},\"colorscale\":[[0.0,\"#0d0887\"],[0.1111111111111111,\"#46039f\"],[0.2222222222222222,\"#7201a8\"],[0.3333333333333333,\"#9c179e\"],[0.4444444444444444,\"#bd3786\"],[0.5555555555555556,\"#d8576b\"],[0.6666666666666666,\"#ed7953\"],[0.7777777777777778,\"#fb9f3a\"],[0.8888888888888888,\"#fdca26\"],[1.0,\"#f0f921\"]],\"type\":\"surface\"}],\"table\":[{\"cells\":{\"fill\":{\"color\":\"#EBF0F8\"},\"line\":{\"color\":\"white\"}},\"header\":{\"fill\":{\"color\":\"#C8D4E3\"},\"line\":{\"color\":\"white\"}},\"type\":\"table\"}]},\"layout\":{\"annotationdefaults\":{\"arrowcolor\":\"#2a3f5f\",\"arrowhead\":0,\"arrowwidth\":1},\"autotypenumbers\":\"strict\",\"coloraxis\":{\"colorbar\":{\"outlinewidth\":0,\"ticks\":\"\"}},\"colorscale\":{\"diverging\":[[0,\"#8e0152\"],[0.1,\"#c51b7d\"],[0.2,\"#de77ae\"],[0.3,\"#f1b6da\"],[0.4,\"#fde0ef\"],[0.5,\"#f7f7f7\"],[0.6,\"#e6f5d0\"],[0.7,\"#b8e186\"],[0.8,\"#7fbc41\"],[0.9,\"#4d9221\"],[1,\"#276419\"]],\"sequential\":[[0.0,\"#0d0887\"],[0.1111111111111111,\"#46039f\"],[0.2222222222222222,\"#7201a8\"],[0.3333333333333333,\"#9c179e\"],[0.4444444444444444,\"#bd3786\"],[0.5555555555555556,\"#d8576b\"],[0.6666666666666666,\"#ed7953\"],[0.7777777777777778,\"#fb9f3a\"],[0.8888888888888888,\"#fdca26\"],[1.0,\"#f0f921\"]],\"sequentialminus\":[[0.0,\"#0d0887\"],[0.1111111111111111,\"#46039f\"],[0.2222222222222222,\"#7201a8\"],[0.3333333333333333,\"#9c179e\"],[0.4444444444444444,\"#bd3786\"],[0.5555555555555556,\"#d8576b\"],[0.6666666666666666,\"#ed7953\"],[0.7777777777777778,\"#fb9f3a\"],[0.8888888888888888,\"#fdca26\"],[1.0,\"#f0f921\"]]},\"colorway\":[\"#636efa\",\"#EF553B\",\"#00cc96\",\"#ab63fa\",\"#FFA15A\",\"#19d3f3\",\"#FF6692\",\"#B6E880\",\"#FF97FF\",\"#FECB52\"],\"font\":{\"color\":\"#2a3f5f\"},\"geo\":{\"bgcolor\":\"white\",\"lakecolor\":\"white\",\"landcolor\":\"#E5ECF6\",\"showlakes\":true,\"showland\":true,\"subunitcolor\":\"white\"},\"hoverlabel\":{\"align\":\"left\"},\"hovermode\":\"closest\",\"mapbox\":{\"style\":\"light\"},\"paper_bgcolor\":\"white\",\"plot_bgcolor\":\"#E5ECF6\",\"polar\":{\"angularaxis\":{\"gridcolor\":\"white\",\"linecolor\":\"white\",\"ticks\":\"\"},\"bgcolor\":\"#E5ECF6\",\"radialaxis\":{\"gridcolor\":\"white\",\"linecolor\":\"white\",\"ticks\":\"\"}},\"scene\":{\"xaxis\":{\"backgroundcolor\":\"#E5ECF6\",\"gridcolor\":\"white\",\"gridwidth\":2,\"linecolor\":\"white\",\"showbackground\":true,\"ticks\":\"\",\"zerolinecolor\":\"white\"},\"yaxis\":{\"backgroundcolor\":\"#E5ECF6\",\"gridcolor\":\"white\",\"gridwidth\":2,\"linecolor\":\"white\",\"showbackground\":true,\"ticks\":\"\",\"zerolinecolor\":\"white\"},\"zaxis\":{\"backgroundcolor\":\"#E5ECF6\",\"gridcolor\":\"white\",\"gridwidth\":2,\"linecolor\":\"white\",\"showbackground\":true,\"ticks\":\"\",\"zerolinecolor\":\"white\"}},\"shapedefaults\":{\"line\":{\"color\":\"#2a3f5f\"}},\"ternary\":{\"aaxis\":{\"gridcolor\":\"white\",\"linecolor\":\"white\",\"ticks\":\"\"},\"baxis\":{\"gridcolor\":\"white\",\"linecolor\":\"white\",\"ticks\":\"\"},\"bgcolor\":\"#E5ECF6\",\"caxis\":{\"gridcolor\":\"white\",\"linecolor\":\"white\",\"ticks\":\"\"}},\"title\":{\"x\":0.05},\"xaxis\":{\"automargin\":true,\"gridcolor\":\"white\",\"linecolor\":\"white\",\"ticks\":\"\",\"title\":{\"standoff\":15},\"zerolinecolor\":\"white\",\"zerolinewidth\":2},\"yaxis\":{\"automargin\":true,\"gridcolor\":\"white\",\"linecolor\":\"white\",\"ticks\":\"\",\"title\":{\"standoff\":15},\"zerolinecolor\":\"white\",\"zerolinewidth\":2}}},\"xaxis\":{\"anchor\":\"y\",\"domain\":[0.0,1.0],\"title\":{\"text\":\"model\"}},\"yaxis\":{\"anchor\":\"x\",\"domain\":[0.0,1.0],\"title\":{\"text\":\"value\"}},\"legend\":{\"tracegroupgap\":0},\"title\":{\"text\":\"Scores based on distributed representations\"},\"barmode\":\"relative\",\"height\":500,\"width\":700},                        {\"responsive\": true}                    ).then(function(){\n",
              "                            \n",
              "var gd = document.getElementById('72d9b805-d8d7-4d76-99e9-4d55f347a7f3');\n",
              "var x = new MutationObserver(function (mutations, observer) {{\n",
              "        var display = window.getComputedStyle(gd).display;\n",
              "        if (!display || display === 'none') {{\n",
              "            console.log([gd, 'removed!']);\n",
              "            Plotly.purge(gd);\n",
              "            observer.disconnect();\n",
              "        }}\n",
              "}});\n",
              "\n",
              "// Listen for the removal of the full notebook cells\n",
              "var notebookContainer = gd.closest('#notebook-container');\n",
              "if (notebookContainer) {{\n",
              "    x.observe(notebookContainer, {childList: true});\n",
              "}}\n",
              "\n",
              "// Listen for the clearing of the current output cell\n",
              "var outputEl = gd.closest('.output');\n",
              "if (outputEl) {{\n",
              "    x.observe(outputEl, {childList: true});\n",
              "}}\n",
              "\n",
              "                        })                };                            </script>        </div>\n",
              "</body>\n",
              "</html>"
            ]
          },
          "metadata": {}
        }
      ]
    },
    {
      "cell_type": "code",
      "source": [],
      "metadata": {
        "id": "e0uD5gH3dkwA"
      },
      "execution_count": null,
      "outputs": []
    }
  ],
  "metadata": {
    "colab": {
      "provenance": [],
      "collapsed_sections": [
        "5ZxcPfLTDMVO",
        "ZuMBHSiDDMVR",
        "5BNIa1miDMVU",
        "qKU2D29CDMVV",
        "4N86AaGNDMVa",
        "zuaKAGIWDMVb"
      ]
    },
    "kernelspec": {
      "display_name": "Python 3",
      "language": "python",
      "name": "python3"
    },
    "language_info": {
      "codemirror_mode": {
        "name": "ipython",
        "version": 3
      },
      "file_extension": ".py",
      "mimetype": "text/x-python",
      "name": "python",
      "nbconvert_exporter": "python",
      "pygments_lexer": "ipython3",
      "version": "3.8.5"
    }
  },
  "nbformat": 4,
  "nbformat_minor": 0
}